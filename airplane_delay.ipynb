{
  "cells": [
    {
      "cell_type": "markdown",
      "metadata": {
        "id": "Do6ytByxtTX3"
      },
      "source": [
        "\n",
        "# 필요 라이브러리 구축 \n"
      ]
    },
    {
      "cell_type": "code",
      "execution_count": null,
      "metadata": {
        "id": "-ckQBJTt4WEi"
      },
      "outputs": [],
      "source": [
        "import pandas as pd\n",
        "import numpy as np\n",
        "import random\n",
        "import os\n",
        "import gc\n",
        "\n",
        "from sklearn.ensemble import RandomForestClassifier, AdaBoostClassifier\n",
        "from sklearn.preprocessing import LabelEncoder\n",
        "from sklearn.linear_model import LogisticRegression, SGDClassifier\n",
        "import xgboost as xgb\n",
        "\n",
        "from sklearn.calibration import CalibratedClassifierCV\n",
        "\n",
        "from sklearn.metrics import accuracy_score, f1_score, precision_score, recall_score\n"
      ]
    },
    {
      "cell_type": "code",
      "execution_count": null,
      "metadata": {
        "id": "3D2iIjoGf0Mo"
      },
      "outputs": [],
      "source": [
        "from sklearn.model_selection import KFold, GridSearchCV\n",
        "from xgboost import XGBClassifier\n",
        "\n",
        "from sklearn.ensemble import VotingClassifier"
      ]
    },
    {
      "cell_type": "code",
      "execution_count": null,
      "metadata": {
        "id": "NzxoRb1Qxx7r"
      },
      "outputs": [],
      "source": [
        "from sklearn.naive_bayes import GaussianNB"
      ]
    },
    {
      "cell_type": "code",
      "execution_count": null,
      "metadata": {
        "id": "HarrRc7Ng3jp"
      },
      "outputs": [],
      "source": [
        "from lightgbm import LGBMClassifier"
      ]
    },
    {
      "cell_type": "code",
      "execution_count": null,
      "metadata": {
        "id": "8hA27ktM6gFR"
      },
      "outputs": [],
      "source": [
        "import seaborn as sns"
      ]
    },
    {
      "cell_type": "code",
      "execution_count": null,
      "metadata": {
        "colab": {
          "base_uri": "https://localhost:8080/"
        },
        "id": "Dw-5CrjNQuar",
        "outputId": "8259a787-b431-43fa-9438-88737c0f8a37"
      },
      "outputs": [
        {
          "output_type": "stream",
          "name": "stdout",
          "text": [
            "Mounted at /content/drive\n"
          ]
        }
      ],
      "source": [
        "from google.colab import drive \n",
        "drive.mount('/content/drive')"
      ]
    },
    {
      "cell_type": "code",
      "execution_count": null,
      "metadata": {
        "id": "YS7Y3UUy40KE"
      },
      "outputs": [],
      "source": [
        "def seed_everything(seed):\n",
        "    random.seed(seed)\n",
        "    os.environ['PYTHONHASHSEED'] = str(seed)\n",
        "    np.random.seed(seed)\n",
        "seed_everything(42) # Seed 고정"
      ]
    },
    {
      "cell_type": "code",
      "execution_count": null,
      "metadata": {
        "id": "1B4Mghlo40eS"
      },
      "outputs": [],
      "source": [
        "def csv_to_parquet(csv_path, save_name):\n",
        "    df = pd.read_csv(csv_path)\n",
        "    df.to_parquet(f'./{save_name}.parquet')\n",
        "    del df\n",
        "    gc.collect()\n",
        "    print(save_name, 'Done.')"
      ]
    },
    {
      "cell_type": "code",
      "execution_count": null,
      "metadata": {
        "colab": {
          "base_uri": "https://localhost:8080/"
        },
        "id": "vsU-PtVK43ej",
        "outputId": "0a190dbd-e20c-4626-c67b-c7d113544718"
      },
      "outputs": [
        {
          "output_type": "stream",
          "name": "stdout",
          "text": [
            "train Done.\n",
            "test Done.\n"
          ]
        }
      ],
      "source": [
        "csv_to_parquet('/content/drive/MyDrive/dacon/train.csv', 'train')\n",
        "csv_to_parquet('/content/drive/MyDrive/dacon/test.csv', 'test')"
      ]
    },
    {
      "cell_type": "code",
      "execution_count": null,
      "metadata": {
        "id": "w5jfEprf4-en"
      },
      "outputs": [],
      "source": [
        "train = pd.read_parquet('/content/train.parquet')\n",
        "test = pd.read_parquet('/content/test.parquet')\n",
        "sample_submission = pd.read_csv('/content/drive/MyDrive/dacon/sample_submission.csv', index_col = 0)"
      ]
    },
    {
      "cell_type": "markdown",
      "metadata": {
        "id": "y1VaK3j15GO_"
      },
      "source": [
        "##EDA"
      ]
    },
    {
      "cell_type": "code",
      "execution_count": null,
      "metadata": {
        "colab": {
          "base_uri": "https://localhost:8080/"
        },
        "id": "2NgBGNUb5BXr",
        "outputId": "8f6556e9-126b-47a6-806a-3310d3333408"
      },
      "outputs": [
        {
          "output_type": "stream",
          "name": "stdout",
          "text": [
            "<class 'pandas.core.frame.DataFrame'>\n",
            "RangeIndex: 1000000 entries, 0 to 999999\n",
            "Data columns (total 19 columns):\n",
            " #   Column                    Non-Null Count    Dtype  \n",
            "---  ------                    --------------    -----  \n",
            " 0   ID                        1000000 non-null  object \n",
            " 1   Month                     1000000 non-null  int64  \n",
            " 2   Day_of_Month              1000000 non-null  int64  \n",
            " 3   Estimated_Departure_Time  890981 non-null   float64\n",
            " 4   Estimated_Arrival_Time    890960 non-null   float64\n",
            " 5   Cancelled                 1000000 non-null  int64  \n",
            " 6   Diverted                  1000000 non-null  int64  \n",
            " 7   Origin_Airport            1000000 non-null  object \n",
            " 8   Origin_Airport_ID         1000000 non-null  int64  \n",
            " 9   Origin_State              890985 non-null   object \n",
            " 10  Destination_Airport       1000000 non-null  object \n",
            " 11  Destination_Airport_ID    1000000 non-null  int64  \n",
            " 12  Destination_State         890921 non-null   object \n",
            " 13  Distance                  1000000 non-null  float64\n",
            " 14  Airline                   891080 non-null   object \n",
            " 15  Carrier_Code(IATA)        891010 non-null   object \n",
            " 16  Carrier_ID(DOT)           891003 non-null   float64\n",
            " 17  Tail_Number               1000000 non-null  object \n",
            " 18  Delay                     255001 non-null   object \n",
            "dtypes: float64(4), int64(6), object(9)\n",
            "memory usage: 145.0+ MB\n"
          ]
        }
      ],
      "source": [
        "train.info()"
      ]
    },
    {
      "cell_type": "code",
      "execution_count": null,
      "metadata": {
        "colab": {
          "base_uri": "https://localhost:8080/"
        },
        "id": "HIztCEyJ5Cgq",
        "outputId": "e14db71d-2e3f-4b45-ac9f-64a9b85f04e4"
      },
      "outputs": [
        {
          "output_type": "stream",
          "name": "stdout",
          "text": [
            "<class 'pandas.core.frame.DataFrame'>\n",
            "RangeIndex: 1000000 entries, 0 to 999999\n",
            "Data columns (total 18 columns):\n",
            " #   Column                    Non-Null Count    Dtype  \n",
            "---  ------                    --------------    -----  \n",
            " 0   ID                        1000000 non-null  object \n",
            " 1   Month                     1000000 non-null  int64  \n",
            " 2   Day_of_Month              1000000 non-null  int64  \n",
            " 3   Estimated_Departure_Time  891016 non-null   float64\n",
            " 4   Estimated_Arrival_Time    890952 non-null   float64\n",
            " 5   Cancelled                 1000000 non-null  int64  \n",
            " 6   Diverted                  1000000 non-null  int64  \n",
            " 7   Origin_Airport            1000000 non-null  object \n",
            " 8   Origin_Airport_ID         1000000 non-null  int64  \n",
            " 9   Origin_State              893495 non-null   object \n",
            " 10  Destination_Airport       1000000 non-null  object \n",
            " 11  Destination_Airport_ID    1000000 non-null  int64  \n",
            " 12  Destination_State         893477 non-null   object \n",
            " 13  Distance                  1000000 non-null  float64\n",
            " 14  Airline                   893473 non-null   object \n",
            " 15  Carrier_Code(IATA)        891007 non-null   object \n",
            " 16  Carrier_ID(DOT)           890994 non-null   float64\n",
            " 17  Tail_Number               1000000 non-null  object \n",
            "dtypes: float64(4), int64(6), object(8)\n",
            "memory usage: 137.3+ MB\n"
          ]
        }
      ],
      "source": [
        "test.info()"
      ]
    },
    {
      "cell_type": "code",
      "execution_count": null,
      "metadata": {
        "colab": {
          "base_uri": "https://localhost:8080/"
        },
        "id": "DpbtF3M5-i5q",
        "outputId": "fddddb54-f9a5-4d3b-861a-5368ae1b790a"
      },
      "outputs": [
        {
          "output_type": "execute_result",
          "data": {
            "text/plain": [
              "['Estimated_Departure_Time ',\n",
              " 'Estimated_Arrival_Time',\n",
              " 'Origin_State',\n",
              " 'Destination_State',\n",
              " 'Airline',\n",
              " 'Carrier_Code(IATA)',\n",
              " 'Carrier_ID(DOT)',\n",
              " 'Tail_Number']"
            ]
          },
          "metadata": {},
          "execution_count": 13
        }
      ],
      "source": [
        "# 누락값이 존재하는 행들 \n",
        "['Estimated_Departure_Time ',  'Estimated_Arrival_Time', 'Origin_State', 'Destination_State', 'Airline', 'Carrier_Code(IATA)', 'Carrier_ID(DOT)', 'Tail_Number']"
      ]
    },
    {
      "cell_type": "code",
      "execution_count": null,
      "metadata": {
        "colab": {
          "base_uri": "https://localhost:8080/",
          "height": 748
        },
        "id": "rhZ3BrsB85DC",
        "outputId": "566c081a-b401-46c3-9b48-b6bee10cacc6"
      },
      "outputs": [
        {
          "output_type": "execute_result",
          "data": {
            "text/plain": [
              "                  ID  Month  Day_of_Month  Estimated_Departure_Time  \\\n",
              "0       TRAIN_000000      4            15                       NaN   \n",
              "1       TRAIN_000001      8            15                     740.0   \n",
              "2       TRAIN_000002      9             6                    1610.0   \n",
              "3       TRAIN_000003      7            10                     905.0   \n",
              "4       TRAIN_000004      1            11                     900.0   \n",
              "...              ...    ...           ...                       ...   \n",
              "999995  TRAIN_999995      9            18                     936.0   \n",
              "999996  TRAIN_999996      5            30                     920.0   \n",
              "999997  TRAIN_999997      6            28                     800.0   \n",
              "999998  TRAIN_999998      9            27                    1613.0   \n",
              "999999  TRAIN_999999      3            26                    1800.0   \n",
              "\n",
              "        Estimated_Arrival_Time  Cancelled  Diverted Origin_Airport  \\\n",
              "0                          NaN          0         0            OKC   \n",
              "1                       1024.0          0         0            ORD   \n",
              "2                       1805.0          0         0            CLT   \n",
              "3                       1735.0          0         0            LAX   \n",
              "4                       1019.0          0         0            SFO   \n",
              "...                        ...        ...       ...            ...   \n",
              "999995                  1243.0          0         0            ORD   \n",
              "999996                  1028.0          0         0            FAR   \n",
              "999997                  1340.0          0         0            OAK   \n",
              "999998                  1824.0          0         0            BNA   \n",
              "999999                  2056.0          0         0            RSW   \n",
              "\n",
              "        Origin_Airport_ID    Origin_State Destination_Airport  \\\n",
              "0                   13851        Oklahoma                 HOU   \n",
              "1                   13930        Illinois                 SLC   \n",
              "2                   11057  North Carolina                 LGA   \n",
              "3                   12892      California                 EWR   \n",
              "4                   14771      California                 ACV   \n",
              "...                   ...             ...                 ...   \n",
              "999995              13930            None                 PHL   \n",
              "999996              11637            None                 MSP   \n",
              "999997              13796            None                 HOU   \n",
              "999998              10693       Tennessee                 ATL   \n",
              "999999              14635         Florida                 DTW   \n",
              "\n",
              "        Destination_Airport_ID Destination_State  Distance  \\\n",
              "0                        12191             Texas     419.0   \n",
              "1                        14869              Utah    1250.0   \n",
              "2                        12953          New York     544.0   \n",
              "3                        11618        New Jersey    2454.0   \n",
              "4                        10157        California     250.0   \n",
              "...                        ...               ...       ...   \n",
              "999995                   14100              None     678.0   \n",
              "999996                   13487         Minnesota     223.0   \n",
              "999997                   12191             Texas    1642.0   \n",
              "999998                   10397              None     214.0   \n",
              "999999                   11433          Michigan    1084.0   \n",
              "\n",
              "                       Airline Carrier_Code(IATA)  Carrier_ID(DOT)  \\\n",
              "0       Southwest Airlines Co.                 WN          19393.0   \n",
              "1        SkyWest Airlines Inc.                 UA          20304.0   \n",
              "2       American Airlines Inc.                 AA          19805.0   \n",
              "3        United Air Lines Inc.                 UA              NaN   \n",
              "4        SkyWest Airlines Inc.                 UA          20304.0   \n",
              "...                        ...                ...              ...   \n",
              "999995   United Air Lines Inc.                 UA          19977.0   \n",
              "999996   SkyWest Airlines Inc.                 DL              NaN   \n",
              "999997  Southwest Airlines Co.                 WN          19393.0   \n",
              "999998    Delta Air Lines Inc.                 DL          19790.0   \n",
              "999999                    None                 DL          19790.0   \n",
              "\n",
              "       Tail_Number Delay  \n",
              "0           N7858A  None  \n",
              "1           N125SY  None  \n",
              "2           N103US  None  \n",
              "3           N595UA  None  \n",
              "4           N161SY  None  \n",
              "...            ...   ...  \n",
              "999995      N477UA  None  \n",
              "999996      N439SW  None  \n",
              "999997      N230WN  None  \n",
              "999998      N968DL  None  \n",
              "999999      N695DL  None  \n",
              "\n",
              "[1000000 rows x 19 columns]"
            ],
            "text/html": [
              "\n",
              "  <div id=\"df-246195d7-daff-4e43-8836-4fb55ef3f493\">\n",
              "    <div class=\"colab-df-container\">\n",
              "      <div>\n",
              "<style scoped>\n",
              "    .dataframe tbody tr th:only-of-type {\n",
              "        vertical-align: middle;\n",
              "    }\n",
              "\n",
              "    .dataframe tbody tr th {\n",
              "        vertical-align: top;\n",
              "    }\n",
              "\n",
              "    .dataframe thead th {\n",
              "        text-align: right;\n",
              "    }\n",
              "</style>\n",
              "<table border=\"1\" class=\"dataframe\">\n",
              "  <thead>\n",
              "    <tr style=\"text-align: right;\">\n",
              "      <th></th>\n",
              "      <th>ID</th>\n",
              "      <th>Month</th>\n",
              "      <th>Day_of_Month</th>\n",
              "      <th>Estimated_Departure_Time</th>\n",
              "      <th>Estimated_Arrival_Time</th>\n",
              "      <th>Cancelled</th>\n",
              "      <th>Diverted</th>\n",
              "      <th>Origin_Airport</th>\n",
              "      <th>Origin_Airport_ID</th>\n",
              "      <th>Origin_State</th>\n",
              "      <th>Destination_Airport</th>\n",
              "      <th>Destination_Airport_ID</th>\n",
              "      <th>Destination_State</th>\n",
              "      <th>Distance</th>\n",
              "      <th>Airline</th>\n",
              "      <th>Carrier_Code(IATA)</th>\n",
              "      <th>Carrier_ID(DOT)</th>\n",
              "      <th>Tail_Number</th>\n",
              "      <th>Delay</th>\n",
              "    </tr>\n",
              "  </thead>\n",
              "  <tbody>\n",
              "    <tr>\n",
              "      <th>0</th>\n",
              "      <td>TRAIN_000000</td>\n",
              "      <td>4</td>\n",
              "      <td>15</td>\n",
              "      <td>NaN</td>\n",
              "      <td>NaN</td>\n",
              "      <td>0</td>\n",
              "      <td>0</td>\n",
              "      <td>OKC</td>\n",
              "      <td>13851</td>\n",
              "      <td>Oklahoma</td>\n",
              "      <td>HOU</td>\n",
              "      <td>12191</td>\n",
              "      <td>Texas</td>\n",
              "      <td>419.0</td>\n",
              "      <td>Southwest Airlines Co.</td>\n",
              "      <td>WN</td>\n",
              "      <td>19393.0</td>\n",
              "      <td>N7858A</td>\n",
              "      <td>None</td>\n",
              "    </tr>\n",
              "    <tr>\n",
              "      <th>1</th>\n",
              "      <td>TRAIN_000001</td>\n",
              "      <td>8</td>\n",
              "      <td>15</td>\n",
              "      <td>740.0</td>\n",
              "      <td>1024.0</td>\n",
              "      <td>0</td>\n",
              "      <td>0</td>\n",
              "      <td>ORD</td>\n",
              "      <td>13930</td>\n",
              "      <td>Illinois</td>\n",
              "      <td>SLC</td>\n",
              "      <td>14869</td>\n",
              "      <td>Utah</td>\n",
              "      <td>1250.0</td>\n",
              "      <td>SkyWest Airlines Inc.</td>\n",
              "      <td>UA</td>\n",
              "      <td>20304.0</td>\n",
              "      <td>N125SY</td>\n",
              "      <td>None</td>\n",
              "    </tr>\n",
              "    <tr>\n",
              "      <th>2</th>\n",
              "      <td>TRAIN_000002</td>\n",
              "      <td>9</td>\n",
              "      <td>6</td>\n",
              "      <td>1610.0</td>\n",
              "      <td>1805.0</td>\n",
              "      <td>0</td>\n",
              "      <td>0</td>\n",
              "      <td>CLT</td>\n",
              "      <td>11057</td>\n",
              "      <td>North Carolina</td>\n",
              "      <td>LGA</td>\n",
              "      <td>12953</td>\n",
              "      <td>New York</td>\n",
              "      <td>544.0</td>\n",
              "      <td>American Airlines Inc.</td>\n",
              "      <td>AA</td>\n",
              "      <td>19805.0</td>\n",
              "      <td>N103US</td>\n",
              "      <td>None</td>\n",
              "    </tr>\n",
              "    <tr>\n",
              "      <th>3</th>\n",
              "      <td>TRAIN_000003</td>\n",
              "      <td>7</td>\n",
              "      <td>10</td>\n",
              "      <td>905.0</td>\n",
              "      <td>1735.0</td>\n",
              "      <td>0</td>\n",
              "      <td>0</td>\n",
              "      <td>LAX</td>\n",
              "      <td>12892</td>\n",
              "      <td>California</td>\n",
              "      <td>EWR</td>\n",
              "      <td>11618</td>\n",
              "      <td>New Jersey</td>\n",
              "      <td>2454.0</td>\n",
              "      <td>United Air Lines Inc.</td>\n",
              "      <td>UA</td>\n",
              "      <td>NaN</td>\n",
              "      <td>N595UA</td>\n",
              "      <td>None</td>\n",
              "    </tr>\n",
              "    <tr>\n",
              "      <th>4</th>\n",
              "      <td>TRAIN_000004</td>\n",
              "      <td>1</td>\n",
              "      <td>11</td>\n",
              "      <td>900.0</td>\n",
              "      <td>1019.0</td>\n",
              "      <td>0</td>\n",
              "      <td>0</td>\n",
              "      <td>SFO</td>\n",
              "      <td>14771</td>\n",
              "      <td>California</td>\n",
              "      <td>ACV</td>\n",
              "      <td>10157</td>\n",
              "      <td>California</td>\n",
              "      <td>250.0</td>\n",
              "      <td>SkyWest Airlines Inc.</td>\n",
              "      <td>UA</td>\n",
              "      <td>20304.0</td>\n",
              "      <td>N161SY</td>\n",
              "      <td>None</td>\n",
              "    </tr>\n",
              "    <tr>\n",
              "      <th>...</th>\n",
              "      <td>...</td>\n",
              "      <td>...</td>\n",
              "      <td>...</td>\n",
              "      <td>...</td>\n",
              "      <td>...</td>\n",
              "      <td>...</td>\n",
              "      <td>...</td>\n",
              "      <td>...</td>\n",
              "      <td>...</td>\n",
              "      <td>...</td>\n",
              "      <td>...</td>\n",
              "      <td>...</td>\n",
              "      <td>...</td>\n",
              "      <td>...</td>\n",
              "      <td>...</td>\n",
              "      <td>...</td>\n",
              "      <td>...</td>\n",
              "      <td>...</td>\n",
              "      <td>...</td>\n",
              "    </tr>\n",
              "    <tr>\n",
              "      <th>999995</th>\n",
              "      <td>TRAIN_999995</td>\n",
              "      <td>9</td>\n",
              "      <td>18</td>\n",
              "      <td>936.0</td>\n",
              "      <td>1243.0</td>\n",
              "      <td>0</td>\n",
              "      <td>0</td>\n",
              "      <td>ORD</td>\n",
              "      <td>13930</td>\n",
              "      <td>None</td>\n",
              "      <td>PHL</td>\n",
              "      <td>14100</td>\n",
              "      <td>None</td>\n",
              "      <td>678.0</td>\n",
              "      <td>United Air Lines Inc.</td>\n",
              "      <td>UA</td>\n",
              "      <td>19977.0</td>\n",
              "      <td>N477UA</td>\n",
              "      <td>None</td>\n",
              "    </tr>\n",
              "    <tr>\n",
              "      <th>999996</th>\n",
              "      <td>TRAIN_999996</td>\n",
              "      <td>5</td>\n",
              "      <td>30</td>\n",
              "      <td>920.0</td>\n",
              "      <td>1028.0</td>\n",
              "      <td>0</td>\n",
              "      <td>0</td>\n",
              "      <td>FAR</td>\n",
              "      <td>11637</td>\n",
              "      <td>None</td>\n",
              "      <td>MSP</td>\n",
              "      <td>13487</td>\n",
              "      <td>Minnesota</td>\n",
              "      <td>223.0</td>\n",
              "      <td>SkyWest Airlines Inc.</td>\n",
              "      <td>DL</td>\n",
              "      <td>NaN</td>\n",
              "      <td>N439SW</td>\n",
              "      <td>None</td>\n",
              "    </tr>\n",
              "    <tr>\n",
              "      <th>999997</th>\n",
              "      <td>TRAIN_999997</td>\n",
              "      <td>6</td>\n",
              "      <td>28</td>\n",
              "      <td>800.0</td>\n",
              "      <td>1340.0</td>\n",
              "      <td>0</td>\n",
              "      <td>0</td>\n",
              "      <td>OAK</td>\n",
              "      <td>13796</td>\n",
              "      <td>None</td>\n",
              "      <td>HOU</td>\n",
              "      <td>12191</td>\n",
              "      <td>Texas</td>\n",
              "      <td>1642.0</td>\n",
              "      <td>Southwest Airlines Co.</td>\n",
              "      <td>WN</td>\n",
              "      <td>19393.0</td>\n",
              "      <td>N230WN</td>\n",
              "      <td>None</td>\n",
              "    </tr>\n",
              "    <tr>\n",
              "      <th>999998</th>\n",
              "      <td>TRAIN_999998</td>\n",
              "      <td>9</td>\n",
              "      <td>27</td>\n",
              "      <td>1613.0</td>\n",
              "      <td>1824.0</td>\n",
              "      <td>0</td>\n",
              "      <td>0</td>\n",
              "      <td>BNA</td>\n",
              "      <td>10693</td>\n",
              "      <td>Tennessee</td>\n",
              "      <td>ATL</td>\n",
              "      <td>10397</td>\n",
              "      <td>None</td>\n",
              "      <td>214.0</td>\n",
              "      <td>Delta Air Lines Inc.</td>\n",
              "      <td>DL</td>\n",
              "      <td>19790.0</td>\n",
              "      <td>N968DL</td>\n",
              "      <td>None</td>\n",
              "    </tr>\n",
              "    <tr>\n",
              "      <th>999999</th>\n",
              "      <td>TRAIN_999999</td>\n",
              "      <td>3</td>\n",
              "      <td>26</td>\n",
              "      <td>1800.0</td>\n",
              "      <td>2056.0</td>\n",
              "      <td>0</td>\n",
              "      <td>0</td>\n",
              "      <td>RSW</td>\n",
              "      <td>14635</td>\n",
              "      <td>Florida</td>\n",
              "      <td>DTW</td>\n",
              "      <td>11433</td>\n",
              "      <td>Michigan</td>\n",
              "      <td>1084.0</td>\n",
              "      <td>None</td>\n",
              "      <td>DL</td>\n",
              "      <td>19790.0</td>\n",
              "      <td>N695DL</td>\n",
              "      <td>None</td>\n",
              "    </tr>\n",
              "  </tbody>\n",
              "</table>\n",
              "<p>1000000 rows × 19 columns</p>\n",
              "</div>\n",
              "      <button class=\"colab-df-convert\" onclick=\"convertToInteractive('df-246195d7-daff-4e43-8836-4fb55ef3f493')\"\n",
              "              title=\"Convert this dataframe to an interactive table.\"\n",
              "              style=\"display:none;\">\n",
              "        \n",
              "  <svg xmlns=\"http://www.w3.org/2000/svg\" height=\"24px\"viewBox=\"0 0 24 24\"\n",
              "       width=\"24px\">\n",
              "    <path d=\"M0 0h24v24H0V0z\" fill=\"none\"/>\n",
              "    <path d=\"M18.56 5.44l.94 2.06.94-2.06 2.06-.94-2.06-.94-.94-2.06-.94 2.06-2.06.94zm-11 1L8.5 8.5l.94-2.06 2.06-.94-2.06-.94L8.5 2.5l-.94 2.06-2.06.94zm10 10l.94 2.06.94-2.06 2.06-.94-2.06-.94-.94-2.06-.94 2.06-2.06.94z\"/><path d=\"M17.41 7.96l-1.37-1.37c-.4-.4-.92-.59-1.43-.59-.52 0-1.04.2-1.43.59L10.3 9.45l-7.72 7.72c-.78.78-.78 2.05 0 2.83L4 21.41c.39.39.9.59 1.41.59.51 0 1.02-.2 1.41-.59l7.78-7.78 2.81-2.81c.8-.78.8-2.07 0-2.86zM5.41 20L4 18.59l7.72-7.72 1.47 1.35L5.41 20z\"/>\n",
              "  </svg>\n",
              "      </button>\n",
              "      \n",
              "  <style>\n",
              "    .colab-df-container {\n",
              "      display:flex;\n",
              "      flex-wrap:wrap;\n",
              "      gap: 12px;\n",
              "    }\n",
              "\n",
              "    .colab-df-convert {\n",
              "      background-color: #E8F0FE;\n",
              "      border: none;\n",
              "      border-radius: 50%;\n",
              "      cursor: pointer;\n",
              "      display: none;\n",
              "      fill: #1967D2;\n",
              "      height: 32px;\n",
              "      padding: 0 0 0 0;\n",
              "      width: 32px;\n",
              "    }\n",
              "\n",
              "    .colab-df-convert:hover {\n",
              "      background-color: #E2EBFA;\n",
              "      box-shadow: 0px 1px 2px rgba(60, 64, 67, 0.3), 0px 1px 3px 1px rgba(60, 64, 67, 0.15);\n",
              "      fill: #174EA6;\n",
              "    }\n",
              "\n",
              "    [theme=dark] .colab-df-convert {\n",
              "      background-color: #3B4455;\n",
              "      fill: #D2E3FC;\n",
              "    }\n",
              "\n",
              "    [theme=dark] .colab-df-convert:hover {\n",
              "      background-color: #434B5C;\n",
              "      box-shadow: 0px 1px 3px 1px rgba(0, 0, 0, 0.15);\n",
              "      filter: drop-shadow(0px 1px 2px rgba(0, 0, 0, 0.3));\n",
              "      fill: #FFFFFF;\n",
              "    }\n",
              "  </style>\n",
              "\n",
              "      <script>\n",
              "        const buttonEl =\n",
              "          document.querySelector('#df-246195d7-daff-4e43-8836-4fb55ef3f493 button.colab-df-convert');\n",
              "        buttonEl.style.display =\n",
              "          google.colab.kernel.accessAllowed ? 'block' : 'none';\n",
              "\n",
              "        async function convertToInteractive(key) {\n",
              "          const element = document.querySelector('#df-246195d7-daff-4e43-8836-4fb55ef3f493');\n",
              "          const dataTable =\n",
              "            await google.colab.kernel.invokeFunction('convertToInteractive',\n",
              "                                                     [key], {});\n",
              "          if (!dataTable) return;\n",
              "\n",
              "          const docLinkHtml = 'Like what you see? Visit the ' +\n",
              "            '<a target=\"_blank\" href=https://colab.research.google.com/notebooks/data_table.ipynb>data table notebook</a>'\n",
              "            + ' to learn more about interactive tables.';\n",
              "          element.innerHTML = '';\n",
              "          dataTable['output_type'] = 'display_data';\n",
              "          await google.colab.output.renderOutput(dataTable, element);\n",
              "          const docLink = document.createElement('div');\n",
              "          docLink.innerHTML = docLinkHtml;\n",
              "          element.appendChild(docLink);\n",
              "        }\n",
              "      </script>\n",
              "    </div>\n",
              "  </div>\n",
              "  "
            ]
          },
          "metadata": {},
          "execution_count": 14
        }
      ],
      "source": [
        "train"
      ]
    },
    {
      "cell_type": "code",
      "execution_count": null,
      "metadata": {
        "id": "4TRKc2jJ8WND"
      },
      "outputs": [],
      "source": [
        "train['Cancelled'].unique()\n",
        "\n",
        "#취소는 0밖에 없다는 것을 확인 할 수 있었다. 제외 하자 \n",
        "del train['Cancelled']"
      ]
    },
    {
      "cell_type": "code",
      "execution_count": null,
      "metadata": {
        "id": "ENjC3XHxoHpL"
      },
      "outputs": [],
      "source": [
        "del test['Cancelled']"
      ]
    },
    {
      "cell_type": "code",
      "execution_count": null,
      "metadata": {
        "colab": {
          "base_uri": "https://localhost:8080/"
        },
        "id": "P7k1EWfy8dLb",
        "outputId": "82dd5950-f6a3-40d4-f90e-caa00e0757e3"
      },
      "outputs": [
        {
          "output_type": "execute_result",
          "data": {
            "text/plain": [
              "array([0])"
            ]
          },
          "metadata": {},
          "execution_count": 17
        }
      ],
      "source": [
        "train['Diverted'].unique()\n",
        "\n",
        "#우회도 존재하지 않음.  제외 하자 "
      ]
    },
    {
      "cell_type": "code",
      "execution_count": null,
      "metadata": {
        "id": "fkvbMojGoE5E"
      },
      "outputs": [],
      "source": [
        "del train['Diverted']"
      ]
    },
    {
      "cell_type": "code",
      "execution_count": null,
      "metadata": {
        "id": "CxOLVjyKoKWr"
      },
      "outputs": [],
      "source": [
        "del test['Diverted']"
      ]
    },
    {
      "cell_type": "code",
      "execution_count": null,
      "metadata": {
        "colab": {
          "base_uri": "https://localhost:8080/"
        },
        "id": "TFe6QLbd8fva",
        "outputId": "5098bff9-8509-47a0-b22e-6b8be1ad20dd"
      },
      "outputs": [
        {
          "output_type": "execute_result",
          "data": {
            "text/plain": [
              "array([ 4,  8,  9,  7,  1,  6,  3, 12, 11,  5, 10,  2])"
            ]
          },
          "metadata": {},
          "execution_count": 20
        }
      ],
      "source": [
        "train['Month'].unique()"
      ]
    },
    {
      "cell_type": "code",
      "execution_count": null,
      "metadata": {
        "colab": {
          "base_uri": "https://localhost:8080/"
        },
        "id": "rEZFsW0ihR7V",
        "outputId": "18251bbc-7836-4f88-f7d1-11a9753c4823"
      },
      "outputs": [
        {
          "output_type": "execute_result",
          "data": {
            "text/plain": [
              "Index(['ID', 'Month', 'Day_of_Month', 'Estimated_Departure_Time',\n",
              "       'Estimated_Arrival_Time', 'Origin_Airport', 'Origin_Airport_ID',\n",
              "       'Origin_State', 'Destination_Airport', 'Destination_Airport_ID',\n",
              "       'Destination_State', 'Distance', 'Airline', 'Carrier_Code(IATA)',\n",
              "       'Carrier_ID(DOT)', 'Tail_Number', 'Delay'],\n",
              "      dtype='object')"
            ]
          },
          "metadata": {},
          "execution_count": 21
        }
      ],
      "source": [
        "train.columns"
      ]
    },
    {
      "cell_type": "code",
      "execution_count": null,
      "metadata": {
        "colab": {
          "base_uri": "https://localhost:8080/"
        },
        "id": "DPFFSXED5Nzs",
        "outputId": "e551d713-8635-4c2b-ba81-d46ba427ecf1"
      },
      "outputs": [
        {
          "output_type": "execute_result",
          "data": {
            "text/plain": [
              "array([None, 'Not_Delayed', 'Delayed'], dtype=object)"
            ]
          },
          "metadata": {},
          "execution_count": 22
        }
      ],
      "source": [
        "train['Delay'].unique()\n",
        "\n",
        "#Delay에 있는 결측치를 처리해야한다. \n",
        "#1. 같은 비행기를 타면 같은 결항일 것이다. \n",
        "#2. 특정 공항에서 전부 출발에 문제가 생겼다.\n",
        "#3. 특정 지역에 문제가 생겼다. \n",
        "#4. 똑같은 코스는 똑같은 시간을 걸릴것이다. "
      ]
    },
    {
      "cell_type": "code",
      "execution_count": null,
      "metadata": {
        "id": "hqAlGEwqjSRN"
      },
      "outputs": [],
      "source": [
        "# Day_of_Month: Month에 해당하는 월의 날짜\n",
        "# Estimated_Departure_Time: 전산 시스템을 바탕으로 측정된 비행기의 출발 시간 (HH:MM 형식)\n",
        "# Estimated_Arrival_Time: 전산 시스템을 바탕으로 측정된 비행기의 도착 시간 (HH:MM 형식)\n",
        "# Cancelled: 해당 항공편의 취소 여부 (0: 취소되지 않음, 1: 취소됨)\n",
        "# Diverted: 해당 항공편의 경유 여부 (0: 취소되지 않음, 1: 취소됨)\n",
        "# Origin_Airport: 해당 항공편 출발 공항의 고유 코드 (IATA 공항 코드)\n",
        "# Origin_Airport_ID: 해당 항공편 출발 공항의 고유 ID (US DOT ID)\n",
        "# Origin_State: 해당 항공편 출발 공항이 위치한 주의 이름\n",
        "# Destination_Airport: 해당 항공편 도착 공항의 고유 코드 (IATA 공항 코드)\n",
        "# Destination_Airport_ID: 해당 항공편 도착 공항의 고유 ID (US DOT ID)\n",
        "# Destination_State: 해당 항공편 도착 공항이 위치한 주의 이름\n",
        "# Distance: 출발 공항과 도착 공항 사이의 거리 (mile 단위)\n",
        "# Airline: 해당 항공편을 운항하는 항공사\n",
        "# Carrier_Code(IATA): 해당 항공편을 운항하는 항공사의 고유 코드 \n",
        "# (IATA 공항 코드, 단 다른 항공사가 같은 코드를 보유할 수도 있음)\n",
        "# Carrier_ID(DOT): 해당 항공편을 운항하는 항공사의 고유 ID (US DOT ID)\n",
        "# Tail_Number: 해당 항공편을 운항하는 항공기의 고유 등록번호\n",
        "# Delay: 항공편 지연 여부 (Not_Delayed, Delayed)"
      ]
    },
    {
      "cell_type": "markdown",
      "metadata": {
        "id": "GIBagTlN5-64"
      },
      "source": [
        "## Data Pre-processing"
      ]
    },
    {
      "cell_type": "markdown",
      "metadata": {
        "id": "QZBv75_-oroz"
      },
      "source": [
        "#### Origin_State 처리 "
      ]
    },
    {
      "cell_type": "code",
      "execution_count": null,
      "metadata": {
        "colab": {
          "base_uri": "https://localhost:8080/"
        },
        "id": "qCfv4o3h5kw8",
        "outputId": "6c573c87-c348-457d-e89e-3adbe36a1651"
      },
      "outputs": [
        {
          "output_type": "execute_result",
          "data": {
            "text/plain": [
              "109015"
            ]
          },
          "metadata": {},
          "execution_count": 23
        }
      ],
      "source": [
        "##Origin_State 처리 \n",
        "train['Origin_State'].isnull().sum()"
      ]
    },
    {
      "cell_type": "code",
      "execution_count": null,
      "metadata": {
        "id": "V8sV7krfjxBL"
      },
      "outputs": [],
      "source": [
        "#출발 공항이 같은 면 같은 공항의 위치를 가지고 있을 것이다. \n",
        "answer = {}\n",
        "for i in range(len(train['Origin_Airport'])):\n",
        "    if train['Origin_State'][i]:\n",
        "        answer[train['Origin_Airport'][i]] =train['Origin_State'][i]"
      ]
    },
    {
      "cell_type": "code",
      "execution_count": null,
      "metadata": {
        "colab": {
          "base_uri": "https://localhost:8080/"
        },
        "id": "wHQ138EmlJsN",
        "outputId": "5e5c391a-ab49-4794-a4f9-6cee0d79c9cc"
      },
      "outputs": [
        {
          "output_type": "execute_result",
          "data": {
            "text/plain": [
              "374"
            ]
          },
          "metadata": {},
          "execution_count": 25
        }
      ],
      "source": [
        "## 두개 없음! \n",
        "len(answer)"
      ]
    },
    {
      "cell_type": "code",
      "execution_count": null,
      "metadata": {
        "colab": {
          "base_uri": "https://localhost:8080/"
        },
        "id": "pHg_QaMdn0a-",
        "outputId": "a23a50f4-f9a6-49df-f623-472ea02270b4"
      },
      "outputs": [
        {
          "output_type": "execute_result",
          "data": {
            "text/plain": [
              "1000000"
            ]
          },
          "metadata": {},
          "execution_count": 26
        }
      ],
      "source": [
        "len(train['Origin_Airport'])"
      ]
    },
    {
      "cell_type": "code",
      "execution_count": null,
      "metadata": {
        "id": "CvmaHPaslxnb"
      },
      "outputs": [],
      "source": [
        "temp = []\n",
        "for i in range(len(train['Origin_Airport'])):\n",
        "    try:\n",
        "        temp.append(answer[train['Origin_Airport'][i]])\n",
        "    except:\n",
        "        temp.append('uknown')\n",
        "\n",
        "train['filled_Origin_State'] = temp"
      ]
    },
    {
      "cell_type": "code",
      "execution_count": null,
      "metadata": {
        "colab": {
          "base_uri": "https://localhost:8080/"
        },
        "id": "rPRVCYdInZx5",
        "outputId": "f023caf4-4aa6-4f79-b330-f6fd8a225281"
      },
      "outputs": [
        {
          "output_type": "execute_result",
          "data": {
            "text/plain": [
              "0"
            ]
          },
          "metadata": {},
          "execution_count": 28
        }
      ],
      "source": [
        "train['filled_Origin_State'].isnull().sum()"
      ]
    },
    {
      "cell_type": "code",
      "execution_count": null,
      "metadata": {
        "id": "GnfOLNW3jxDg"
      },
      "outputs": [],
      "source": [
        "del train['Origin_State']\n"
      ]
    },
    {
      "cell_type": "code",
      "execution_count": null,
      "metadata": {
        "id": "nKGEnOMUoXj5"
      },
      "outputs": [],
      "source": [
        "temp_1 = []\n",
        "for i in range(len(test['Origin_Airport'])):\n",
        "    try:\n",
        "        temp_1.append(answer[test['Origin_Airport'][i]])\n",
        "    except:\n",
        "        temp_1.append('uknown')\n",
        "\n",
        "test['filled_Origin_State'] = temp_1"
      ]
    },
    {
      "cell_type": "code",
      "execution_count": null,
      "metadata": {
        "colab": {
          "base_uri": "https://localhost:8080/"
        },
        "id": "rVCPKBcTofnl",
        "outputId": "40247b13-a3f7-4d44-c334-7cfb3ec3e2b5"
      },
      "outputs": [
        {
          "output_type": "execute_result",
          "data": {
            "text/plain": [
              "0"
            ]
          },
          "metadata": {},
          "execution_count": 31
        }
      ],
      "source": [
        "test['filled_Origin_State'].isnull().sum()"
      ]
    },
    {
      "cell_type": "code",
      "execution_count": null,
      "metadata": {
        "id": "ZSgicS7fohFP"
      },
      "outputs": [],
      "source": [
        "del test['Origin_State']\n"
      ]
    },
    {
      "cell_type": "markdown",
      "metadata": {
        "id": "wMWd99c_ovX2"
      },
      "source": [
        "#### Destination_State 처리"
      ]
    },
    {
      "cell_type": "code",
      "execution_count": null,
      "metadata": {
        "colab": {
          "base_uri": "https://localhost:8080/"
        },
        "id": "sbJOfm0Hoqte",
        "outputId": "4d2be940-226e-4968-8cf2-df2669b89e71"
      },
      "outputs": [
        {
          "output_type": "execute_result",
          "data": {
            "text/plain": [
              "109079"
            ]
          },
          "metadata": {},
          "execution_count": 33
        }
      ],
      "source": [
        "train['Destination_State'].isnull().sum()"
      ]
    },
    {
      "cell_type": "code",
      "execution_count": null,
      "metadata": {
        "id": "HSxxP6S7pGLY"
      },
      "outputs": [],
      "source": [
        "#출발 공항이 같은 면 같은 공항의 위치를 가지고 있을 것이다. \n",
        "answer_1 = {}\n",
        "for i in range(len(train['Destination_Airport'])):\n",
        "    if train['Destination_State'][i]:\n",
        "        answer_1[train['Destination_Airport'][i]] =train['Destination_State'][i]"
      ]
    },
    {
      "cell_type": "code",
      "execution_count": null,
      "metadata": {
        "colab": {
          "base_uri": "https://localhost:8080/"
        },
        "id": "avK57csMpGLY",
        "outputId": "635d0044-1a00-4d57-e4bc-e4f0d62dc95c"
      },
      "outputs": [
        {
          "output_type": "execute_result",
          "data": {
            "text/plain": [
              "374"
            ]
          },
          "metadata": {},
          "execution_count": 35
        }
      ],
      "source": [
        "## 두개 없음! \n",
        "len(answer_1)"
      ]
    },
    {
      "cell_type": "code",
      "execution_count": null,
      "metadata": {
        "id": "wYydEVw0pGLY"
      },
      "outputs": [],
      "source": [
        "temp = []\n",
        "for i in range(len(train['Destination_Airport'])):\n",
        "    try:\n",
        "        temp.append(answer_1[train['Destination_Airport'][i]])\n",
        "    except:\n",
        "        temp.append('uknown')\n",
        "\n",
        "train['filled_Destination_State'] = temp"
      ]
    },
    {
      "cell_type": "code",
      "execution_count": null,
      "metadata": {
        "colab": {
          "base_uri": "https://localhost:8080/"
        },
        "id": "RnA16pXQpGLY",
        "outputId": "2618ea44-5abe-4faa-9c09-ce9846647037"
      },
      "outputs": [
        {
          "output_type": "execute_result",
          "data": {
            "text/plain": [
              "0"
            ]
          },
          "metadata": {},
          "execution_count": 37
        }
      ],
      "source": [
        "train['filled_Destination_State'].isnull().sum()"
      ]
    },
    {
      "cell_type": "code",
      "execution_count": null,
      "metadata": {
        "id": "-uMhFHJzpfl7"
      },
      "outputs": [],
      "source": [
        "temp_1 = []\n",
        "for i in range(len(test['Origin_Airport'])):\n",
        "    try:\n",
        "        temp_1.append(answer_1[test['Origin_Airport'][i]])\n",
        "    except:\n",
        "        temp_1.append('uknown')\n",
        "\n",
        "test['filled_Destination_State'] = temp_1"
      ]
    },
    {
      "cell_type": "code",
      "execution_count": null,
      "metadata": {
        "colab": {
          "base_uri": "https://localhost:8080/"
        },
        "id": "13748cPMpjxY",
        "outputId": "eefdd5ea-ce7d-440b-cfd0-358d0bd5cc0b"
      },
      "outputs": [
        {
          "output_type": "execute_result",
          "data": {
            "text/plain": [
              "0"
            ]
          },
          "metadata": {},
          "execution_count": 39
        }
      ],
      "source": [
        "test['filled_Destination_State'].isnull().sum()"
      ]
    },
    {
      "cell_type": "code",
      "execution_count": null,
      "metadata": {
        "id": "wUOfTI-Qp1Pn"
      },
      "outputs": [],
      "source": [
        "del test['Destination_State']\n",
        "del train['Destination_State']"
      ]
    },
    {
      "cell_type": "code",
      "execution_count": null,
      "metadata": {
        "colab": {
          "base_uri": "https://localhost:8080/",
          "height": 748
        },
        "id": "SVDpSTcgp66b",
        "outputId": "c1687ec6-d167-4539-a468-5572eb0454bd"
      },
      "outputs": [
        {
          "data": {
            "text/html": [
              "\n",
              "  <div id=\"df-69b5562b-5088-4633-979f-cf6fa9a64349\">\n",
              "    <div class=\"colab-df-container\">\n",
              "      <div>\n",
              "<style scoped>\n",
              "    .dataframe tbody tr th:only-of-type {\n",
              "        vertical-align: middle;\n",
              "    }\n",
              "\n",
              "    .dataframe tbody tr th {\n",
              "        vertical-align: top;\n",
              "    }\n",
              "\n",
              "    .dataframe thead th {\n",
              "        text-align: right;\n",
              "    }\n",
              "</style>\n",
              "<table border=\"1\" class=\"dataframe\">\n",
              "  <thead>\n",
              "    <tr style=\"text-align: right;\">\n",
              "      <th></th>\n",
              "      <th>ID</th>\n",
              "      <th>Month</th>\n",
              "      <th>Day_of_Month</th>\n",
              "      <th>Estimated_Departure_Time</th>\n",
              "      <th>Estimated_Arrival_Time</th>\n",
              "      <th>Origin_Airport</th>\n",
              "      <th>Origin_Airport_ID</th>\n",
              "      <th>Destination_Airport</th>\n",
              "      <th>Destination_Airport_ID</th>\n",
              "      <th>Distance</th>\n",
              "      <th>Airline</th>\n",
              "      <th>Carrier_Code(IATA)</th>\n",
              "      <th>Carrier_ID(DOT)</th>\n",
              "      <th>Tail_Number</th>\n",
              "      <th>Delay</th>\n",
              "      <th>filled_Origin_State</th>\n",
              "      <th>filled_Destination_State</th>\n",
              "    </tr>\n",
              "  </thead>\n",
              "  <tbody>\n",
              "    <tr>\n",
              "      <th>0</th>\n",
              "      <td>TRAIN_000000</td>\n",
              "      <td>4</td>\n",
              "      <td>15</td>\n",
              "      <td>NaN</td>\n",
              "      <td>NaN</td>\n",
              "      <td>OKC</td>\n",
              "      <td>13851</td>\n",
              "      <td>HOU</td>\n",
              "      <td>12191</td>\n",
              "      <td>419.0</td>\n",
              "      <td>Southwest Airlines Co.</td>\n",
              "      <td>WN</td>\n",
              "      <td>19393.0</td>\n",
              "      <td>N7858A</td>\n",
              "      <td>None</td>\n",
              "      <td>Oklahoma</td>\n",
              "      <td>Texas</td>\n",
              "    </tr>\n",
              "    <tr>\n",
              "      <th>1</th>\n",
              "      <td>TRAIN_000001</td>\n",
              "      <td>8</td>\n",
              "      <td>15</td>\n",
              "      <td>740.0</td>\n",
              "      <td>1024.0</td>\n",
              "      <td>ORD</td>\n",
              "      <td>13930</td>\n",
              "      <td>SLC</td>\n",
              "      <td>14869</td>\n",
              "      <td>1250.0</td>\n",
              "      <td>SkyWest Airlines Inc.</td>\n",
              "      <td>UA</td>\n",
              "      <td>20304.0</td>\n",
              "      <td>N125SY</td>\n",
              "      <td>None</td>\n",
              "      <td>Illinois</td>\n",
              "      <td>Utah</td>\n",
              "    </tr>\n",
              "    <tr>\n",
              "      <th>2</th>\n",
              "      <td>TRAIN_000002</td>\n",
              "      <td>9</td>\n",
              "      <td>6</td>\n",
              "      <td>1610.0</td>\n",
              "      <td>1805.0</td>\n",
              "      <td>CLT</td>\n",
              "      <td>11057</td>\n",
              "      <td>LGA</td>\n",
              "      <td>12953</td>\n",
              "      <td>544.0</td>\n",
              "      <td>American Airlines Inc.</td>\n",
              "      <td>AA</td>\n",
              "      <td>19805.0</td>\n",
              "      <td>N103US</td>\n",
              "      <td>None</td>\n",
              "      <td>North Carolina</td>\n",
              "      <td>New York</td>\n",
              "    </tr>\n",
              "    <tr>\n",
              "      <th>3</th>\n",
              "      <td>TRAIN_000003</td>\n",
              "      <td>7</td>\n",
              "      <td>10</td>\n",
              "      <td>905.0</td>\n",
              "      <td>1735.0</td>\n",
              "      <td>LAX</td>\n",
              "      <td>12892</td>\n",
              "      <td>EWR</td>\n",
              "      <td>11618</td>\n",
              "      <td>2454.0</td>\n",
              "      <td>United Air Lines Inc.</td>\n",
              "      <td>UA</td>\n",
              "      <td>NaN</td>\n",
              "      <td>N595UA</td>\n",
              "      <td>None</td>\n",
              "      <td>California</td>\n",
              "      <td>New Jersey</td>\n",
              "    </tr>\n",
              "    <tr>\n",
              "      <th>4</th>\n",
              "      <td>TRAIN_000004</td>\n",
              "      <td>1</td>\n",
              "      <td>11</td>\n",
              "      <td>900.0</td>\n",
              "      <td>1019.0</td>\n",
              "      <td>SFO</td>\n",
              "      <td>14771</td>\n",
              "      <td>ACV</td>\n",
              "      <td>10157</td>\n",
              "      <td>250.0</td>\n",
              "      <td>SkyWest Airlines Inc.</td>\n",
              "      <td>UA</td>\n",
              "      <td>20304.0</td>\n",
              "      <td>N161SY</td>\n",
              "      <td>None</td>\n",
              "      <td>California</td>\n",
              "      <td>California</td>\n",
              "    </tr>\n",
              "    <tr>\n",
              "      <th>...</th>\n",
              "      <td>...</td>\n",
              "      <td>...</td>\n",
              "      <td>...</td>\n",
              "      <td>...</td>\n",
              "      <td>...</td>\n",
              "      <td>...</td>\n",
              "      <td>...</td>\n",
              "      <td>...</td>\n",
              "      <td>...</td>\n",
              "      <td>...</td>\n",
              "      <td>...</td>\n",
              "      <td>...</td>\n",
              "      <td>...</td>\n",
              "      <td>...</td>\n",
              "      <td>...</td>\n",
              "      <td>...</td>\n",
              "      <td>...</td>\n",
              "    </tr>\n",
              "    <tr>\n",
              "      <th>999995</th>\n",
              "      <td>TRAIN_999995</td>\n",
              "      <td>9</td>\n",
              "      <td>18</td>\n",
              "      <td>936.0</td>\n",
              "      <td>1243.0</td>\n",
              "      <td>ORD</td>\n",
              "      <td>13930</td>\n",
              "      <td>PHL</td>\n",
              "      <td>14100</td>\n",
              "      <td>678.0</td>\n",
              "      <td>United Air Lines Inc.</td>\n",
              "      <td>UA</td>\n",
              "      <td>19977.0</td>\n",
              "      <td>N477UA</td>\n",
              "      <td>None</td>\n",
              "      <td>Illinois</td>\n",
              "      <td>Pennsylvania</td>\n",
              "    </tr>\n",
              "    <tr>\n",
              "      <th>999996</th>\n",
              "      <td>TRAIN_999996</td>\n",
              "      <td>5</td>\n",
              "      <td>30</td>\n",
              "      <td>920.0</td>\n",
              "      <td>1028.0</td>\n",
              "      <td>FAR</td>\n",
              "      <td>11637</td>\n",
              "      <td>MSP</td>\n",
              "      <td>13487</td>\n",
              "      <td>223.0</td>\n",
              "      <td>SkyWest Airlines Inc.</td>\n",
              "      <td>DL</td>\n",
              "      <td>NaN</td>\n",
              "      <td>N439SW</td>\n",
              "      <td>None</td>\n",
              "      <td>North Dakota</td>\n",
              "      <td>Minnesota</td>\n",
              "    </tr>\n",
              "    <tr>\n",
              "      <th>999997</th>\n",
              "      <td>TRAIN_999997</td>\n",
              "      <td>6</td>\n",
              "      <td>28</td>\n",
              "      <td>800.0</td>\n",
              "      <td>1340.0</td>\n",
              "      <td>OAK</td>\n",
              "      <td>13796</td>\n",
              "      <td>HOU</td>\n",
              "      <td>12191</td>\n",
              "      <td>1642.0</td>\n",
              "      <td>Southwest Airlines Co.</td>\n",
              "      <td>WN</td>\n",
              "      <td>19393.0</td>\n",
              "      <td>N230WN</td>\n",
              "      <td>None</td>\n",
              "      <td>California</td>\n",
              "      <td>Texas</td>\n",
              "    </tr>\n",
              "    <tr>\n",
              "      <th>999998</th>\n",
              "      <td>TRAIN_999998</td>\n",
              "      <td>9</td>\n",
              "      <td>27</td>\n",
              "      <td>1613.0</td>\n",
              "      <td>1824.0</td>\n",
              "      <td>BNA</td>\n",
              "      <td>10693</td>\n",
              "      <td>ATL</td>\n",
              "      <td>10397</td>\n",
              "      <td>214.0</td>\n",
              "      <td>Delta Air Lines Inc.</td>\n",
              "      <td>DL</td>\n",
              "      <td>19790.0</td>\n",
              "      <td>N968DL</td>\n",
              "      <td>None</td>\n",
              "      <td>Tennessee</td>\n",
              "      <td>Georgia</td>\n",
              "    </tr>\n",
              "    <tr>\n",
              "      <th>999999</th>\n",
              "      <td>TRAIN_999999</td>\n",
              "      <td>3</td>\n",
              "      <td>26</td>\n",
              "      <td>1800.0</td>\n",
              "      <td>2056.0</td>\n",
              "      <td>RSW</td>\n",
              "      <td>14635</td>\n",
              "      <td>DTW</td>\n",
              "      <td>11433</td>\n",
              "      <td>1084.0</td>\n",
              "      <td>None</td>\n",
              "      <td>DL</td>\n",
              "      <td>19790.0</td>\n",
              "      <td>N695DL</td>\n",
              "      <td>None</td>\n",
              "      <td>Florida</td>\n",
              "      <td>Michigan</td>\n",
              "    </tr>\n",
              "  </tbody>\n",
              "</table>\n",
              "<p>1000000 rows × 17 columns</p>\n",
              "</div>\n",
              "      <button class=\"colab-df-convert\" onclick=\"convertToInteractive('df-69b5562b-5088-4633-979f-cf6fa9a64349')\"\n",
              "              title=\"Convert this dataframe to an interactive table.\"\n",
              "              style=\"display:none;\">\n",
              "        \n",
              "  <svg xmlns=\"http://www.w3.org/2000/svg\" height=\"24px\"viewBox=\"0 0 24 24\"\n",
              "       width=\"24px\">\n",
              "    <path d=\"M0 0h24v24H0V0z\" fill=\"none\"/>\n",
              "    <path d=\"M18.56 5.44l.94 2.06.94-2.06 2.06-.94-2.06-.94-.94-2.06-.94 2.06-2.06.94zm-11 1L8.5 8.5l.94-2.06 2.06-.94-2.06-.94L8.5 2.5l-.94 2.06-2.06.94zm10 10l.94 2.06.94-2.06 2.06-.94-2.06-.94-.94-2.06-.94 2.06-2.06.94z\"/><path d=\"M17.41 7.96l-1.37-1.37c-.4-.4-.92-.59-1.43-.59-.52 0-1.04.2-1.43.59L10.3 9.45l-7.72 7.72c-.78.78-.78 2.05 0 2.83L4 21.41c.39.39.9.59 1.41.59.51 0 1.02-.2 1.41-.59l7.78-7.78 2.81-2.81c.8-.78.8-2.07 0-2.86zM5.41 20L4 18.59l7.72-7.72 1.47 1.35L5.41 20z\"/>\n",
              "  </svg>\n",
              "      </button>\n",
              "      \n",
              "  <style>\n",
              "    .colab-df-container {\n",
              "      display:flex;\n",
              "      flex-wrap:wrap;\n",
              "      gap: 12px;\n",
              "    }\n",
              "\n",
              "    .colab-df-convert {\n",
              "      background-color: #E8F0FE;\n",
              "      border: none;\n",
              "      border-radius: 50%;\n",
              "      cursor: pointer;\n",
              "      display: none;\n",
              "      fill: #1967D2;\n",
              "      height: 32px;\n",
              "      padding: 0 0 0 0;\n",
              "      width: 32px;\n",
              "    }\n",
              "\n",
              "    .colab-df-convert:hover {\n",
              "      background-color: #E2EBFA;\n",
              "      box-shadow: 0px 1px 2px rgba(60, 64, 67, 0.3), 0px 1px 3px 1px rgba(60, 64, 67, 0.15);\n",
              "      fill: #174EA6;\n",
              "    }\n",
              "\n",
              "    [theme=dark] .colab-df-convert {\n",
              "      background-color: #3B4455;\n",
              "      fill: #D2E3FC;\n",
              "    }\n",
              "\n",
              "    [theme=dark] .colab-df-convert:hover {\n",
              "      background-color: #434B5C;\n",
              "      box-shadow: 0px 1px 3px 1px rgba(0, 0, 0, 0.15);\n",
              "      filter: drop-shadow(0px 1px 2px rgba(0, 0, 0, 0.3));\n",
              "      fill: #FFFFFF;\n",
              "    }\n",
              "  </style>\n",
              "\n",
              "      <script>\n",
              "        const buttonEl =\n",
              "          document.querySelector('#df-69b5562b-5088-4633-979f-cf6fa9a64349 button.colab-df-convert');\n",
              "        buttonEl.style.display =\n",
              "          google.colab.kernel.accessAllowed ? 'block' : 'none';\n",
              "\n",
              "        async function convertToInteractive(key) {\n",
              "          const element = document.querySelector('#df-69b5562b-5088-4633-979f-cf6fa9a64349');\n",
              "          const dataTable =\n",
              "            await google.colab.kernel.invokeFunction('convertToInteractive',\n",
              "                                                     [key], {});\n",
              "          if (!dataTable) return;\n",
              "\n",
              "          const docLinkHtml = 'Like what you see? Visit the ' +\n",
              "            '<a target=\"_blank\" href=https://colab.research.google.com/notebooks/data_table.ipynb>data table notebook</a>'\n",
              "            + ' to learn more about interactive tables.';\n",
              "          element.innerHTML = '';\n",
              "          dataTable['output_type'] = 'display_data';\n",
              "          await google.colab.output.renderOutput(dataTable, element);\n",
              "          const docLink = document.createElement('div');\n",
              "          docLink.innerHTML = docLinkHtml;\n",
              "          element.appendChild(docLink);\n",
              "        }\n",
              "      </script>\n",
              "    </div>\n",
              "  </div>\n",
              "  "
            ],
            "text/plain": [
              "                  ID  Month  Day_of_Month  Estimated_Departure_Time  \\\n",
              "0       TRAIN_000000      4            15                       NaN   \n",
              "1       TRAIN_000001      8            15                     740.0   \n",
              "2       TRAIN_000002      9             6                    1610.0   \n",
              "3       TRAIN_000003      7            10                     905.0   \n",
              "4       TRAIN_000004      1            11                     900.0   \n",
              "...              ...    ...           ...                       ...   \n",
              "999995  TRAIN_999995      9            18                     936.0   \n",
              "999996  TRAIN_999996      5            30                     920.0   \n",
              "999997  TRAIN_999997      6            28                     800.0   \n",
              "999998  TRAIN_999998      9            27                    1613.0   \n",
              "999999  TRAIN_999999      3            26                    1800.0   \n",
              "\n",
              "        Estimated_Arrival_Time Origin_Airport  Origin_Airport_ID  \\\n",
              "0                          NaN            OKC              13851   \n",
              "1                       1024.0            ORD              13930   \n",
              "2                       1805.0            CLT              11057   \n",
              "3                       1735.0            LAX              12892   \n",
              "4                       1019.0            SFO              14771   \n",
              "...                        ...            ...                ...   \n",
              "999995                  1243.0            ORD              13930   \n",
              "999996                  1028.0            FAR              11637   \n",
              "999997                  1340.0            OAK              13796   \n",
              "999998                  1824.0            BNA              10693   \n",
              "999999                  2056.0            RSW              14635   \n",
              "\n",
              "       Destination_Airport  Destination_Airport_ID  Distance  \\\n",
              "0                      HOU                   12191     419.0   \n",
              "1                      SLC                   14869    1250.0   \n",
              "2                      LGA                   12953     544.0   \n",
              "3                      EWR                   11618    2454.0   \n",
              "4                      ACV                   10157     250.0   \n",
              "...                    ...                     ...       ...   \n",
              "999995                 PHL                   14100     678.0   \n",
              "999996                 MSP                   13487     223.0   \n",
              "999997                 HOU                   12191    1642.0   \n",
              "999998                 ATL                   10397     214.0   \n",
              "999999                 DTW                   11433    1084.0   \n",
              "\n",
              "                       Airline Carrier_Code(IATA)  Carrier_ID(DOT)  \\\n",
              "0       Southwest Airlines Co.                 WN          19393.0   \n",
              "1        SkyWest Airlines Inc.                 UA          20304.0   \n",
              "2       American Airlines Inc.                 AA          19805.0   \n",
              "3        United Air Lines Inc.                 UA              NaN   \n",
              "4        SkyWest Airlines Inc.                 UA          20304.0   \n",
              "...                        ...                ...              ...   \n",
              "999995   United Air Lines Inc.                 UA          19977.0   \n",
              "999996   SkyWest Airlines Inc.                 DL              NaN   \n",
              "999997  Southwest Airlines Co.                 WN          19393.0   \n",
              "999998    Delta Air Lines Inc.                 DL          19790.0   \n",
              "999999                    None                 DL          19790.0   \n",
              "\n",
              "       Tail_Number Delay filled_Origin_State filled_Destination_State  \n",
              "0           N7858A  None            Oklahoma                    Texas  \n",
              "1           N125SY  None            Illinois                     Utah  \n",
              "2           N103US  None      North Carolina                 New York  \n",
              "3           N595UA  None          California               New Jersey  \n",
              "4           N161SY  None          California               California  \n",
              "...            ...   ...                 ...                      ...  \n",
              "999995      N477UA  None            Illinois             Pennsylvania  \n",
              "999996      N439SW  None        North Dakota                Minnesota  \n",
              "999997      N230WN  None          California                    Texas  \n",
              "999998      N968DL  None           Tennessee                  Georgia  \n",
              "999999      N695DL  None             Florida                 Michigan  \n",
              "\n",
              "[1000000 rows x 17 columns]"
            ]
          },
          "execution_count": 45,
          "metadata": {},
          "output_type": "execute_result"
        }
      ],
      "source": [
        "train"
      ]
    },
    {
      "cell_type": "markdown",
      "metadata": {
        "id": "h13dO7Rip-8k"
      },
      "source": [
        "#### Airline 처리 "
      ]
    },
    {
      "cell_type": "code",
      "execution_count": null,
      "metadata": {
        "colab": {
          "base_uri": "https://localhost:8080/"
        },
        "id": "j1MW5g8Tp-ip",
        "outputId": "86d5577d-3212-42ba-f91b-a97eea5aea1b"
      },
      "outputs": [
        {
          "output_type": "execute_result",
          "data": {
            "text/plain": [
              "7         20304.0\n",
              "17        20452.0\n",
              "18        20046.0\n",
              "32        20366.0\n",
              "56        20304.0\n",
              "           ...   \n",
              "999976    19687.0\n",
              "999982    19805.0\n",
              "999986    20500.0\n",
              "999993    20436.0\n",
              "999999    19790.0\n",
              "Name: Carrier_ID(DOT), Length: 108920, dtype: float64"
            ]
          },
          "metadata": {},
          "execution_count": 41
        }
      ],
      "source": [
        "train[train['Airline'].isnull()]['Carrier_ID(DOT)']"
      ]
    },
    {
      "cell_type": "code",
      "execution_count": null,
      "metadata": {
        "id": "5PmsxbZYAfFW"
      },
      "outputs": [],
      "source": [
        "temp = train[train['Airline'].isnull()]['Carrier_ID(DOT)'].unique()"
      ]
    },
    {
      "cell_type": "code",
      "execution_count": null,
      "metadata": {
        "id": "gRfdIsgzCbbX"
      },
      "outputs": [],
      "source": [
        "air = {}\n",
        "for i in range(len(temp)):\n",
        "    for x in train[train['Carrier_ID(DOT)'] == temp[i]]['Airline'].unique():\n",
        "            if x:\n",
        "                air[temp[i]] = x"
      ]
    },
    {
      "cell_type": "code",
      "execution_count": null,
      "metadata": {
        "colab": {
          "base_uri": "https://localhost:8080/"
        },
        "id": "VUlyGLnHDo1-",
        "outputId": "a383ce39-40a7-4b9a-e7f4-a7683e224c79"
      },
      "outputs": [
        {
          "output_type": "execute_result",
          "data": {
            "text/plain": [
              "{20304.0: 'SkyWest Airlines Inc.',\n",
              " 20452.0: 'Republic Airlines',\n",
              " 20046.0: 'Air Wisconsin Airlines Corp',\n",
              " 20366.0: 'ExpressJet Airlines Inc.',\n",
              " 19393.0: 'Southwest Airlines Co.',\n",
              " 19977.0: 'United Air Lines Inc.',\n",
              " 19790.0: 'Delta Air Lines Inc.',\n",
              " 20368.0: 'Allegiant Air',\n",
              " 20398.0: 'Envoy Air',\n",
              " 19805.0: 'American Airlines Inc.',\n",
              " 20427.0: 'Capital Cargo International',\n",
              " 20409.0: 'JetBlue Airways',\n",
              " 19687.0: 'Horizon Air',\n",
              " 19930.0: 'Alaska Airlines Inc.',\n",
              " 19690.0: 'Hawaiian Airlines Inc.',\n",
              " 20397.0: 'Comair Inc.',\n",
              " 20416.0: 'Spirit Air Lines',\n",
              " 20363.0: 'Endeavor Air Inc.',\n",
              " 21167.0: 'Compass Airlines',\n",
              " 20378.0: 'Mesa Airlines Inc.',\n",
              " 20436.0: 'Frontier Airlines Inc.',\n",
              " 20237.0: 'Trans States Airlines',\n",
              " 20500.0: 'GoJet Airlines, LLC d/b/a United Express',\n",
              " 20445.0: 'Commutair Aka Champlain Enterprises, Inc.',\n",
              " 21171.0: 'Virgin America',\n",
              " 20253.0: 'Cape Air',\n",
              " 20225.0: 'Peninsula Airways Inc.',\n",
              " 20263.0: 'Empire Airlines Inc.'}"
            ]
          },
          "metadata": {},
          "execution_count": 44
        }
      ],
      "source": [
        "air"
      ]
    },
    {
      "cell_type": "code",
      "execution_count": null,
      "metadata": {
        "id": "hERKIeCHHpyk"
      },
      "outputs": [],
      "source": [
        "for key, value in air.items():\n",
        "    train.loc[train[(train['Airline'].isnull()) & (train['Carrier_ID(DOT)'] == key)].index, 'Airline'] = value\n",
        "    test.loc[test[(test['Airline'].isnull()) & (test['Carrier_ID(DOT)'] == key)].index, 'Airline'] = value\n",
        "\n"
      ]
    },
    {
      "cell_type": "code",
      "execution_count": null,
      "metadata": {
        "colab": {
          "base_uri": "https://localhost:8080/"
        },
        "id": "Jj7GegqdJvWE",
        "outputId": "9d6ade7c-bdb1-4649-af4b-c2b176e90ccd"
      },
      "outputs": [
        {
          "output_type": "execute_result",
          "data": {
            "text/plain": [
              "4880"
            ]
          },
          "metadata": {},
          "execution_count": 46
        }
      ],
      "source": [
        "temp2 = train[train['Airline'].isnull()]['Tail_Number'].unique()\n",
        "len(temp2)"
      ]
    },
    {
      "cell_type": "code",
      "execution_count": null,
      "metadata": {
        "colab": {
          "base_uri": "https://localhost:8080/",
          "height": 35
        },
        "id": "vO5s1gUbPH4K",
        "outputId": "13079f38-27a1-4829-ba7b-0addde3f8c29"
      },
      "outputs": [
        {
          "output_type": "execute_result",
          "data": {
            "text/plain": [
              "'N461AS'"
            ],
            "application/vnd.google.colaboratory.intrinsic+json": {
              "type": "string"
            }
          },
          "metadata": {},
          "execution_count": 47
        }
      ],
      "source": [
        "temp2[0]"
      ]
    },
    {
      "cell_type": "code",
      "execution_count": null,
      "metadata": {
        "id": "KgJLdFBIOnMf"
      },
      "outputs": [],
      "source": [
        "tail_num = {}\n",
        "for i in range(len(temp2)):\n",
        "    for x in train[train['Tail_Number'] == temp2[i]]['Airline'].unique():\n",
        "            if x:\n",
        "                tail_num[temp2[i]] = x"
      ]
    },
    {
      "cell_type": "code",
      "execution_count": null,
      "metadata": {
        "colab": {
          "base_uri": "https://localhost:8080/"
        },
        "id": "AuMcnXf2POcY",
        "outputId": "ab4c98dd-c348-4cd1-8261-12f0daa9deca"
      },
      "outputs": [
        {
          "output_type": "execute_result",
          "data": {
            "text/plain": [
              "{'N461AS': 'Alaska Airlines Inc.',\n",
              " 'N509NK': 'Spirit Air Lines',\n",
              " 'N8886A': 'Endeavor Air Inc.',\n",
              " 'N534EA': 'Comair Inc.',\n",
              " 'N918DH': 'Delta Air Lines Inc.',\n",
              " '242NV': 'Allegiant Air',\n",
              " 'N988AL': 'American Airlines Inc.',\n",
              " 'N7861J': 'Southwest Airlines Co.',\n",
              " 'N466UA': 'United Air Lines Inc.',\n",
              " 'N723TW': 'Delta Air Lines Inc.',\n",
              " 'N8520Q': 'Southwest Airlines Co.',\n",
              " 'N986DL': 'Delta Air Lines Inc.',\n",
              " 'N910DU': 'Delta Air Lines Inc.',\n",
              " 'N8647A': 'Southwest Airlines Co.',\n",
              " 'N976AN': 'American Airlines Inc.',\n",
              " 'N340DN': 'Delta Air Lines Inc.',\n",
              " 'N985DL': 'Delta Air Lines Inc.',\n",
              " 'N654AE': 'Capital Cargo International',\n",
              " 'N483HA': 'Hawaiian Airlines Inc.',\n",
              " 'N717SA': 'Southwest Airlines Co.',\n",
              " 'N285WN': 'Southwest Airlines Co.',\n",
              " 'N14904': 'ExpressJet Airlines Inc.',\n",
              " 'N321DH': 'Delta Air Lines Inc.',\n",
              " 'N848AE': 'Envoy Air',\n",
              " 'N804AW': 'American Airlines Inc.',\n",
              " 'N571JB': 'JetBlue Airways',\n",
              " 'N841UA': 'United Air Lines Inc.',\n",
              " 'N600BP': 'Capital Cargo International',\n",
              " 'N260JS': 'Comair Inc.',\n",
              " 'N633SK': 'SkyWest Airlines Inc.',\n",
              " 'N743SW': 'Southwest Airlines Co.',\n",
              " 'N451UA': 'United Air Lines Inc.',\n",
              " 'N84307': 'Mesa Airlines Inc.',\n",
              " 'N545UW': 'American Airlines Inc.',\n",
              " 'N302PQ': 'Endeavor Air Inc.',\n",
              " 'N8624J': 'Southwest Airlines Co.',\n",
              " 'N523AE': 'Envoy Air',\n",
              " 'N548AS': 'Alaska Airlines Inc.',\n",
              " 'N206PS': 'Comair Inc.',\n",
              " 'N158AN': 'American Airlines Inc.',\n",
              " 'N8686A': 'Southwest Airlines Co.',\n",
              " 'N197AN': 'American Airlines Inc.',\n",
              " 'N804HC': 'Empire Airlines Inc.',\n",
              " 'N535NK': 'Spirit Air Lines',\n",
              " 'N969WN': 'Southwest Airlines Co.',\n",
              " 'N232FR': 'Frontier Airlines Inc.',\n",
              " 'N602NK': 'Spirit Air Lines',\n",
              " '252NV': 'Allegiant Air',\n",
              " 'N266WN': 'Southwest Airlines Co.',\n",
              " '232NV': 'Allegiant Air',\n",
              " 'N633QX': 'Horizon Air',\n",
              " 'N935WN': 'Southwest Airlines Co.',\n",
              " 'N751UW': 'American Airlines Inc.',\n",
              " 'N17115': 'ExpressJet Airlines Inc.',\n",
              " 'N158GJ': 'GoJet Airlines, LLC d/b/a United Express',\n",
              " 'N123NN': 'American Airlines Inc.',\n",
              " 'N79541': 'United Air Lines Inc.',\n",
              " 'N239NN': 'Envoy Air',\n",
              " 'N8319F': 'Southwest Airlines Co.',\n",
              " 'N726SK': 'SkyWest Airlines Inc.',\n",
              " 'N427ZW': 'Air Wisconsin Airlines Corp',\n",
              " 'N498UA': 'United Air Lines Inc.',\n",
              " 'N818UA': 'United Air Lines Inc.',\n",
              " 'N982SW': 'SkyWest Airlines Inc.',\n",
              " 'N7709A': 'Southwest Airlines Co.',\n",
              " 'N637VA': 'Alaska Airlines Inc.',\n",
              " 'N172GJ': 'GoJet Airlines, LLC d/b/a United Express',\n",
              " 'N200WN': 'Southwest Airlines Co.',\n",
              " 'N519UW': 'American Airlines Inc.',\n",
              " 'N226WN': 'Southwest Airlines Co.',\n",
              " '234NV': 'Allegiant Air',\n",
              " 'N990DL': 'Delta Air Lines Inc.',\n",
              " '311NV': 'Allegiant Air',\n",
              " 'N8535S': 'Southwest Airlines Co.',\n",
              " 'N7727A': 'Southwest Airlines Co.',\n",
              " 'N778XF': 'American Airlines Inc.',\n",
              " 'N247JB': 'JetBlue Airways',\n",
              " 'N17196': 'ExpressJet Airlines Inc.',\n",
              " 'N354JB': 'JetBlue Airways',\n",
              " 'N8839E': 'Endeavor Air Inc.',\n",
              " 'N448AW': 'Air Wisconsin Airlines Corp',\n",
              " 'N779UA': 'United Air Lines Inc.',\n",
              " 'N564WN': 'Southwest Airlines Co.',\n",
              " 'N651AE': 'Capital Cargo International',\n",
              " 'N468AW': 'Air Wisconsin Airlines Corp',\n",
              " 'N438QX': 'Horizon Air',\n",
              " 'N234JW': 'Envoy Air',\n",
              " 'N16151': 'Trans States Airlines',\n",
              " 'N973UY': 'American Airlines Inc.',\n",
              " 'N8627B': 'Southwest Airlines Co.',\n",
              " 'N417WN': 'Southwest Airlines Co.',\n",
              " 'N860DN': 'Delta Air Lines Inc.',\n",
              " 'N612NK': 'Spirit Air Lines',\n",
              " 'N914NN': 'American Airlines Inc.',\n",
              " 'N445AW': 'Air Wisconsin Airlines Corp',\n",
              " 'N8608N': 'Southwest Airlines Co.',\n",
              " 'N127UW': 'American Airlines Inc.',\n",
              " 'N491HA': 'Hawaiian Airlines Inc.',\n",
              " 'N552NN': 'Comair Inc.',\n",
              " 'N441SW': 'SkyWest Airlines Inc.',\n",
              " 'N886AS': 'SkyWest Airlines Inc.',\n",
              " 'N169GJ': 'GoJet Airlines, LLC d/b/a United Express',\n",
              " 'N936EV': 'SkyWest Airlines Inc.',\n",
              " 'N57863': 'United Air Lines Inc.',\n",
              " 'N883NN': 'American Airlines Inc.',\n",
              " 'N430SW': 'SkyWest Airlines Inc.',\n",
              " 'N905DL': 'Delta Air Lines Inc.',\n",
              " 'N926DH': 'Delta Air Lines Inc.',\n",
              " 'N947UW': 'American Airlines Inc.',\n",
              " 'N195UW': 'American Airlines Inc.',\n",
              " 'N506NK': 'Spirit Air Lines',\n",
              " 'N965UW': 'American Airlines Inc.',\n",
              " 'N458AW': 'Air Wisconsin Airlines Corp',\n",
              " 'N945UW': 'American Airlines Inc.',\n",
              " 'N21144': 'Trans States Airlines',\n",
              " 'N229JB': 'JetBlue Airways',\n",
              " 'N41140': 'United Air Lines Inc.',\n",
              " 'N179UW': 'American Airlines Inc.',\n",
              " 'N948AT': 'Delta Air Lines Inc.',\n",
              " 'N404UA': 'United Air Lines Inc.',\n",
              " 'N701GS': 'Southwest Airlines Co.',\n",
              " 'N334FR': 'Frontier Airlines Inc.',\n",
              " 'N643RW': 'Republic Airlines',\n",
              " 'N519AE': 'Comair Inc.',\n",
              " 'N69816': 'United Air Lines Inc.',\n",
              " 'N209WN': 'Southwest Airlines Co.',\n",
              " 'N292WN': 'Southwest Airlines Co.',\n",
              " 'N121SY': 'SkyWest Airlines Inc.',\n",
              " 'N934SW': 'SkyWest Airlines Inc.',\n",
              " 'N629AE': 'Capital Cargo International',\n",
              " 'N959UW': 'American Airlines Inc.',\n",
              " 'N7878A': 'Southwest Airlines Co.',\n",
              " 'N647AE': 'Capital Cargo International',\n",
              " 'N941LT': 'Envoy Air',\n",
              " 'N421LV': 'Southwest Airlines Co.',\n",
              " 'N3767': 'Delta Air Lines Inc.',\n",
              " 'N262SY': 'SkyWest Airlines Inc.',\n",
              " 'N628NK': 'Spirit Air Lines',\n",
              " 'N423YX': 'Republic Airlines',\n",
              " 'N567WN': 'Southwest Airlines Co.',\n",
              " 'N12163': 'ExpressJet Airlines Inc.',\n",
              " 'N8622A': 'Southwest Airlines Co.',\n",
              " 'N919WN': 'Southwest Airlines Co.',\n",
              " 'N542EA': 'Envoy Air',\n",
              " 'N532EA': 'Comair Inc.',\n",
              " 'N905JH': 'Envoy Air',\n",
              " 'N925DN': 'Delta Air Lines Inc.',\n",
              " 'N269WN': 'Southwest Airlines Co.',\n",
              " 'N690AE': 'Capital Cargo International',\n",
              " 'N403SY': 'SkyWest Airlines Inc.',\n",
              " 'N8708Q': 'Southwest Airlines Co.',\n",
              " 'N407WN': 'Southwest Airlines Co.',\n",
              " 'N927NN': 'American Airlines Inc.',\n",
              " 'N607CZ': 'Compass Airlines',\n",
              " 'N17128': 'United Air Lines Inc.',\n",
              " 'N813UA': 'United Air Lines Inc.',\n",
              " 'N318JB': 'JetBlue Airways',\n",
              " 'N362NW': 'Delta Air Lines Inc.',\n",
              " 'N7817J': 'Southwest Airlines Co.',\n",
              " 'N8651A': 'Southwest Airlines Co.',\n",
              " 'N17245': 'United Air Lines Inc.',\n",
              " 'N909DN': 'Delta Air Lines Inc.',\n",
              " 'N621VA': 'Virgin America',\n",
              " 'N946SW': 'SkyWest Airlines Inc.',\n",
              " 'N368JB': 'JetBlue Airways',\n",
              " 'N981AT': 'Delta Air Lines Inc.',\n",
              " '255NV': 'Allegiant Air',\n",
              " 'N101HQ': 'Republic Airlines',\n",
              " 'N88359': 'Mesa Airlines Inc.',\n",
              " 'N522LR': 'Mesa Airlines Inc.',\n",
              " 'N39416': 'United Air Lines Inc.',\n",
              " 'N7880D': 'Southwest Airlines Co.',\n",
              " 'N934AA': 'American Airlines Inc.',\n",
              " 'N488HA': 'Hawaiian Airlines Inc.',\n",
              " 'N7860A': 'Southwest Airlines Co.',\n",
              " 'N109SY': 'SkyWest Airlines Inc.',\n",
              " 'N7702A': 'Southwest Airlines Co.',\n",
              " 'N512UA': 'United Air Lines Inc.',\n",
              " 'N348JB': 'JetBlue Airways',\n",
              " 'N831DN': 'Delta Air Lines Inc.',\n",
              " 'N814UA': 'United Air Lines Inc.',\n",
              " 'N27733': 'United Air Lines Inc.',\n",
              " 'N327NB': 'Delta Air Lines Inc.',\n",
              " 'N476HA': 'Hawaiian Airlines Inc.',\n",
              " 'N47414': 'United Air Lines Inc.',\n",
              " 'N993AN': 'American Airlines Inc.',\n",
              " 'N317FR': 'Frontier Airlines Inc.',\n",
              " 'N619NK': 'Spirit Air Lines',\n",
              " 'N154UW': 'American Airlines Inc.',\n",
              " 'N525VA': 'Alaska Airlines Inc.',\n",
              " 'N693CA': 'SkyWest Airlines Inc.',\n",
              " 'N620QX': 'Horizon Air',\n",
              " 'N918WN': 'Southwest Airlines Co.',\n",
              " 'N8530W': 'Southwest Airlines Co.',\n",
              " 'N679AW': 'American Airlines Inc.',\n",
              " 'N939SW': 'SkyWest Airlines Inc.',\n",
              " 'N723UW': 'American Airlines Inc.',\n",
              " 'N281AK': 'Alaska Airlines Inc.',\n",
              " 'N770SK': 'SkyWest Airlines Inc.',\n",
              " 'N372DN': 'Delta Air Lines Inc.',\n",
              " 'N7841A': 'Southwest Airlines Co.',\n",
              " 'N619AS': 'Alaska Airlines Inc.',\n",
              " 'N235NN': 'Envoy Air',\n",
              " 'N995AN': 'American Airlines Inc.',\n",
              " 'N980DL': 'Delta Air Lines Inc.',\n",
              " 'N536EA': 'Envoy Air',\n",
              " 'N833UA': 'United Air Lines Inc.',\n",
              " 'N959JB': 'JetBlue Airways',\n",
              " 'N332NW': 'Delta Air Lines Inc.',\n",
              " 'N770SA': 'Southwest Airlines Co.',\n",
              " 'N900PC': 'Delta Air Lines Inc.',\n",
              " 'N424AW': 'Air Wisconsin Airlines Corp',\n",
              " 'N997JL': 'JetBlue Airways',\n",
              " 'N8511K': 'Southwest Airlines Co.',\n",
              " 'N810DN': 'Delta Air Lines Inc.',\n",
              " 'N21723': 'United Air Lines Inc.',\n",
              " 'N603CZ': 'Compass Airlines',\n",
              " 'N914XJ': 'Endeavor Air Inc.',\n",
              " 'N504MJ': 'Mesa Airlines Inc.',\n",
              " 'N929SW': 'SkyWest Airlines Inc.',\n",
              " 'N464SW': 'SkyWest Airlines Inc.',\n",
              " 'N12754': 'United Air Lines Inc.',\n",
              " 'N7820L': 'Southwest Airlines Co.',\n",
              " 'N930WN': 'Southwest Airlines Co.',\n",
              " 'N624AG': 'Delta Air Lines Inc.',\n",
              " 'N679CA': 'SkyWest Airlines Inc.',\n",
              " 'N365DN': 'Delta Air Lines Inc.',\n",
              " 'N447WN': 'Southwest Airlines Co.',\n",
              " 'N916WN': 'Southwest Airlines Co.',\n",
              " 'N432AW': 'Air Wisconsin Airlines Corp',\n",
              " 'N901WN': 'Southwest Airlines Co.',\n",
              " 'N618NK': 'Spirit Air Lines',\n",
              " 'N463SW': 'SkyWest Airlines Inc.',\n",
              " 'N87527': 'United Air Lines Inc.',\n",
              " 'N985AT': 'Delta Air Lines Inc.',\n",
              " 'N453SW': 'SkyWest Airlines Inc.',\n",
              " 'N742YX': 'Republic Airlines',\n",
              " 'N283SY': 'SkyWest Airlines Inc.',\n",
              " 'N918AE': 'Envoy Air',\n",
              " 'N855RW': 'Republic Airlines',\n",
              " 'N85320': 'Mesa Airlines Inc.',\n",
              " 'N174SY': 'SkyWest Airlines Inc.',\n",
              " 'N11551': 'ExpressJet Airlines Inc.',\n",
              " 'N716FR': 'Frontier Airlines Inc.',\n",
              " 'N946JL': 'JetBlue Airways',\n",
              " 'N606CZ': 'Compass Airlines',\n",
              " 'N521LR': 'Mesa Airlines Inc.',\n",
              " 'N869AS': 'SkyWest Airlines Inc.',\n",
              " 'N411WN': 'Southwest Airlines Co.',\n",
              " 'N440AW': 'Air Wisconsin Airlines Corp',\n",
              " 'N640NK': 'Spirit Air Lines',\n",
              " '231NV': 'Allegiant Air',\n",
              " 'N842DN': 'Delta Air Lines Inc.',\n",
              " 'N214WN': 'Southwest Airlines Co.',\n",
              " 'N739GB': 'Southwest Airlines Co.',\n",
              " 'N392HA': 'Hawaiian Airlines Inc.',\n",
              " 'N8302F': 'Southwest Airlines Co.',\n",
              " 'N78506': 'United Air Lines Inc.',\n",
              " 'N449WN': 'Southwest Airlines Co.',\n",
              " 'N37462': 'United Air Lines Inc.',\n",
              " 'N902FJ': 'Mesa Airlines Inc.',\n",
              " 'N515NK': 'Spirit Air Lines',\n",
              " 'N605LR': 'Endeavor Air Inc.',\n",
              " 'N966WN': 'Southwest Airlines Co.',\n",
              " 'N501MJ': 'Mesa Airlines Inc.',\n",
              " 'N15983': 'ExpressJet Airlines Inc.',\n",
              " 'N7728D': 'Southwest Airlines Co.',\n",
              " 'N873NN': 'American Airlines Inc.',\n",
              " 'N7716A': 'Southwest Airlines Co.',\n",
              " 'N903SW': 'SkyWest Airlines Inc.',\n",
              " 'N87318': 'Mesa Airlines Inc.',\n",
              " 'N431UA': 'United Air Lines Inc.',\n",
              " 'N329NB': 'Delta Air Lines Inc.',\n",
              " 'N14542': 'ExpressJet Airlines Inc.',\n",
              " 'N209SY': 'SkyWest Airlines Inc.',\n",
              " 'N12145': 'Trans States Airlines',\n",
              " 'N555NN': 'Comair Inc.',\n",
              " 'N706PS': 'Comair Inc.',\n",
              " 'N705FR': 'Frontier Airlines Inc.',\n",
              " 'N937WN': 'Southwest Airlines Co.',\n",
              " 'N11548': 'ExpressJet Airlines Inc.',\n",
              " 'N340NW': 'Delta Air Lines Inc.',\n",
              " 'N607NK': 'Spirit Air Lines',\n",
              " 'N669MB': 'Capital Cargo International',\n",
              " 'N7856A': 'Southwest Airlines Co.',\n",
              " 'N439SW': 'SkyWest Airlines Inc.',\n",
              " 'N104HQ': 'Republic Airlines',\n",
              " 'N192SY': 'SkyWest Airlines Inc.',\n",
              " 'N8508W': 'Southwest Airlines Co.',\n",
              " 'N729SW': 'Southwest Airlines Co.',\n",
              " 'N645QX': 'Horizon Air',\n",
              " 'N946LR': 'Mesa Airlines Inc.',\n",
              " 'N915AN': 'American Airlines Inc.',\n",
              " 'N12157': 'Commutair Aka Champlain Enterprises, Inc.',\n",
              " 'N698CB': 'Envoy Air',\n",
              " 'N498WN': 'Southwest Airlines Co.',\n",
              " 'N177US': 'American Airlines Inc.',\n",
              " 'N639JB': 'JetBlue Airways',\n",
              " 'N277WN': 'Southwest Airlines Co.',\n",
              " 'N915DE': 'Delta Air Lines Inc.',\n",
              " 'N988DN': 'Delta Air Lines Inc.',\n",
              " 'N627VA': 'Virgin America',\n",
              " 'N236JB': 'JetBlue Airways',\n",
              " 'N583UW': 'American Airlines Inc.',\n",
              " 'N853DN': 'Delta Air Lines Inc.',\n",
              " 'N7851A': 'Southwest Airlines Co.',\n",
              " 'N933LR': 'Mesa Airlines Inc.',\n",
              " 'N443QX': 'Horizon Air',\n",
              " 'N310FR': 'Frontier Airlines Inc.',\n",
              " 'N214UA': 'United Air Lines Inc.',\n",
              " 'N165NN': 'American Airlines Inc.',\n",
              " 'N574NN': 'Comair Inc.',\n",
              " 'N512MJ': 'Mesa Airlines Inc.',\n",
              " 'N400QX': 'Horizon Air',\n",
              " 'N837NN': 'American Airlines Inc.',\n",
              " 'N301DV': 'Delta Air Lines Inc.',\n",
              " 'N310DN': 'Delta Air Lines Inc.',\n",
              " 'N7715E': 'Southwest Airlines Co.',\n",
              " 'N524JB': 'JetBlue Airways',\n",
              " 'N423SW': 'SkyWest Airlines Inc.',\n",
              " 'N432QX': 'Horizon Air',\n",
              " 'N970JB': 'JetBlue Airways',\n",
              " 'N731YX': 'Republic Airlines',\n",
              " 'N76526': 'United Air Lines Inc.',\n",
              " 'N741SA': 'Southwest Airlines Co.',\n",
              " 'N202FR': 'Frontier Airlines Inc.',\n",
              " 'N251WN': 'Southwest Airlines Co.',\n",
              " 'N983AT': 'Delta Air Lines Inc.',\n",
              " 'N11119': 'Trans States Airlines',\n",
              " 'N708JB': 'JetBlue Airways',\n",
              " 'N16561': 'ExpressJet Airlines Inc.',\n",
              " 'N740YX': 'Republic Airlines',\n",
              " 'N513MJ': 'Mesa Airlines Inc.',\n",
              " 'N956WN': 'Southwest Airlines Co.',\n",
              " 'N206FR': 'Frontier Airlines Inc.',\n",
              " 'N315NB': 'Delta Air Lines Inc.',\n",
              " 'N965AT': 'Delta Air Lines Inc.',\n",
              " 'N745YX': 'Republic Airlines',\n",
              " 'N916XJ': 'Endeavor Air Inc.',\n",
              " 'N702PS': 'Comair Inc.',\n",
              " 'N408AW': 'Air Wisconsin Airlines Corp',\n",
              " 'N889DN': 'Delta Air Lines Inc.',\n",
              " 'N649AE': 'Capital Cargo International',\n",
              " 'N27190': 'ExpressJet Airlines Inc.',\n",
              " 'N152SY': 'SkyWest Airlines Inc.',\n",
              " 'N963AN': 'American Airlines Inc.',\n",
              " 'N658NK': 'Spirit Air Lines',\n",
              " 'N925UY': 'American Airlines Inc.',\n",
              " 'N247NN': 'Envoy Air',\n",
              " 'N952SW': 'SkyWest Airlines Inc.',\n",
              " 'N369CA': 'GoJet Airlines, LLC d/b/a United Express',\n",
              " 'N972AT': 'Delta Air Lines Inc.',\n",
              " 'N520AS': 'Alaska Airlines Inc.',\n",
              " 'N603NK': 'Spirit Air Lines',\n",
              " 'N7718B': 'Southwest Airlines Co.',\n",
              " 'N7741C': 'Southwest Airlines Co.',\n",
              " 'N906AE': 'Capital Cargo International',\n",
              " 'N168SY': 'SkyWest Airlines Inc.',\n",
              " 'N932AE': 'Envoy Air',\n",
              " 'N667NK': 'Spirit Air Lines',\n",
              " 'N8716B': 'Southwest Airlines Co.',\n",
              " 'N915US': 'American Airlines Inc.',\n",
              " 'N670AE': 'Envoy Air',\n",
              " 'N11187': 'Commutair Aka Champlain Enterprises, Inc.',\n",
              " 'N36247': 'United Air Lines Inc.',\n",
              " 'N26215': 'United Air Lines Inc.',\n",
              " 'N678NK': 'Spirit Air Lines',\n",
              " 'N967JB': 'JetBlue Airways',\n",
              " 'N742SW': 'Southwest Airlines Co.',\n",
              " 'N289CT': 'Southwest Airlines Co.',\n",
              " 'N284WN': 'Southwest Airlines Co.',\n",
              " 'N310PQ': 'Endeavor Air Inc.',\n",
              " 'N899NN': 'American Airlines Inc.',\n",
              " 'N8641B': 'Southwest Airlines Co.',\n",
              " 'N411UA': 'United Air Lines Inc.',\n",
              " 'N711HK': 'Southwest Airlines Co.',\n",
              " 'N264LV': 'Southwest Airlines Co.',\n",
              " 'N608QX': 'ExpressJet Airlines Inc.',\n",
              " 'N925SW': 'SkyWest Airlines Inc.',\n",
              " 'N376CA': 'GoJet Airlines, LLC d/b/a United Express',\n",
              " 'N416WN': 'Southwest Airlines Co.',\n",
              " 'N763SK': 'SkyWest Airlines Inc.',\n",
              " 'N442UA': 'United Air Lines Inc.',\n",
              " 'N436UA': 'United Air Lines Inc.',\n",
              " 'N57862': 'United Air Lines Inc.',\n",
              " 'N403AS': 'Alaska Airlines Inc.',\n",
              " 'N8501V': 'Southwest Airlines Co.',\n",
              " 'N930XJ': 'Endeavor Air Inc.',\n",
              " 'N404QX': 'Horizon Air',\n",
              " 'N453WN': 'Southwest Airlines Co.',\n",
              " 'N117SY': 'SkyWest Airlines Inc.',\n",
              " 'N8606C': 'Southwest Airlines Co.',\n",
              " 'N8549Z': 'Southwest Airlines Co.',\n",
              " 'N667GB': 'Envoy Air',\n",
              " 'N902BC': 'Envoy Air',\n",
              " 'N817AE': 'Envoy Air',\n",
              " 'N123HQ': 'Republic Airlines',\n",
              " 'N8928A': 'Endeavor Air Inc.',\n",
              " 'N410WN': 'Southwest Airlines Co.',\n",
              " 'N358DN': 'Delta Air Lines Inc.',\n",
              " 'N697DL': 'Delta Air Lines Inc.',\n",
              " 'N653RW': 'Republic Airlines',\n",
              " 'N244SY': 'SkyWest Airlines Inc.',\n",
              " 'N319DN': 'Delta Air Lines Inc.',\n",
              " 'N445SW': 'SkyWest Airlines Inc.',\n",
              " 'N330FR': 'Frontier Airlines Inc.',\n",
              " 'N230NN': 'Envoy Air',\n",
              " 'N11181': 'Commutair Aka Champlain Enterprises, Inc.',\n",
              " 'N708SW': 'Southwest Airlines Co.',\n",
              " 'N664AW': 'American Airlines Inc.',\n",
              " 'N8695D': 'Southwest Airlines Co.',\n",
              " 'N949NN': 'American Airlines Inc.',\n",
              " 'N662EH': 'Envoy Air',\n",
              " 'N566JB': 'JetBlue Airways',\n",
              " 'N835AW': 'American Airlines Inc.',\n",
              " 'N7712G': 'Southwest Airlines Co.',\n",
              " 'N963SW': 'SkyWest Airlines Inc.',\n",
              " 'N747SA': 'Southwest Airlines Co.',\n",
              " 'N648RW': 'Republic Airlines',\n",
              " 'N544EA': 'Comair Inc.',\n",
              " 'N651NK': 'Spirit Air Lines',\n",
              " 'N9004F': 'American Airlines Inc.',\n",
              " 'N665NK': 'Spirit Air Lines',\n",
              " 'N69813': 'United Air Lines Inc.',\n",
              " 'N784SK': 'SkyWest Airlines Inc.',\n",
              " 'N759EV': 'ExpressJet Airlines Inc.',\n",
              " 'N944JB': 'JetBlue Airways',\n",
              " 'N854AE': 'Envoy Air',\n",
              " 'N12142': 'Trans States Airlines',\n",
              " 'N670NK': 'Spirit Air Lines',\n",
              " 'N750EV': 'ExpressJet Airlines Inc.',\n",
              " 'N13132': 'Trans States Airlines',\n",
              " 'N401YX': 'Republic Airlines',\n",
              " 'N641VA': 'Virgin America',\n",
              " 'N446WN': 'Southwest Airlines Co.',\n",
              " 'N364VA': 'Virgin America',\n",
              " 'N450AW': 'Air Wisconsin Airlines Corp',\n",
              " 'N931LR': 'Mesa Airlines Inc.',\n",
              " 'N891DN': 'Delta Air Lines Inc.',\n",
              " 'N62892': 'United Air Lines Inc.',\n",
              " 'N926UW': 'American Airlines Inc.',\n",
              " 'N517NK': 'Spirit Air Lines',\n",
              " 'N303AS': 'Alaska Airlines Inc.',\n",
              " 'N197JB': 'JetBlue Airways',\n",
              " 'N8643A': 'Southwest Airlines Co.',\n",
              " 'N278WN': 'Southwest Airlines Co.',\n",
              " 'N143AN': 'American Airlines Inc.',\n",
              " 'N403WN': 'Southwest Airlines Co.',\n",
              " 'N768SK': 'SkyWest Airlines Inc.',\n",
              " 'N971DL': 'Delta Air Lines Inc.',\n",
              " 'N322US': 'Delta Air Lines Inc.',\n",
              " 'N927WN': 'Southwest Airlines Co.',\n",
              " 'N238FR': 'Frontier Airlines Inc.',\n",
              " 'N646QX': 'Horizon Air',\n",
              " 'N87345': 'Mesa Airlines Inc.',\n",
              " 'N7750A': 'Southwest Airlines Co.',\n",
              " 'N510MJ': 'Mesa Airlines Inc.',\n",
              " 'N75435': 'United Air Lines Inc.',\n",
              " 'N761RR': 'Southwest Airlines Co.',\n",
              " 'N849DN': 'Delta Air Lines Inc.',\n",
              " 'N899AT': 'Delta Air Lines Inc.',\n",
              " 'N712SW': 'Southwest Airlines Co.',\n",
              " 'N720PS': 'Comair Inc.',\n",
              " 'N89308': 'Mesa Airlines Inc.',\n",
              " 'N591NW': 'Delta Air Lines Inc.',\n",
              " 'N328NB': 'Delta Air Lines Inc.',\n",
              " 'N844VA': 'Virgin America',\n",
              " 'N594NN': 'Comair Inc.',\n",
              " 'N828JB': 'JetBlue Airways',\n",
              " 'N345NW': 'Delta Air Lines Inc.',\n",
              " 'N280WN': 'Southwest Airlines Co.',\n",
              " 'N323FR': 'Frontier Airlines Inc.',\n",
              " 'N7886A': 'Southwest Airlines Co.',\n",
              " 'N920DE': 'Delta Air Lines Inc.',\n",
              " 'N674NK': 'Spirit Air Lines',\n",
              " 'N134AN': 'American Airlines Inc.',\n",
              " 'N419AS': 'Alaska Airlines Inc.',\n",
              " 'N806NN': 'American Airlines Inc.',\n",
              " 'N215NN': 'Compass Airlines',\n",
              " 'N272SY': 'SkyWest Airlines Inc.',\n",
              " 'N789SW': 'Southwest Airlines Co.',\n",
              " 'N619AE': 'Trans States Airlines',\n",
              " 'N686NK': 'Spirit Air Lines',\n",
              " 'N810MD': 'Republic Airlines',\n",
              " 'N942AT': 'Delta Air Lines Inc.',\n",
              " 'N7848A': 'Southwest Airlines Co.',\n",
              " 'N819AY': 'Endeavor Air Inc.',\n",
              " 'N901DE': 'Delta Air Lines Inc.',\n",
              " 'N8601C': 'Southwest Airlines Co.',\n",
              " 'N427QX': 'Horizon Air',\n",
              " 'N840NN': 'American Airlines Inc.',\n",
              " 'N432SW': 'SkyWest Airlines Inc.',\n",
              " 'N37470': 'United Air Lines Inc.',\n",
              " 'N923VA': 'Virgin America',\n",
              " 'N536AS': 'Alaska Airlines Inc.',\n",
              " 'N902EV': 'SkyWest Airlines Inc.',\n",
              " 'N830NN': 'American Airlines Inc.',\n",
              " 'N17719': 'United Air Lines Inc.',\n",
              " 'N211NN': 'Compass Airlines',\n",
              " 'N488WN': 'Southwest Airlines Co.',\n",
              " 'N290WN': 'Southwest Airlines Co.',\n",
              " 'N8696E': 'Southwest Airlines Co.',\n",
              " 'N801HC': 'Empire Airlines Inc.',\n",
              " 'N41135': 'United Air Lines Inc.',\n",
              " 'N500WR': 'Southwest Airlines Co.',\n",
              " 'N14186': 'Commutair Aka Champlain Enterprises, Inc.',\n",
              " 'N956AT': 'Delta Air Lines Inc.',\n",
              " 'N38403': 'United Air Lines Inc.',\n",
              " 'N673NK': 'Spirit Air Lines',\n",
              " 'N864RW': 'Republic Airlines',\n",
              " 'N735SA': 'Southwest Airlines Co.',\n",
              " 'N705TW': 'Delta Air Lines Inc.',\n",
              " 'N21537': 'ExpressJet Airlines Inc.',\n",
              " 'N680AE': 'Envoy Air',\n",
              " 'N7703A': 'Southwest Airlines Co.',\n",
              " 'N76532': 'United Air Lines Inc.',\n",
              " 'N9615W': 'American Airlines Inc.',\n",
              " 'N962SW': 'SkyWest Airlines Inc.',\n",
              " 'N142SY': 'SkyWest Airlines Inc.',\n",
              " 'N889NN': 'American Airlines Inc.',\n",
              " 'N355PU': 'American Airlines Inc.',\n",
              " 'N131NN': 'American Airlines Inc.',\n",
              " 'N647QX': 'Horizon Air',\n",
              " 'N975JB': 'JetBlue Airways',\n",
              " 'N66841': 'United Air Lines Inc.',\n",
              " 'N452UA': 'United Air Lines Inc.',\n",
              " 'N565NN': 'Comair Inc.',\n",
              " 'N925AE': 'Envoy Air',\n",
              " 'N280SY': 'SkyWest Airlines Inc.',\n",
              " 'N534NK': 'Spirit Air Lines',\n",
              " 'N246NN': 'Envoy Air',\n",
              " 'N216WR': 'Southwest Airlines Co.',\n",
              " 'N648JB': 'JetBlue Airways',\n",
              " 'N965SW': 'SkyWest Airlines Inc.',\n",
              " 'N8573Z': 'Southwest Airlines Co.',\n",
              " 'N805UA': 'United Air Lines Inc.',\n",
              " 'N645RW': 'Republic Airlines',\n",
              " 'N272PQ': 'Endeavor Air Inc.',\n",
              " 'N7884G': 'Southwest Airlines Co.',\n",
              " 'N211WN': 'Southwest Airlines Co.',\n",
              " 'N638AE': 'Capital Cargo International',\n",
              " 'N935AN': 'American Airlines Inc.',\n",
              " 'N907NK': 'Spirit Air Lines',\n",
              " 'N13118': 'ExpressJet Airlines Inc.',\n",
              " 'N892UA': 'United Air Lines Inc.',\n",
              " 'N420UA': 'United Air Lines Inc.',\n",
              " 'N339DN': 'Delta Air Lines Inc.',\n",
              " 'N444QX': 'Horizon Air',\n",
              " 'N976NN': 'American Airlines Inc.',\n",
              " 'N482WN': 'Southwest Airlines Co.',\n",
              " 'N459AW': 'Air Wisconsin Airlines Corp',\n",
              " 'N932WN': 'Southwest Airlines Co.',\n",
              " 'N89357': 'Mesa Airlines Inc.',\n",
              " 'N841VA': 'Virgin America',\n",
              " 'N796JB': 'JetBlue Airways',\n",
              " 'N659CA': 'GoJet Airlines, LLC d/b/a United Express',\n",
              " 'N932AN': 'American Airlines Inc.',\n",
              " 'N178SY': 'SkyWest Airlines Inc.',\n",
              " 'N8659D': 'Southwest Airlines Co.',\n",
              " 'N609AS': 'Alaska Airlines Inc.',\n",
              " 'N8713M': 'Southwest Airlines Co.',\n",
              " 'N526VA': 'Virgin America',\n",
              " 'N910NK': 'Spirit Air Lines',\n",
              " 'N430QX': 'Horizon Air',\n",
              " 'N341FR': 'Frontier Airlines Inc.',\n",
              " 'N628QX': 'Horizon Air',\n",
              " 'N485HA': 'Hawaiian Airlines Inc.',\n",
              " 'N68836': 'United Air Lines Inc.',\n",
              " 'N8665D': 'Southwest Airlines Co.',\n",
              " 'N709SW': 'Southwest Airlines Co.',\n",
              " 'N294WN': 'Southwest Airlines Co.',\n",
              " 'N3753': 'Delta Air Lines Inc.',\n",
              " 'N647NK': 'Spirit Air Lines',\n",
              " 'N703SW': 'Southwest Airlines Co.',\n",
              " 'N405WN': 'Southwest Airlines Co.',\n",
              " 'N112HQ': 'Republic Airlines',\n",
              " 'N87302': 'Mesa Airlines Inc.',\n",
              " 'N655CA': 'GoJet Airlines, LLC d/b/a United Express',\n",
              " 'N7833A': 'Southwest Airlines Co.',\n",
              " 'N7877H': 'Southwest Airlines Co.',\n",
              " 'N402WN': 'Southwest Airlines Co.',\n",
              " 'N944JT': 'JetBlue Airways',\n",
              " 'N207WN': 'Southwest Airlines Co.',\n",
              " 'N524VA': 'Virgin America',\n",
              " 'N7869A': 'Southwest Airlines Co.',\n",
              " 'N902NN': 'American Airlines Inc.',\n",
              " 'N706SW': 'Southwest Airlines Co.',\n",
              " 'N352PS': 'American Airlines Inc.',\n",
              " 'N444YX': 'Republic Airlines',\n",
              " 'N305DQ': 'Delta Air Lines Inc.',\n",
              " 'N248WN': 'Southwest Airlines Co.',\n",
              " 'N609DP': 'Capital Cargo International',\n",
              " 'N928WN': 'Southwest Airlines Co.',\n",
              " 'N37408': 'United Air Lines Inc.',\n",
              " 'N516NK': 'Spirit Air Lines',\n",
              " 'N86309': 'Mesa Airlines Inc.',\n",
              " 'N132SY': 'SkyWest Airlines Inc.',\n",
              " 'N315PQ': 'Endeavor Air Inc.',\n",
              " 'N8309C': 'Southwest Airlines Co.',\n",
              " 'N979UY': 'American Airlines Inc.',\n",
              " 'N316JB': 'JetBlue Airways',\n",
              " 'N506AE': 'Envoy Air',\n",
              " 'N824DN': 'Delta Air Lines Inc.',\n",
              " 'N332NB': 'Delta Air Lines Inc.',\n",
              " 'N127SY': 'SkyWest Airlines Inc.',\n",
              " 'N443WN': 'Southwest Airlines Co.',\n",
              " 'N657JB': 'JetBlue Airways',\n",
              " 'N995DL': 'Delta Air Lines Inc.',\n",
              " 'N539US': 'Delta Air Lines Inc.',\n",
              " 'N711FR': 'Frontier Airlines Inc.',\n",
              " 'N778SW': 'Southwest Airlines Co.',\n",
              " 'N389DA': 'Delta Air Lines Inc.',\n",
              " 'N218WN': 'Southwest Airlines Co.',\n",
              " 'N927VA': 'Alaska Airlines Inc.',\n",
              " 'N260NN': 'Envoy Air',\n",
              " 'N684NK': 'Spirit Air Lines',\n",
              " 'N773UA': 'United Air Lines Inc.',\n",
              " 'N832NN': 'American Airlines Inc.',\n",
              " 'N638QX': 'Horizon Air',\n",
              " 'N630NK': 'Spirit Air Lines',\n",
              " 'N16732': 'United Air Lines Inc.',\n",
              " 'N250NN': 'Envoy Air',\n",
              " 'N162SY': 'SkyWest Airlines Inc.',\n",
              " 'N663AR': 'Envoy Air',\n",
              " 'N858AE': 'Envoy Air',\n",
              " 'N11165': 'ExpressJet Airlines Inc.',\n",
              " 'N74007': 'United Air Lines Inc.',\n",
              " 'N974AT': 'Delta Air Lines Inc.',\n",
              " 'N685DA': 'Delta Air Lines Inc.',\n",
              " 'N8693A': 'Southwest Airlines Co.',\n",
              " 'N633AE': 'Capital Cargo International',\n",
              " 'N8660A': 'Southwest Airlines Co.',\n",
              " 'N115NN': 'American Airlines Inc.',\n",
              " 'N267WN': 'Southwest Airlines Co.',\n",
              " 'N909FJ': 'Mesa Airlines Inc.',\n",
              " 'N7826B': 'Southwest Airlines Co.',\n",
              " 'N894AT': 'Delta Air Lines Inc.',\n",
              " 'N536US': 'Delta Air Lines Inc.',\n",
              " 'N8565Z': 'Southwest Airlines Co.',\n",
              " 'N536NK': 'Spirit Air Lines',\n",
              " 'N12116': 'United Air Lines Inc.',\n",
              " 'N258SY': 'SkyWest Airlines Inc.',\n",
              " 'N951DL': 'Delta Air Lines Inc.',\n",
              " 'N222WN': 'Southwest Airlines Co.',\n",
              " 'N482UA': 'United Air Lines Inc.',\n",
              " 'N635QX': 'Horizon Air',\n",
              " 'N282AK': 'Alaska Airlines Inc.',\n",
              " 'N486HA': 'Hawaiian Airlines Inc.',\n",
              " '302NV': 'Allegiant Air',\n",
              " 'N703JB': 'JetBlue Airways',\n",
              " 'N338DN': 'Delta Air Lines Inc.',\n",
              " 'N941WN': 'Southwest Airlines Co.',\n",
              " 'N8678E': 'Southwest Airlines Co.',\n",
              " 'N931AM': 'American Airlines Inc.',\n",
              " 'N707EV': 'ExpressJet Airlines Inc.',\n",
              " 'N7710A': 'Southwest Airlines Co.',\n",
              " 'N851UA': 'United Air Lines Inc.',\n",
              " 'N929XJ': 'Endeavor Air Inc.',\n",
              " 'N958AT': 'Delta Air Lines Inc.',\n",
              " 'N8965E': 'SkyWest Airlines Inc.',\n",
              " 'N76269': 'United Air Lines Inc.',\n",
              " 'N149AN': 'American Airlines Inc.',\n",
              " '233NV': 'Allegiant Air',\n",
              " 'N928AE': 'Envoy Air',\n",
              " 'N67134': 'United Air Lines Inc.',\n",
              " 'N181SY': 'SkyWest Airlines Inc.',\n",
              " 'N430YX': 'Republic Airlines',\n",
              " 'N856AS': 'ExpressJet Airlines Inc.',\n",
              " 'N73291': 'United Air Lines Inc.',\n",
              " 'N476WN': 'Southwest Airlines Co.',\n",
              " 'N958AN': 'American Airlines Inc.',\n",
              " 'N944AT': 'Delta Air Lines Inc.',\n",
              " 'N876NN': 'American Airlines Inc.',\n",
              " 'N783SW': 'Southwest Airlines Co.',\n",
              " 'N411ZW': 'Air Wisconsin Airlines Corp',\n",
              " 'N990NN': 'American Airlines Inc.',\n",
              " 'N203SY': 'SkyWest Airlines Inc.',\n",
              " '244NV': 'Allegiant Air',\n",
              " 'N989JB': 'JetBlue Airways',\n",
              " 'N406WN': 'Southwest Airlines Co.',\n",
              " 'N472CA': 'SkyWest Airlines Inc.',\n",
              " 'N439AW': 'Air Wisconsin Airlines Corp',\n",
              " 'N896SK': 'SkyWest Airlines Inc.',\n",
              " 'N235FR': 'Frontier Airlines Inc.',\n",
              " 'N151GJ': 'GoJet Airlines, LLC d/b/a United Express',\n",
              " 'N166SY': 'SkyWest Airlines Inc.',\n",
              " 'N57855': 'United Air Lines Inc.',\n",
              " 'N4901U': 'United Air Lines Inc.',\n",
              " 'N324NB': 'Delta Air Lines Inc.',\n",
              " 'N919SW': 'SkyWest Airlines Inc.',\n",
              " 'N727SW': 'Southwest Airlines Co.',\n",
              " 'N822UA': 'United Air Lines Inc.',\n",
              " 'N8707P': 'Southwest Airlines Co.',\n",
              " 'N340CA': 'GoJet Airlines, LLC d/b/a United Express',\n",
              " 'N477WN': 'Southwest Airlines Co.',\n",
              " 'N481WN': 'Southwest Airlines Co.',\n",
              " 'N791SW': 'Southwest Airlines Co.',\n",
              " 'N8837B': 'Endeavor Air Inc.',\n",
              " 'N8605E': 'Southwest Airlines Co.',\n",
              " 'N705JB': 'JetBlue Airways',\n",
              " 'N459WN': 'Southwest Airlines Co.',\n",
              " 'N85355': 'Mesa Airlines Inc.',\n",
              " 'N8652B': 'Southwest Airlines Co.',\n",
              " 'N113SY': 'SkyWest Airlines Inc.',\n",
              " 'N219NN': 'Compass Airlines',\n",
              " 'N837AW': 'American Airlines Inc.',\n",
              " 'N69810': 'United Air Lines Inc.',\n",
              " 'N593NN': 'Comair Inc.',\n",
              " 'N895AT': 'Delta Air Lines Inc.',\n",
              " 'N608AT': 'Delta Air Lines Inc.',\n",
              " 'N772SW': 'Southwest Airlines Co.',\n",
              " 'N7746C': 'Southwest Airlines Co.',\n",
              " 'N336FR': 'Frontier Airlines Inc.',\n",
              " 'N116HQ': 'Republic Airlines',\n",
              " 'N904DE': 'Delta Air Lines Inc.',\n",
              " 'N805AW': 'American Airlines Inc.',\n",
              " 'N12218': 'United Air Lines Inc.',\n",
              " 'N736YX': 'Republic Airlines',\n",
              " 'N181PQ': 'Endeavor Air Inc.',\n",
              " 'N208JQ': 'Republic Airlines',\n",
              " 'N258PS': 'Comair Inc.',\n",
              " 'N868RW': 'Republic Airlines',\n",
              " 'N8946A': 'Endeavor Air Inc.',\n",
              " 'N8680C': 'Southwest Airlines Co.',\n",
              " 'N544US': 'Delta Air Lines Inc.',\n",
              " 'N7822A': 'Southwest Airlines Co.',\n",
              " 'N957UW': 'American Airlines Inc.',\n",
              " 'N939UW': 'American Airlines Inc.',\n",
              " 'N785SK': 'SkyWest Airlines Inc.',\n",
              " 'N964AT': 'Delta Air Lines Inc.',\n",
              " 'N829DN': 'Delta Air Lines Inc.',\n",
              " 'N707SA': 'Southwest Airlines Co.',\n",
              " 'N936AN': 'American Airlines Inc.',\n",
              " 'N8682B': 'Southwest Airlines Co.',\n",
              " 'N523UW': 'American Airlines Inc.',\n",
              " 'N964AN': 'American Airlines Inc.',\n",
              " 'N904NK': 'Spirit Air Lines',\n",
              " 'N7847A': 'Southwest Airlines Co.',\n",
              " 'N16559': 'ExpressJet Airlines Inc.',\n",
              " 'N540US': 'Delta Air Lines Inc.',\n",
              " 'N992AU': 'American Airlines Inc.',\n",
              " 'N173GJ': 'GoJet Airlines, LLC d/b/a United Express',\n",
              " 'N788SA': 'Southwest Airlines Co.',\n",
              " 'N638NK': 'Spirit Air Lines',\n",
              " 'N494HA': 'Hawaiian Airlines Inc.',\n",
              " 'N62894': 'United Air Lines Inc.',\n",
              " 'N931AE': 'Envoy Air',\n",
              " 'N933JN': 'Envoy Air',\n",
              " 'N954UW': 'American Airlines Inc.',\n",
              " 'N87507': 'United Air Lines Inc.',\n",
              " 'N435WN': 'Southwest Airlines Co.',\n",
              " 'N902AN': 'American Airlines Inc.',\n",
              " 'N489HA': 'Hawaiian Airlines Inc.',\n",
              " 'N535US': 'Delta Air Lines Inc.',\n",
              " 'N201LV': 'Southwest Airlines Co.',\n",
              " 'N979RP': 'Republic Airlines',\n",
              " 'N557WN': 'Southwest Airlines Co.',\n",
              " 'N8329B': 'Southwest Airlines Co.',\n",
              " 'N7873A': 'Southwest Airlines Co.',\n",
              " 'N8676A': 'Southwest Airlines Co.',\n",
              " 'N960AN': 'American Airlines Inc.',\n",
              " 'N921DN': 'Delta Air Lines Inc.',\n",
              " 'N794SW': 'Southwest Airlines Co.',\n",
              " 'N8619F': 'Southwest Airlines Co.',\n",
              " 'N663JB': 'JetBlue Airways',\n",
              " 'N18120': 'Trans States Airlines',\n",
              " 'N506CA': 'SkyWest Airlines Inc.',\n",
              " 'N170GJ': 'GoJet Airlines, LLC d/b/a United Express',\n",
              " 'N626AE': 'Capital Cargo International',\n",
              " 'N625CA': 'SkyWest Airlines Inc.',\n",
              " 'N910XJ': 'Endeavor Air Inc.',\n",
              " 'N227FR': 'Frontier Airlines Inc.',\n",
              " 'N834UA': 'United Air Lines Inc.',\n",
              " 'N254PS': 'Comair Inc.',\n",
              " 'N11535': 'ExpressJet Airlines Inc.',\n",
              " 'N116SY': 'SkyWest Airlines Inc.',\n",
              " 'N544UW': 'American Airlines Inc.',\n",
              " 'N967AT': 'Delta Air Lines Inc.',\n",
              " 'N7751A': 'Southwest Airlines Co.',\n",
              " 'N499WN': 'Southwest Airlines Co.',\n",
              " 'N426SW': 'SkyWest Airlines Inc.',\n",
              " 'N62884': 'United Air Lines Inc.',\n",
              " 'N559NN': 'Comair Inc.',\n",
              " 'N8538V': 'Southwest Airlines Co.',\n",
              " 'N854DN': 'Delta Air Lines Inc.',\n",
              " 'N570WN': 'Southwest Airlines Co.',\n",
              " 'N316DN': 'Delta Air Lines Inc.',\n",
              " 'N61886': 'United Air Lines Inc.',\n",
              " 'N807AE': 'Envoy Air',\n",
              " 'N712FR': 'Frontier Airlines Inc.',\n",
              " '883GA': 'Allegiant Air',\n",
              " 'N237WN': 'Southwest Airlines Co.',\n",
              " 'N508JB': 'JetBlue Airways',\n",
              " 'N3732J': 'Delta Air Lines Inc.',\n",
              " 'N973AN': 'American Airlines Inc.',\n",
              " 'N987DL': 'Delta Air Lines Inc.',\n",
              " 'N824AE': 'Envoy Air',\n",
              " 'N615AS': 'Alaska Airlines Inc.',\n",
              " 'N461UA': 'United Air Lines Inc.',\n",
              " 'N76504': 'United Air Lines Inc.',\n",
              " 'N814AA': 'American Airlines Inc.',\n",
              " 'N440YX': 'Republic Airlines',\n",
              " 'N274SY': 'SkyWest Airlines Inc.',\n",
              " 'N943WN': 'Southwest Airlines Co.',\n",
              " 'N159AN': 'American Airlines Inc.',\n",
              " 'N563JB': 'JetBlue Airways',\n",
              " 'N85351': 'Mesa Airlines Inc.',\n",
              " 'N69885': 'United Air Lines Inc.',\n",
              " 'N445QX': 'Horizon Air',\n",
              " 'N219WN': 'Southwest Airlines Co.',\n",
              " 'N8625A': 'Southwest Airlines Co.',\n",
              " 'N635JB': 'JetBlue Airways',\n",
              " 'N905DE': 'Delta Air Lines Inc.',\n",
              " 'N976JT': 'JetBlue Airways',\n",
              " 'N423AW': 'Air Wisconsin Airlines Corp',\n",
              " 'N909SW': 'SkyWest Airlines Inc.',\n",
              " 'N8550Q': 'Southwest Airlines Co.',\n",
              " 'N87306': 'Mesa Airlines Inc.',\n",
              " 'N77258': 'United Air Lines Inc.',\n",
              " 'N570NN': 'Comair Inc.',\n",
              " 'N18101': 'Trans States Airlines',\n",
              " '314NV': 'Allegiant Air',\n",
              " 'N218NN': 'Compass Airlines',\n",
              " 'N26232': 'United Air Lines Inc.',\n",
              " 'N179JB': 'JetBlue Airways',\n",
              " 'N413WN': 'Southwest Airlines Co.',\n",
              " 'N66837': 'United Air Lines Inc.',\n",
              " 'N159GJ': 'GoJet Airlines, LLC d/b/a United Express',\n",
              " 'N452AW': 'Air Wisconsin Airlines Corp',\n",
              " 'N312DN': 'Delta Air Lines Inc.',\n",
              " 'N423QX': 'Horizon Air',\n",
              " 'N929AN': 'American Airlines Inc.',\n",
              " 'N677NK': 'Spirit Air Lines',\n",
              " 'N557AS': 'Alaska Airlines Inc.',\n",
              " 'N620AE': 'Capital Cargo International',\n",
              " 'N435AW': 'Air Wisconsin Airlines Corp',\n",
              " 'N549NN': 'Comair Inc.',\n",
              " 'N107SY': 'SkyWest Airlines Inc.',\n",
              " 'N998AN': 'American Airlines Inc.',\n",
              " 'N996AN': 'American Airlines Inc.',\n",
              " 'N478HA': 'Hawaiian Airlines Inc.',\n",
              " 'N14562': 'ExpressJet Airlines Inc.',\n",
              " 'N922AT': 'Delta Air Lines Inc.',\n",
              " 'N637CZ': 'Compass Airlines',\n",
              " 'N11109': 'ExpressJet Airlines Inc.',\n",
              " 'N569WN': 'Southwest Airlines Co.',\n",
              " 'N245LR': 'Mesa Airlines Inc.',\n",
              " 'N649AW': 'American Airlines Inc.',\n",
              " 'N481HA': 'Hawaiian Airlines Inc.',\n",
              " 'N855AE': 'Envoy Air',\n",
              " 'N7846A': 'Southwest Airlines Co.',\n",
              " 'N793JB': 'JetBlue Airways',\n",
              " 'N423WN': 'Southwest Airlines Co.',\n",
              " 'N827DN': 'Delta Air Lines Inc.',\n",
              " 'N347DN': 'Delta Air Lines Inc.',\n",
              " 'N366NW': 'Delta Air Lines Inc.',\n",
              " 'N854UA': 'United Air Lines Inc.',\n",
              " 'N529AS': 'Alaska Airlines Inc.',\n",
              " 'N207PS': 'Comair Inc.',\n",
              " 'N407QX': 'Horizon Air',\n",
              " 'N618AS': 'Alaska Airlines Inc.',\n",
              " 'N7844A': 'Southwest Airlines Co.',\n",
              " 'N810AE': 'Envoy Air',\n",
              " 'N614AS': 'Alaska Airlines Inc.',\n",
              " '424NV': 'Allegiant Air',\n",
              " 'N523JB': 'JetBlue Airways',\n",
              " 'N857NN': 'American Airlines Inc.',\n",
              " 'N444UA': 'United Air Lines Inc.',\n",
              " 'N934DN': 'Delta Air Lines Inc.',\n",
              " 'N963WN': 'Southwest Airlines Co.',\n",
              " 'N200NV': 'American Airlines Inc.',\n",
              " 'N813NN': 'American Airlines Inc.',\n",
              " 'N616CZ': 'Compass Airlines',\n",
              " 'N883DN': 'Delta Air Lines Inc.',\n",
              " 'N909DA': 'Delta Air Lines Inc.',\n",
              " 'N749US': 'American Airlines Inc.',\n",
              " 'N188US': 'American Airlines Inc.',\n",
              " 'N876AS': 'SkyWest Airlines Inc.',\n",
              " 'N328JB': 'JetBlue Airways',\n",
              " 'N151SY': 'SkyWest Airlines Inc.',\n",
              " 'N239WN': 'Southwest Airlines Co.',\n",
              " 'N8701Q': 'Southwest Airlines Co.',\n",
              " 'N613CZ': 'Compass Airlines',\n",
              " 'N658DL': 'Delta Air Lines Inc.',\n",
              " 'N7730A': 'Southwest Airlines Co.',\n",
              " 'N421ZW': 'Air Wisconsin Airlines Corp',\n",
              " 'N8908D': 'Endeavor Air Inc.',\n",
              " 'N7840A': 'Southwest Airlines Co.',\n",
              " 'N904XJ': 'Endeavor Air Inc.',\n",
              " 'N440UA': 'United Air Lines Inc.',\n",
              " 'N773SA': 'Southwest Airlines Co.',\n",
              " 'N878NN': 'American Airlines Inc.',\n",
              " 'N927AT': 'Delta Air Lines Inc.',\n",
              " 'N959WN': 'Southwest Airlines Co.',\n",
              " 'N430UA': 'United Air Lines Inc.',\n",
              " 'N950NN': 'American Airlines Inc.',\n",
              " 'N3754A': 'Delta Air Lines Inc.',\n",
              " 'N891AT': 'Delta Air Lines Inc.',\n",
              " 'N365NW': 'Delta Air Lines Inc.',\n",
              " 'N258WN': 'Southwest Airlines Co.',\n",
              " 'N335PQ': 'Endeavor Air Inc.',\n",
              " 'N918FJ': 'Mesa Airlines Inc.',\n",
              " 'N642RW': 'Republic Airlines',\n",
              " 'N819AW': 'American Airlines Inc.',\n",
              " 'N7739A': 'Southwest Airlines Co.',\n",
              " 'N600LR': 'Endeavor Air Inc.',\n",
              " 'N7731A': 'Southwest Airlines Co.',\n",
              " 'N912SW': 'SkyWest Airlines Inc.',\n",
              " 'N938AN': 'American Airlines Inc.',\n",
              " 'N453AW': 'Air Wisconsin Airlines Corp',\n",
              " 'N515AE': 'Comair Inc.',\n",
              " 'N878RW': 'Republic Airlines',\n",
              " 'N579JB': 'JetBlue Airways',\n",
              " 'N607AE': 'Envoy Air',\n",
              " 'N822SK': 'SkyWest Airlines Inc.',\n",
              " 'N603NN': 'Comair Inc.',\n",
              " 'N105NN': 'American Airlines Inc.',\n",
              " 'N270SY': 'SkyWest Airlines Inc.',\n",
              " 'N642NK': 'Spirit Air Lines',\n",
              " 'N37422': 'United Air Lines Inc.',\n",
              " 'N341NW': 'Delta Air Lines Inc.',\n",
              " 'N8567Z': 'Southwest Airlines Co.',\n",
              " 'N8623F': 'Southwest Airlines Co.',\n",
              " 'N487UA': 'United Air Lines Inc.',\n",
              " 'N895UA': 'United Air Lines Inc.',\n",
              " 'N420AW': 'Air Wisconsin Airlines Corp',\n",
              " 'N616NK': 'Spirit Air Lines',\n",
              " 'N14171': 'Commutair Aka Champlain Enterprises, Inc.',\n",
              " 'N711UW': 'American Airlines Inc.',\n",
              " 'N77510': 'United Air Lines Inc.',\n",
              " 'N902DN': 'Delta Air Lines Inc.',\n",
              " 'N928LR': 'Mesa Airlines Inc.',\n",
              " 'N120HQ': 'Republic Airlines',\n",
              " 'N14568': 'ExpressJet Airlines Inc.',\n",
              " 'N146SY': 'SkyWest Airlines Inc.',\n",
              " 'N493WN': 'Southwest Airlines Co.',\n",
              " 'N174GJ': 'GoJet Airlines, LLC d/b/a United Express',\n",
              " 'N425AW': 'Air Wisconsin Airlines Corp',\n",
              " 'N928SW': 'SkyWest Airlines Inc.',\n",
              " 'N717UW': 'American Airlines Inc.',\n",
              " 'N218PS': 'Comair Inc.',\n",
              " 'N35204': 'United Air Lines Inc.',\n",
              " 'N456WN': 'Southwest Airlines Co.',\n",
              " 'N3749D': 'Delta Air Lines Inc.',\n",
              " 'N170US': 'American Airlines Inc.',\n",
              " 'N111HQ': 'Republic Airlines',\n",
              " 'N449QX': 'Horizon Air',\n",
              " 'N8932C': 'SkyWest Airlines Inc.',\n",
              " 'N14916': 'ExpressJet Airlines Inc.',\n",
              " 'N412QX': 'Horizon Air',\n",
              " 'N269NN': 'Envoy Air',\n",
              " 'N216HA': 'Hawaiian Airlines Inc.',\n",
              " 'N974DL': 'Delta Air Lines Inc.',\n",
              " 'N713UW': 'American Airlines Inc.',\n",
              " 'N827AW': 'American Airlines Inc.',\n",
              " 'N11539': 'ExpressJet Airlines Inc.',\n",
              " 'N547JB': 'JetBlue Airways',\n",
              " 'N892DN': 'Delta Air Lines Inc.',\n",
              " 'N801UA': 'United Air Lines Inc.',\n",
              " 'N464AW': 'Air Wisconsin Airlines Corp',\n",
              " 'N939DL': 'Delta Air Lines Inc.',\n",
              " 'N35271': 'United Air Lines Inc.',\n",
              " 'N316NB': 'Delta Air Lines Inc.',\n",
              " 'N968DL': 'Delta Air Lines Inc.',\n",
              " 'N417AW': 'Air Wisconsin Airlines Corp',\n",
              " 'N554CA': 'SkyWest Airlines Inc.',\n",
              " 'N929JB': 'JetBlue Airways',\n",
              " 'N917FJ': 'Mesa Airlines Inc.',\n",
              " 'N926XJ': 'Endeavor Air Inc.',\n",
              " 'N716UW': 'American Airlines Inc.',\n",
              " 'N920AN': 'American Airlines Inc.',\n",
              " 'N3755D': 'Delta Air Lines Inc.',\n",
              " 'N7704B': 'Southwest Airlines Co.',\n",
              " 'N936XJ': 'Endeavor Air Inc.',\n",
              " 'N808AE': 'Envoy Air',\n",
              " 'N410AW': 'Air Wisconsin Airlines Corp',\n",
              " 'N507NK': 'Spirit Air Lines',\n",
              " 'N526EA': 'Comair Inc.',\n",
              " 'N277SY': 'SkyWest Airlines Inc.',\n",
              " 'N892NN': 'American Airlines Inc.',\n",
              " 'N455UA': 'United Air Lines Inc.',\n",
              " 'N584AS': 'Alaska Airlines Inc.',\n",
              " 'N919FJ': 'Mesa Airlines Inc.',\n",
              " 'N210UA': 'United Air Lines Inc.',\n",
              " 'N75410': 'United Air Lines Inc.',\n",
              " 'N14905': 'ExpressJet Airlines Inc.',\n",
              " 'N644NK': 'Spirit Air Lines',\n",
              " 'N182UW': 'American Airlines Inc.',\n",
              " 'N337NB': 'Delta Air Lines Inc.',\n",
              " 'N390AA': 'American Airlines Inc.',\n",
              " 'N344DN': 'Delta Air Lines Inc.',\n",
              " 'N12528': 'ExpressJet Airlines Inc.',\n",
              " 'N108SY': 'SkyWest Airlines Inc.',\n",
              " 'N447UA': 'United Air Lines Inc.',\n",
              " 'N980EV': 'Endeavor Air Inc.',\n",
              " 'N14143': 'Commutair Aka Champlain Enterprises, Inc.',\n",
              " 'N586JB': 'JetBlue Airways',\n",
              " 'N7811F': 'Southwest Airlines Co.',\n",
              " 'N11193': 'Commutair Aka Champlain Enterprises, Inc.',\n",
              " 'N14235': 'United Air Lines Inc.',\n",
              " ...}"
            ]
          },
          "metadata": {},
          "execution_count": 49
        }
      ],
      "source": [
        "tail_num"
      ]
    },
    {
      "cell_type": "code",
      "execution_count": null,
      "metadata": {
        "id": "QYiv_CG9PXME"
      },
      "outputs": [],
      "source": [
        "for key, value in tail_num.items():\n",
        "    train.loc[train[(train['Airline'].isnull()) & (train['Tail_Number'] == key)].index, 'Airline'] = value\n",
        "    test.loc[test[(test['Airline'].isnull()) & (test['Tail_Number'] == key)].index, 'Airline'] = value"
      ]
    },
    {
      "cell_type": "code",
      "execution_count": null,
      "metadata": {
        "colab": {
          "base_uri": "https://localhost:8080/",
          "height": 176
        },
        "id": "pkmKk23SPiox",
        "outputId": "0d5882a3-7fad-46f6-a1da-3bc2dde31b37"
      },
      "outputs": [
        {
          "output_type": "execute_result",
          "data": {
            "text/plain": [
              "                  ID  Month  Day_of_Month  Estimated_Departure_Time  \\\n",
              "382926  TRAIN_382926     10            31                    1740.0   \n",
              "856500  TRAIN_856500      1            13                    2205.0   \n",
              "\n",
              "        Estimated_Arrival_Time Origin_Airport  Origin_Airport_ID  \\\n",
              "382926                     NaN            HNL              12173   \n",
              "856500                   705.0            OGG              13830   \n",
              "\n",
              "       Destination_Airport  Destination_Airport_ID  Distance Airline  \\\n",
              "382926                 ATL                   10397    4502.0    None   \n",
              "856500                 SLC                   14869    2935.0    None   \n",
              "\n",
              "       Carrier_Code(IATA)  Carrier_ID(DOT) Tail_Number Delay  \\\n",
              "382926                 DL              NaN      N867DA  None   \n",
              "856500                 DL              NaN      N153DL  None   \n",
              "\n",
              "       filled_Origin_State filled_Destination_State  \n",
              "382926              Hawaii                  Georgia  \n",
              "856500              Hawaii                     Utah  "
            ],
            "text/html": [
              "\n",
              "  <div id=\"df-720aaf98-7b0f-403e-a938-ddb2ba7fdfae\">\n",
              "    <div class=\"colab-df-container\">\n",
              "      <div>\n",
              "<style scoped>\n",
              "    .dataframe tbody tr th:only-of-type {\n",
              "        vertical-align: middle;\n",
              "    }\n",
              "\n",
              "    .dataframe tbody tr th {\n",
              "        vertical-align: top;\n",
              "    }\n",
              "\n",
              "    .dataframe thead th {\n",
              "        text-align: right;\n",
              "    }\n",
              "</style>\n",
              "<table border=\"1\" class=\"dataframe\">\n",
              "  <thead>\n",
              "    <tr style=\"text-align: right;\">\n",
              "      <th></th>\n",
              "      <th>ID</th>\n",
              "      <th>Month</th>\n",
              "      <th>Day_of_Month</th>\n",
              "      <th>Estimated_Departure_Time</th>\n",
              "      <th>Estimated_Arrival_Time</th>\n",
              "      <th>Origin_Airport</th>\n",
              "      <th>Origin_Airport_ID</th>\n",
              "      <th>Destination_Airport</th>\n",
              "      <th>Destination_Airport_ID</th>\n",
              "      <th>Distance</th>\n",
              "      <th>Airline</th>\n",
              "      <th>Carrier_Code(IATA)</th>\n",
              "      <th>Carrier_ID(DOT)</th>\n",
              "      <th>Tail_Number</th>\n",
              "      <th>Delay</th>\n",
              "      <th>filled_Origin_State</th>\n",
              "      <th>filled_Destination_State</th>\n",
              "    </tr>\n",
              "  </thead>\n",
              "  <tbody>\n",
              "    <tr>\n",
              "      <th>382926</th>\n",
              "      <td>TRAIN_382926</td>\n",
              "      <td>10</td>\n",
              "      <td>31</td>\n",
              "      <td>1740.0</td>\n",
              "      <td>NaN</td>\n",
              "      <td>HNL</td>\n",
              "      <td>12173</td>\n",
              "      <td>ATL</td>\n",
              "      <td>10397</td>\n",
              "      <td>4502.0</td>\n",
              "      <td>None</td>\n",
              "      <td>DL</td>\n",
              "      <td>NaN</td>\n",
              "      <td>N867DA</td>\n",
              "      <td>None</td>\n",
              "      <td>Hawaii</td>\n",
              "      <td>Georgia</td>\n",
              "    </tr>\n",
              "    <tr>\n",
              "      <th>856500</th>\n",
              "      <td>TRAIN_856500</td>\n",
              "      <td>1</td>\n",
              "      <td>13</td>\n",
              "      <td>2205.0</td>\n",
              "      <td>705.0</td>\n",
              "      <td>OGG</td>\n",
              "      <td>13830</td>\n",
              "      <td>SLC</td>\n",
              "      <td>14869</td>\n",
              "      <td>2935.0</td>\n",
              "      <td>None</td>\n",
              "      <td>DL</td>\n",
              "      <td>NaN</td>\n",
              "      <td>N153DL</td>\n",
              "      <td>None</td>\n",
              "      <td>Hawaii</td>\n",
              "      <td>Utah</td>\n",
              "    </tr>\n",
              "  </tbody>\n",
              "</table>\n",
              "</div>\n",
              "      <button class=\"colab-df-convert\" onclick=\"convertToInteractive('df-720aaf98-7b0f-403e-a938-ddb2ba7fdfae')\"\n",
              "              title=\"Convert this dataframe to an interactive table.\"\n",
              "              style=\"display:none;\">\n",
              "        \n",
              "  <svg xmlns=\"http://www.w3.org/2000/svg\" height=\"24px\"viewBox=\"0 0 24 24\"\n",
              "       width=\"24px\">\n",
              "    <path d=\"M0 0h24v24H0V0z\" fill=\"none\"/>\n",
              "    <path d=\"M18.56 5.44l.94 2.06.94-2.06 2.06-.94-2.06-.94-.94-2.06-.94 2.06-2.06.94zm-11 1L8.5 8.5l.94-2.06 2.06-.94-2.06-.94L8.5 2.5l-.94 2.06-2.06.94zm10 10l.94 2.06.94-2.06 2.06-.94-2.06-.94-.94-2.06-.94 2.06-2.06.94z\"/><path d=\"M17.41 7.96l-1.37-1.37c-.4-.4-.92-.59-1.43-.59-.52 0-1.04.2-1.43.59L10.3 9.45l-7.72 7.72c-.78.78-.78 2.05 0 2.83L4 21.41c.39.39.9.59 1.41.59.51 0 1.02-.2 1.41-.59l7.78-7.78 2.81-2.81c.8-.78.8-2.07 0-2.86zM5.41 20L4 18.59l7.72-7.72 1.47 1.35L5.41 20z\"/>\n",
              "  </svg>\n",
              "      </button>\n",
              "      \n",
              "  <style>\n",
              "    .colab-df-container {\n",
              "      display:flex;\n",
              "      flex-wrap:wrap;\n",
              "      gap: 12px;\n",
              "    }\n",
              "\n",
              "    .colab-df-convert {\n",
              "      background-color: #E8F0FE;\n",
              "      border: none;\n",
              "      border-radius: 50%;\n",
              "      cursor: pointer;\n",
              "      display: none;\n",
              "      fill: #1967D2;\n",
              "      height: 32px;\n",
              "      padding: 0 0 0 0;\n",
              "      width: 32px;\n",
              "    }\n",
              "\n",
              "    .colab-df-convert:hover {\n",
              "      background-color: #E2EBFA;\n",
              "      box-shadow: 0px 1px 2px rgba(60, 64, 67, 0.3), 0px 1px 3px 1px rgba(60, 64, 67, 0.15);\n",
              "      fill: #174EA6;\n",
              "    }\n",
              "\n",
              "    [theme=dark] .colab-df-convert {\n",
              "      background-color: #3B4455;\n",
              "      fill: #D2E3FC;\n",
              "    }\n",
              "\n",
              "    [theme=dark] .colab-df-convert:hover {\n",
              "      background-color: #434B5C;\n",
              "      box-shadow: 0px 1px 3px 1px rgba(0, 0, 0, 0.15);\n",
              "      filter: drop-shadow(0px 1px 2px rgba(0, 0, 0, 0.3));\n",
              "      fill: #FFFFFF;\n",
              "    }\n",
              "  </style>\n",
              "\n",
              "      <script>\n",
              "        const buttonEl =\n",
              "          document.querySelector('#df-720aaf98-7b0f-403e-a938-ddb2ba7fdfae button.colab-df-convert');\n",
              "        buttonEl.style.display =\n",
              "          google.colab.kernel.accessAllowed ? 'block' : 'none';\n",
              "\n",
              "        async function convertToInteractive(key) {\n",
              "          const element = document.querySelector('#df-720aaf98-7b0f-403e-a938-ddb2ba7fdfae');\n",
              "          const dataTable =\n",
              "            await google.colab.kernel.invokeFunction('convertToInteractive',\n",
              "                                                     [key], {});\n",
              "          if (!dataTable) return;\n",
              "\n",
              "          const docLinkHtml = 'Like what you see? Visit the ' +\n",
              "            '<a target=\"_blank\" href=https://colab.research.google.com/notebooks/data_table.ipynb>data table notebook</a>'\n",
              "            + ' to learn more about interactive tables.';\n",
              "          element.innerHTML = '';\n",
              "          dataTable['output_type'] = 'display_data';\n",
              "          await google.colab.output.renderOutput(dataTable, element);\n",
              "          const docLink = document.createElement('div');\n",
              "          docLink.innerHTML = docLinkHtml;\n",
              "          element.appendChild(docLink);\n",
              "        }\n",
              "      </script>\n",
              "    </div>\n",
              "  </div>\n",
              "  "
            ]
          },
          "metadata": {},
          "execution_count": 51
        }
      ],
      "source": [
        "train[train['Airline'].isnull()]"
      ]
    },
    {
      "cell_type": "code",
      "execution_count": null,
      "metadata": {
        "colab": {
          "base_uri": "https://localhost:8080/"
        },
        "id": "Y_Ro_NcPPoc-",
        "outputId": "c09a6299-5f27-4dc0-a2f3-5a78c0ec6ee4"
      },
      "outputs": [
        {
          "output_type": "execute_result",
          "data": {
            "text/plain": [
              "(2, 1719)"
            ]
          },
          "metadata": {},
          "execution_count": 52
        }
      ],
      "source": [
        "train['Airline'].isnull().sum(), test['Airline'].isnull().sum()"
      ]
    },
    {
      "cell_type": "code",
      "execution_count": null,
      "metadata": {
        "colab": {
          "background_save": true
        },
        "id": "CNJKtQE-QHm9"
      },
      "outputs": [],
      "source": []
    },
    {
      "cell_type": "markdown",
      "metadata": {
        "id": "clDJze1hQRkx"
      },
      "source": [
        "### Carrier_Code(IATA) 처리 \n"
      ]
    },
    {
      "cell_type": "code",
      "execution_count": null,
      "metadata": {
        "id": "0dABxO7tQbGT"
      },
      "outputs": [],
      "source": [
        "## carrier_id와 같은 의미라고 판단 지우고 시작한다. \n",
        "del train['Carrier_Code(IATA)']\n",
        "del test['Carrier_Code(IATA)']\n"
      ]
    },
    {
      "cell_type": "markdown",
      "metadata": {
        "id": "_bzTegiKQRnP"
      },
      "source": [
        "### Carrier_ID(DOT) 처리"
      ]
    },
    {
      "cell_type": "code",
      "execution_count": null,
      "metadata": {
        "colab": {
          "base_uri": "https://localhost:8080/"
        },
        "id": "-AJPUWgxQq40",
        "outputId": "f79a3171-271a-4909-9bac-5084d302ab25"
      },
      "outputs": [
        {
          "output_type": "execute_result",
          "data": {
            "text/plain": [
              "array(['United Air Lines Inc.', 'Republic Airlines',\n",
              "       'Southwest Airlines Co.', 'SkyWest Airlines Inc.',\n",
              "       'Endeavor Air Inc.', 'Comair Inc.', 'Mesa Airlines Inc.',\n",
              "       'Delta Air Lines Inc.', 'JetBlue Airways',\n",
              "       'American Airlines Inc.', 'Frontier Airlines Inc.', 'Envoy Air',\n",
              "       'Alaska Airlines Inc.', 'Air Wisconsin Airlines Corp',\n",
              "       'Horizon Air', 'Spirit Air Lines',\n",
              "       'GoJet Airlines, LLC d/b/a United Express',\n",
              "       'ExpressJet Airlines Inc.', 'Trans States Airlines',\n",
              "       'Hawaiian Airlines Inc.', 'Allegiant Air',\n",
              "       'Commutair Aka Champlain Enterprises, Inc.', 'Compass Airlines',\n",
              "       'Capital Cargo International', 'Empire Airlines Inc.',\n",
              "       'Peninsula Airways Inc.', 'Virgin America', 'Cape Air', None],\n",
              "      dtype=object)"
            ]
          },
          "metadata": {},
          "execution_count": 54
        }
      ],
      "source": [
        "temp3 = train[train['Carrier_ID(DOT)'].isnull()]['Airline'].unique()\n",
        "temp3"
      ]
    },
    {
      "cell_type": "code",
      "execution_count": null,
      "metadata": {
        "id": "7FaOvqqXSE-V"
      },
      "outputs": [],
      "source": [
        "airline_num = {}\n",
        "for i in range(len(temp3)):\n",
        "    for x in train[train['Airline'] == temp3[i]]['Carrier_ID(DOT)'].unique():\n",
        "            if not np.isnan(x):\n",
        "                airline_num[temp3[i]] = x"
      ]
    },
    {
      "cell_type": "code",
      "execution_count": null,
      "metadata": {
        "colab": {
          "base_uri": "https://localhost:8080/"
        },
        "id": "BYwjxBUaSE-V",
        "outputId": "0ef907e9-4b1d-462e-f25b-48a64c3950ae"
      },
      "outputs": [
        {
          "output_type": "execute_result",
          "data": {
            "text/plain": [
              "{'United Air Lines Inc.': 19977.0,\n",
              " 'Republic Airlines': 20452.0,\n",
              " 'Southwest Airlines Co.': 19393.0,\n",
              " 'SkyWest Airlines Inc.': 20304.0,\n",
              " 'Endeavor Air Inc.': 20363.0,\n",
              " 'Comair Inc.': 20397.0,\n",
              " 'Mesa Airlines Inc.': 20378.0,\n",
              " 'Delta Air Lines Inc.': 19790.0,\n",
              " 'JetBlue Airways': 20409.0,\n",
              " 'American Airlines Inc.': 19805.0,\n",
              " 'Frontier Airlines Inc.': 20436.0,\n",
              " 'Envoy Air': 20398.0,\n",
              " 'Alaska Airlines Inc.': 19930.0,\n",
              " 'Air Wisconsin Airlines Corp': 20046.0,\n",
              " 'Horizon Air': 19687.0,\n",
              " 'Spirit Air Lines': 20416.0,\n",
              " 'GoJet Airlines, LLC d/b/a United Express': 20500.0,\n",
              " 'ExpressJet Airlines Inc.': 20366.0,\n",
              " 'Trans States Airlines': 20237.0,\n",
              " 'Hawaiian Airlines Inc.': 19690.0,\n",
              " 'Allegiant Air': 20368.0,\n",
              " 'Commutair Aka Champlain Enterprises, Inc.': 20445.0,\n",
              " 'Compass Airlines': 21167.0,\n",
              " 'Capital Cargo International': 20427.0,\n",
              " 'Empire Airlines Inc.': 20263.0,\n",
              " 'Peninsula Airways Inc.': 20225.0,\n",
              " 'Virgin America': 21171.0,\n",
              " 'Cape Air': 20253.0}"
            ]
          },
          "metadata": {},
          "execution_count": 56
        }
      ],
      "source": [
        "airline_num"
      ]
    },
    {
      "cell_type": "code",
      "execution_count": null,
      "metadata": {
        "id": "biN-WmbwSE-V"
      },
      "outputs": [],
      "source": [
        "for key, value in airline_num.items():\n",
        "    train.loc[train[(train['Carrier_ID(DOT)'].isnull()) & (train['Airline'] == key)].index, 'Carrier_ID(DOT)'] = value\n",
        "    test.loc[test[(test['Carrier_ID(DOT)'].isnull()) & (test['Airline'] == key)].index, 'Carrier_ID(DOT)'] = value"
      ]
    },
    {
      "cell_type": "code",
      "execution_count": null,
      "metadata": {
        "id": "_uVEGdf9TN4C"
      },
      "outputs": [],
      "source": [
        "train.iloc[116764, 11] = 20409.0\n"
      ]
    },
    {
      "cell_type": "code",
      "execution_count": null,
      "metadata": {
        "colab": {
          "base_uri": "https://localhost:8080/"
        },
        "id": "jNQqM8ecTzym",
        "outputId": "2695d240-e2ab-4fb9-cc6e-aa252da33596"
      },
      "outputs": [
        {
          "output_type": "execute_result",
          "data": {
            "text/plain": [
              "(2, 1719)"
            ]
          },
          "metadata": {},
          "execution_count": 59
        }
      ],
      "source": [
        "train['Carrier_ID(DOT)'].isnull().sum(), test['Carrier_ID(DOT)'].isnull().sum()"
      ]
    },
    {
      "cell_type": "markdown",
      "metadata": {
        "id": "uQi385WeRJ4J"
      },
      "source": [
        "### Tail_Number 처리"
      ]
    },
    {
      "cell_type": "code",
      "execution_count": null,
      "metadata": {
        "colab": {
          "base_uri": "https://localhost:8080/"
        },
        "id": "9RT7BfILVFE5",
        "outputId": "1515cb56-c56c-432e-a8e8-caee34939208"
      },
      "outputs": [
        {
          "output_type": "execute_result",
          "data": {
            "text/plain": [
              "0"
            ]
          },
          "metadata": {},
          "execution_count": 60
        }
      ],
      "source": [
        "train['Tail_Number'].isnull().sum()"
      ]
    },
    {
      "cell_type": "code",
      "execution_count": null,
      "metadata": {
        "colab": {
          "base_uri": "https://localhost:8080/"
        },
        "id": "1E0ipx5SVFHr",
        "outputId": "da146dac-91fc-4748-af4b-9f3dce30bb57"
      },
      "outputs": [
        {
          "output_type": "execute_result",
          "data": {
            "text/plain": [
              "0"
            ]
          },
          "metadata": {},
          "execution_count": 61
        }
      ],
      "source": [
        "test['Tail_Number'].isnull().sum()"
      ]
    },
    {
      "cell_type": "code",
      "execution_count": null,
      "metadata": {
        "id": "jsSXdvQJXJQL"
      },
      "outputs": [],
      "source": [
        "train_keep = train \n",
        "test_kepp = test "
      ]
    },
    {
      "cell_type": "code",
      "execution_count": null,
      "metadata": {
        "colab": {
          "base_uri": "https://localhost:8080/"
        },
        "id": "t_2hCkz_W-js",
        "outputId": "c367b3b6-277b-4442-a43e-b623fc8b334e"
      },
      "outputs": [
        {
          "output_type": "stream",
          "name": "stdout",
          "text": [
            "<class 'pandas.core.frame.DataFrame'>\n",
            "RangeIndex: 1000000 entries, 0 to 999999\n",
            "Data columns (total 15 columns):\n",
            " #   Column                    Non-Null Count    Dtype  \n",
            "---  ------                    --------------    -----  \n",
            " 0   ID                        1000000 non-null  object \n",
            " 1   Month                     1000000 non-null  int64  \n",
            " 2   Day_of_Month              1000000 non-null  int64  \n",
            " 3   Estimated_Departure_Time  891016 non-null   float64\n",
            " 4   Estimated_Arrival_Time    890952 non-null   float64\n",
            " 5   Origin_Airport            1000000 non-null  object \n",
            " 6   Origin_Airport_ID         1000000 non-null  int64  \n",
            " 7   Destination_Airport       1000000 non-null  object \n",
            " 8   Destination_Airport_ID    1000000 non-null  int64  \n",
            " 9   Distance                  1000000 non-null  float64\n",
            " 10  Airline                   998281 non-null   object \n",
            " 11  Carrier_ID(DOT)           998281 non-null   float64\n",
            " 12  Tail_Number               1000000 non-null  object \n",
            " 13  filled_Origin_State       1000000 non-null  object \n",
            " 14  filled_Destination_State  1000000 non-null  object \n",
            "dtypes: float64(4), int64(4), object(7)\n",
            "memory usage: 114.4+ MB\n"
          ]
        }
      ],
      "source": [
        "## 별로 없기에 최빈값으로 처리 --> \n",
        "test.info()"
      ]
    },
    {
      "cell_type": "markdown",
      "metadata": {
        "id": "js8zseL_RJyw"
      },
      "source": [
        "###  Estimated_Departure_Time 처리"
      ]
    },
    {
      "cell_type": "code",
      "execution_count": null,
      "metadata": {
        "colab": {
          "background_save": true
        },
        "id": "Lgu-FZncXXk2",
        "outputId": "6cf331d1-1e3f-4332-ae6c-9dfa0e140886"
      },
      "outputs": [
        {
          "data": {
            "text/html": [
              "\n",
              "  <div id=\"df-3483d419-1c32-4720-ac36-748b6e150537\">\n",
              "    <div class=\"colab-df-container\">\n",
              "      <div>\n",
              "<style scoped>\n",
              "    .dataframe tbody tr th:only-of-type {\n",
              "        vertical-align: middle;\n",
              "    }\n",
              "\n",
              "    .dataframe tbody tr th {\n",
              "        vertical-align: top;\n",
              "    }\n",
              "\n",
              "    .dataframe thead th {\n",
              "        text-align: right;\n",
              "    }\n",
              "</style>\n",
              "<table border=\"1\" class=\"dataframe\">\n",
              "  <thead>\n",
              "    <tr style=\"text-align: right;\">\n",
              "      <th></th>\n",
              "      <th>ID</th>\n",
              "      <th>Month</th>\n",
              "      <th>Day_of_Month</th>\n",
              "      <th>Estimated_Departure_Time</th>\n",
              "      <th>Estimated_Arrival_Time</th>\n",
              "      <th>Origin_Airport</th>\n",
              "      <th>Origin_Airport_ID</th>\n",
              "      <th>Destination_Airport</th>\n",
              "      <th>Destination_Airport_ID</th>\n",
              "      <th>Distance</th>\n",
              "      <th>Airline</th>\n",
              "      <th>Carrier_ID(DOT)</th>\n",
              "      <th>Tail_Number</th>\n",
              "      <th>Delay</th>\n",
              "      <th>filled_Origin_State</th>\n",
              "      <th>filled_Destination_State</th>\n",
              "    </tr>\n",
              "  </thead>\n",
              "  <tbody>\n",
              "    <tr>\n",
              "      <th>0</th>\n",
              "      <td>TRAIN_000000</td>\n",
              "      <td>4</td>\n",
              "      <td>15</td>\n",
              "      <td>NaN</td>\n",
              "      <td>NaN</td>\n",
              "      <td>OKC</td>\n",
              "      <td>13851</td>\n",
              "      <td>HOU</td>\n",
              "      <td>12191</td>\n",
              "      <td>419.0</td>\n",
              "      <td>Southwest Airlines Co.</td>\n",
              "      <td>19393.0</td>\n",
              "      <td>N7858A</td>\n",
              "      <td>None</td>\n",
              "      <td>Oklahoma</td>\n",
              "      <td>Texas</td>\n",
              "    </tr>\n",
              "    <tr>\n",
              "      <th>25</th>\n",
              "      <td>TRAIN_000025</td>\n",
              "      <td>12</td>\n",
              "      <td>24</td>\n",
              "      <td>NaN</td>\n",
              "      <td>2020.0</td>\n",
              "      <td>STS</td>\n",
              "      <td>15023</td>\n",
              "      <td>SEA</td>\n",
              "      <td>14747</td>\n",
              "      <td>618.0</td>\n",
              "      <td>Horizon Air</td>\n",
              "      <td>19687.0</td>\n",
              "      <td>N451QX</td>\n",
              "      <td>None</td>\n",
              "      <td>California</td>\n",
              "      <td>Washington</td>\n",
              "    </tr>\n",
              "    <tr>\n",
              "      <th>74</th>\n",
              "      <td>TRAIN_000074</td>\n",
              "      <td>11</td>\n",
              "      <td>15</td>\n",
              "      <td>NaN</td>\n",
              "      <td>749.0</td>\n",
              "      <td>BGR</td>\n",
              "      <td>10581</td>\n",
              "      <td>DCA</td>\n",
              "      <td>11278</td>\n",
              "      <td>590.0</td>\n",
              "      <td>Comair Inc.</td>\n",
              "      <td>20397.0</td>\n",
              "      <td>N215PS</td>\n",
              "      <td>Not_Delayed</td>\n",
              "      <td>Maine</td>\n",
              "      <td>Virginia</td>\n",
              "    </tr>\n",
              "    <tr>\n",
              "      <th>100</th>\n",
              "      <td>TRAIN_000100</td>\n",
              "      <td>12</td>\n",
              "      <td>12</td>\n",
              "      <td>NaN</td>\n",
              "      <td>1446.0</td>\n",
              "      <td>IAH</td>\n",
              "      <td>12266</td>\n",
              "      <td>ORD</td>\n",
              "      <td>13930</td>\n",
              "      <td>925.0</td>\n",
              "      <td>United Air Lines Inc.</td>\n",
              "      <td>19977.0</td>\n",
              "      <td>N896UA</td>\n",
              "      <td>None</td>\n",
              "      <td>Texas</td>\n",
              "      <td>Illinois</td>\n",
              "    </tr>\n",
              "    <tr>\n",
              "      <th>102</th>\n",
              "      <td>TRAIN_000102</td>\n",
              "      <td>8</td>\n",
              "      <td>30</td>\n",
              "      <td>NaN</td>\n",
              "      <td>2139.0</td>\n",
              "      <td>DAB</td>\n",
              "      <td>11252</td>\n",
              "      <td>CLT</td>\n",
              "      <td>11057</td>\n",
              "      <td>416.0</td>\n",
              "      <td>Comair Inc.</td>\n",
              "      <td>20397.0</td>\n",
              "      <td>N522AE</td>\n",
              "      <td>None</td>\n",
              "      <td>Florida</td>\n",
              "      <td>North Carolina</td>\n",
              "    </tr>\n",
              "    <tr>\n",
              "      <th>...</th>\n",
              "      <td>...</td>\n",
              "      <td>...</td>\n",
              "      <td>...</td>\n",
              "      <td>...</td>\n",
              "      <td>...</td>\n",
              "      <td>...</td>\n",
              "      <td>...</td>\n",
              "      <td>...</td>\n",
              "      <td>...</td>\n",
              "      <td>...</td>\n",
              "      <td>...</td>\n",
              "      <td>...</td>\n",
              "      <td>...</td>\n",
              "      <td>...</td>\n",
              "      <td>...</td>\n",
              "      <td>...</td>\n",
              "    </tr>\n",
              "    <tr>\n",
              "      <th>999974</th>\n",
              "      <td>TRAIN_999974</td>\n",
              "      <td>4</td>\n",
              "      <td>4</td>\n",
              "      <td>NaN</td>\n",
              "      <td>859.0</td>\n",
              "      <td>SFO</td>\n",
              "      <td>14771</td>\n",
              "      <td>LAX</td>\n",
              "      <td>12892</td>\n",
              "      <td>337.0</td>\n",
              "      <td>Delta Air Lines Inc.</td>\n",
              "      <td>19790.0</td>\n",
              "      <td>N3768</td>\n",
              "      <td>None</td>\n",
              "      <td>California</td>\n",
              "      <td>California</td>\n",
              "    </tr>\n",
              "    <tr>\n",
              "      <th>999977</th>\n",
              "      <td>TRAIN_999977</td>\n",
              "      <td>6</td>\n",
              "      <td>22</td>\n",
              "      <td>NaN</td>\n",
              "      <td>2310.0</td>\n",
              "      <td>BNA</td>\n",
              "      <td>10693</td>\n",
              "      <td>MDW</td>\n",
              "      <td>13232</td>\n",
              "      <td>395.0</td>\n",
              "      <td>Southwest Airlines Co.</td>\n",
              "      <td>19393.0</td>\n",
              "      <td>N929WN</td>\n",
              "      <td>None</td>\n",
              "      <td>Tennessee</td>\n",
              "      <td>Illinois</td>\n",
              "    </tr>\n",
              "    <tr>\n",
              "      <th>999986</th>\n",
              "      <td>TRAIN_999986</td>\n",
              "      <td>6</td>\n",
              "      <td>13</td>\n",
              "      <td>NaN</td>\n",
              "      <td>1356.0</td>\n",
              "      <td>RDU</td>\n",
              "      <td>14492</td>\n",
              "      <td>ORD</td>\n",
              "      <td>13930</td>\n",
              "      <td>646.0</td>\n",
              "      <td>GoJet Airlines, LLC d/b/a United Express</td>\n",
              "      <td>20500.0</td>\n",
              "      <td>N669CA</td>\n",
              "      <td>None</td>\n",
              "      <td>North Carolina</td>\n",
              "      <td>Illinois</td>\n",
              "    </tr>\n",
              "    <tr>\n",
              "      <th>999990</th>\n",
              "      <td>TRAIN_999990</td>\n",
              "      <td>1</td>\n",
              "      <td>21</td>\n",
              "      <td>NaN</td>\n",
              "      <td>751.0</td>\n",
              "      <td>ORD</td>\n",
              "      <td>13930</td>\n",
              "      <td>DFW</td>\n",
              "      <td>11298</td>\n",
              "      <td>802.0</td>\n",
              "      <td>American Airlines Inc.</td>\n",
              "      <td>19805.0</td>\n",
              "      <td>N967NN</td>\n",
              "      <td>None</td>\n",
              "      <td>Illinois</td>\n",
              "      <td>Texas</td>\n",
              "    </tr>\n",
              "    <tr>\n",
              "      <th>999994</th>\n",
              "      <td>TRAIN_999994</td>\n",
              "      <td>6</td>\n",
              "      <td>26</td>\n",
              "      <td>NaN</td>\n",
              "      <td>1800.0</td>\n",
              "      <td>DAL</td>\n",
              "      <td>11259</td>\n",
              "      <td>SFO</td>\n",
              "      <td>14771</td>\n",
              "      <td>1476.0</td>\n",
              "      <td>SkyWest Airlines Inc.</td>\n",
              "      <td>20304.0</td>\n",
              "      <td>N173SY</td>\n",
              "      <td>None</td>\n",
              "      <td>Texas</td>\n",
              "      <td>California</td>\n",
              "    </tr>\n",
              "  </tbody>\n",
              "</table>\n",
              "<p>109019 rows × 16 columns</p>\n",
              "</div>\n",
              "      <button class=\"colab-df-convert\" onclick=\"convertToInteractive('df-3483d419-1c32-4720-ac36-748b6e150537')\"\n",
              "              title=\"Convert this dataframe to an interactive table.\"\n",
              "              style=\"display:none;\">\n",
              "        \n",
              "  <svg xmlns=\"http://www.w3.org/2000/svg\" height=\"24px\"viewBox=\"0 0 24 24\"\n",
              "       width=\"24px\">\n",
              "    <path d=\"M0 0h24v24H0V0z\" fill=\"none\"/>\n",
              "    <path d=\"M18.56 5.44l.94 2.06.94-2.06 2.06-.94-2.06-.94-.94-2.06-.94 2.06-2.06.94zm-11 1L8.5 8.5l.94-2.06 2.06-.94-2.06-.94L8.5 2.5l-.94 2.06-2.06.94zm10 10l.94 2.06.94-2.06 2.06-.94-2.06-.94-.94-2.06-.94 2.06-2.06.94z\"/><path d=\"M17.41 7.96l-1.37-1.37c-.4-.4-.92-.59-1.43-.59-.52 0-1.04.2-1.43.59L10.3 9.45l-7.72 7.72c-.78.78-.78 2.05 0 2.83L4 21.41c.39.39.9.59 1.41.59.51 0 1.02-.2 1.41-.59l7.78-7.78 2.81-2.81c.8-.78.8-2.07 0-2.86zM5.41 20L4 18.59l7.72-7.72 1.47 1.35L5.41 20z\"/>\n",
              "  </svg>\n",
              "      </button>\n",
              "      \n",
              "  <style>\n",
              "    .colab-df-container {\n",
              "      display:flex;\n",
              "      flex-wrap:wrap;\n",
              "      gap: 12px;\n",
              "    }\n",
              "\n",
              "    .colab-df-convert {\n",
              "      background-color: #E8F0FE;\n",
              "      border: none;\n",
              "      border-radius: 50%;\n",
              "      cursor: pointer;\n",
              "      display: none;\n",
              "      fill: #1967D2;\n",
              "      height: 32px;\n",
              "      padding: 0 0 0 0;\n",
              "      width: 32px;\n",
              "    }\n",
              "\n",
              "    .colab-df-convert:hover {\n",
              "      background-color: #E2EBFA;\n",
              "      box-shadow: 0px 1px 2px rgba(60, 64, 67, 0.3), 0px 1px 3px 1px rgba(60, 64, 67, 0.15);\n",
              "      fill: #174EA6;\n",
              "    }\n",
              "\n",
              "    [theme=dark] .colab-df-convert {\n",
              "      background-color: #3B4455;\n",
              "      fill: #D2E3FC;\n",
              "    }\n",
              "\n",
              "    [theme=dark] .colab-df-convert:hover {\n",
              "      background-color: #434B5C;\n",
              "      box-shadow: 0px 1px 3px 1px rgba(0, 0, 0, 0.15);\n",
              "      filter: drop-shadow(0px 1px 2px rgba(0, 0, 0, 0.3));\n",
              "      fill: #FFFFFF;\n",
              "    }\n",
              "  </style>\n",
              "\n",
              "      <script>\n",
              "        const buttonEl =\n",
              "          document.querySelector('#df-3483d419-1c32-4720-ac36-748b6e150537 button.colab-df-convert');\n",
              "        buttonEl.style.display =\n",
              "          google.colab.kernel.accessAllowed ? 'block' : 'none';\n",
              "\n",
              "        async function convertToInteractive(key) {\n",
              "          const element = document.querySelector('#df-3483d419-1c32-4720-ac36-748b6e150537');\n",
              "          const dataTable =\n",
              "            await google.colab.kernel.invokeFunction('convertToInteractive',\n",
              "                                                     [key], {});\n",
              "          if (!dataTable) return;\n",
              "\n",
              "          const docLinkHtml = 'Like what you see? Visit the ' +\n",
              "            '<a target=\"_blank\" href=https://colab.research.google.com/notebooks/data_table.ipynb>data table notebook</a>'\n",
              "            + ' to learn more about interactive tables.';\n",
              "          element.innerHTML = '';\n",
              "          dataTable['output_type'] = 'display_data';\n",
              "          await google.colab.output.renderOutput(dataTable, element);\n",
              "          const docLink = document.createElement('div');\n",
              "          docLink.innerHTML = docLinkHtml;\n",
              "          element.appendChild(docLink);\n",
              "        }\n",
              "      </script>\n",
              "    </div>\n",
              "  </div>\n",
              "  "
            ],
            "text/plain": [
              "                  ID  Month  Day_of_Month  Estimated_Departure_Time  \\\n",
              "0       TRAIN_000000      4            15                       NaN   \n",
              "25      TRAIN_000025     12            24                       NaN   \n",
              "74      TRAIN_000074     11            15                       NaN   \n",
              "100     TRAIN_000100     12            12                       NaN   \n",
              "102     TRAIN_000102      8            30                       NaN   \n",
              "...              ...    ...           ...                       ...   \n",
              "999974  TRAIN_999974      4             4                       NaN   \n",
              "999977  TRAIN_999977      6            22                       NaN   \n",
              "999986  TRAIN_999986      6            13                       NaN   \n",
              "999990  TRAIN_999990      1            21                       NaN   \n",
              "999994  TRAIN_999994      6            26                       NaN   \n",
              "\n",
              "        Estimated_Arrival_Time Origin_Airport  Origin_Airport_ID  \\\n",
              "0                          NaN            OKC              13851   \n",
              "25                      2020.0            STS              15023   \n",
              "74                       749.0            BGR              10581   \n",
              "100                     1446.0            IAH              12266   \n",
              "102                     2139.0            DAB              11252   \n",
              "...                        ...            ...                ...   \n",
              "999974                   859.0            SFO              14771   \n",
              "999977                  2310.0            BNA              10693   \n",
              "999986                  1356.0            RDU              14492   \n",
              "999990                   751.0            ORD              13930   \n",
              "999994                  1800.0            DAL              11259   \n",
              "\n",
              "       Destination_Airport  Destination_Airport_ID  Distance  \\\n",
              "0                      HOU                   12191     419.0   \n",
              "25                     SEA                   14747     618.0   \n",
              "74                     DCA                   11278     590.0   \n",
              "100                    ORD                   13930     925.0   \n",
              "102                    CLT                   11057     416.0   \n",
              "...                    ...                     ...       ...   \n",
              "999974                 LAX                   12892     337.0   \n",
              "999977                 MDW                   13232     395.0   \n",
              "999986                 ORD                   13930     646.0   \n",
              "999990                 DFW                   11298     802.0   \n",
              "999994                 SFO                   14771    1476.0   \n",
              "\n",
              "                                         Airline  Carrier_ID(DOT) Tail_Number  \\\n",
              "0                         Southwest Airlines Co.          19393.0      N7858A   \n",
              "25                                   Horizon Air          19687.0      N451QX   \n",
              "74                                   Comair Inc.          20397.0      N215PS   \n",
              "100                        United Air Lines Inc.          19977.0      N896UA   \n",
              "102                                  Comair Inc.          20397.0      N522AE   \n",
              "...                                          ...              ...         ...   \n",
              "999974                      Delta Air Lines Inc.          19790.0       N3768   \n",
              "999977                    Southwest Airlines Co.          19393.0      N929WN   \n",
              "999986  GoJet Airlines, LLC d/b/a United Express          20500.0      N669CA   \n",
              "999990                    American Airlines Inc.          19805.0      N967NN   \n",
              "999994                     SkyWest Airlines Inc.          20304.0      N173SY   \n",
              "\n",
              "              Delay filled_Origin_State filled_Destination_State  \n",
              "0              None            Oklahoma                    Texas  \n",
              "25             None          California               Washington  \n",
              "74      Not_Delayed               Maine                 Virginia  \n",
              "100            None               Texas                 Illinois  \n",
              "102            None             Florida           North Carolina  \n",
              "...             ...                 ...                      ...  \n",
              "999974         None          California               California  \n",
              "999977         None           Tennessee                 Illinois  \n",
              "999986         None      North Carolina                 Illinois  \n",
              "999990         None            Illinois                    Texas  \n",
              "999994         None               Texas               California  \n",
              "\n",
              "[109019 rows x 16 columns]"
            ]
          },
          "execution_count": 69,
          "metadata": {},
          "output_type": "execute_result"
        }
      ],
      "source": [
        "train[train['Estimated_Departure_Time'].isnull()]"
      ]
    },
    {
      "cell_type": "code",
      "execution_count": null,
      "metadata": {
        "colab": {
          "background_save": true
        },
        "id": "9ZGL8Taqa8Z6",
        "outputId": "318b775f-14bb-4806-b9e2-c40fc2641d59"
      },
      "outputs": [
        {
          "data": {
            "text/plain": [
              "ID                          TRAIN_000025\n",
              "Month                                 12\n",
              "Day_of_Month                          24\n",
              "Estimated_Departure_Time             NaN\n",
              "Estimated_Arrival_Time            2020.0\n",
              "Origin_Airport                       STS\n",
              "Origin_Airport_ID                  15023\n",
              "Destination_Airport                  SEA\n",
              "Destination_Airport_ID             14747\n",
              "Distance                           618.0\n",
              "Airline                      Horizon Air\n",
              "Carrier_ID(DOT)                  19687.0\n",
              "Tail_Number                       N451QX\n",
              "Delay                               None\n",
              "filled_Origin_State           California\n",
              "filled_Destination_State      Washington\n",
              "Name: 25, dtype: object"
            ]
          },
          "execution_count": 70,
          "metadata": {},
          "output_type": "execute_result"
        }
      ],
      "source": [
        "train.iloc[train[train['Estimated_Departure_Time'].isnull()].index[1]]"
      ]
    },
    {
      "cell_type": "code",
      "execution_count": null,
      "metadata": {
        "colab": {
          "base_uri": "https://localhost:8080/"
        },
        "id": "dVmZY58ehpqT",
        "outputId": "6dde4e95-c020-4549-97a2-489f95e88206"
      },
      "outputs": [
        {
          "data": {
            "text/plain": [
              "nan"
            ]
          },
          "execution_count": 474,
          "metadata": {},
          "output_type": "execute_result"
        }
      ],
      "source": [
        "(x1 - x2).min()\n"
      ]
    },
    {
      "cell_type": "code",
      "execution_count": null,
      "metadata": {
        "id": "QrjT9BNZfAOj"
      },
      "outputs": [],
      "source": [
        "idx1 = train['Origin_Airport_ID'].unique()  "
      ]
    },
    {
      "cell_type": "code",
      "execution_count": null,
      "metadata": {
        "id": "drLgfW3YfGL3"
      },
      "outputs": [],
      "source": [
        "idx2 = train['Destination_Airport_ID'].unique()"
      ]
    },
    {
      "cell_type": "code",
      "execution_count": null,
      "metadata": {
        "colab": {
          "base_uri": "https://localhost:8080/",
          "height": 260
        },
        "id": "m1wl53rtqioL",
        "outputId": "a18fc76a-2cc8-4443-904a-cf573c1c4f6e"
      },
      "outputs": [
        {
          "data": {
            "text/html": [
              "\n",
              "  <div id=\"df-9394b8bb-34da-44db-851e-d07b4e26bca1\">\n",
              "    <div class=\"colab-df-container\">\n",
              "      <div>\n",
              "<style scoped>\n",
              "    .dataframe tbody tr th:only-of-type {\n",
              "        vertical-align: middle;\n",
              "    }\n",
              "\n",
              "    .dataframe tbody tr th {\n",
              "        vertical-align: top;\n",
              "    }\n",
              "\n",
              "    .dataframe thead th {\n",
              "        text-align: right;\n",
              "    }\n",
              "</style>\n",
              "<table border=\"1\" class=\"dataframe\">\n",
              "  <thead>\n",
              "    <tr style=\"text-align: right;\">\n",
              "      <th></th>\n",
              "      <th>ID</th>\n",
              "      <th>Month</th>\n",
              "      <th>Day_of_Month</th>\n",
              "      <th>Estimated_Departure_Time</th>\n",
              "      <th>Estimated_Arrival_Time</th>\n",
              "      <th>Origin_Airport</th>\n",
              "      <th>Origin_Airport_ID</th>\n",
              "      <th>Destination_Airport</th>\n",
              "      <th>Destination_Airport_ID</th>\n",
              "      <th>Distance</th>\n",
              "      <th>Airline</th>\n",
              "      <th>Carrier_ID(DOT)</th>\n",
              "      <th>Tail_Number</th>\n",
              "      <th>Delay</th>\n",
              "      <th>filled_Origin_State</th>\n",
              "      <th>filled_Destination_State</th>\n",
              "    </tr>\n",
              "  </thead>\n",
              "  <tbody>\n",
              "    <tr>\n",
              "      <th>55551</th>\n",
              "      <td>TRAIN_055551</td>\n",
              "      <td>4</td>\n",
              "      <td>19</td>\n",
              "      <td>1636.0</td>\n",
              "      <td>NaN</td>\n",
              "      <td>TTN</td>\n",
              "      <td>15356</td>\n",
              "      <td>PGD</td>\n",
              "      <td>14082</td>\n",
              "      <td>1008.0</td>\n",
              "      <td>Allegiant Air</td>\n",
              "      <td>20368.0</td>\n",
              "      <td>253NV</td>\n",
              "      <td>None</td>\n",
              "      <td>New Jersey</td>\n",
              "      <td>Florida</td>\n",
              "    </tr>\n",
              "    <tr>\n",
              "      <th>345599</th>\n",
              "      <td>TRAIN_345599</td>\n",
              "      <td>4</td>\n",
              "      <td>29</td>\n",
              "      <td>1636.0</td>\n",
              "      <td>1917.0</td>\n",
              "      <td>TTN</td>\n",
              "      <td>15356</td>\n",
              "      <td>PGD</td>\n",
              "      <td>14082</td>\n",
              "      <td>1008.0</td>\n",
              "      <td>Allegiant Air</td>\n",
              "      <td>20368.0</td>\n",
              "      <td>221NV</td>\n",
              "      <td>None</td>\n",
              "      <td>New Jersey</td>\n",
              "      <td>Florida</td>\n",
              "    </tr>\n",
              "    <tr>\n",
              "      <th>530020</th>\n",
              "      <td>TRAIN_530020</td>\n",
              "      <td>4</td>\n",
              "      <td>12</td>\n",
              "      <td>1636.0</td>\n",
              "      <td>1917.0</td>\n",
              "      <td>TTN</td>\n",
              "      <td>15356</td>\n",
              "      <td>PGD</td>\n",
              "      <td>14082</td>\n",
              "      <td>1008.0</td>\n",
              "      <td>Allegiant Air</td>\n",
              "      <td>20368.0</td>\n",
              "      <td>253NV</td>\n",
              "      <td>None</td>\n",
              "      <td>New Jersey</td>\n",
              "      <td>Florida</td>\n",
              "    </tr>\n",
              "  </tbody>\n",
              "</table>\n",
              "</div>\n",
              "      <button class=\"colab-df-convert\" onclick=\"convertToInteractive('df-9394b8bb-34da-44db-851e-d07b4e26bca1')\"\n",
              "              title=\"Convert this dataframe to an interactive table.\"\n",
              "              style=\"display:none;\">\n",
              "        \n",
              "  <svg xmlns=\"http://www.w3.org/2000/svg\" height=\"24px\"viewBox=\"0 0 24 24\"\n",
              "       width=\"24px\">\n",
              "    <path d=\"M0 0h24v24H0V0z\" fill=\"none\"/>\n",
              "    <path d=\"M18.56 5.44l.94 2.06.94-2.06 2.06-.94-2.06-.94-.94-2.06-.94 2.06-2.06.94zm-11 1L8.5 8.5l.94-2.06 2.06-.94-2.06-.94L8.5 2.5l-.94 2.06-2.06.94zm10 10l.94 2.06.94-2.06 2.06-.94-2.06-.94-.94-2.06-.94 2.06-2.06.94z\"/><path d=\"M17.41 7.96l-1.37-1.37c-.4-.4-.92-.59-1.43-.59-.52 0-1.04.2-1.43.59L10.3 9.45l-7.72 7.72c-.78.78-.78 2.05 0 2.83L4 21.41c.39.39.9.59 1.41.59.51 0 1.02-.2 1.41-.59l7.78-7.78 2.81-2.81c.8-.78.8-2.07 0-2.86zM5.41 20L4 18.59l7.72-7.72 1.47 1.35L5.41 20z\"/>\n",
              "  </svg>\n",
              "      </button>\n",
              "      \n",
              "  <style>\n",
              "    .colab-df-container {\n",
              "      display:flex;\n",
              "      flex-wrap:wrap;\n",
              "      gap: 12px;\n",
              "    }\n",
              "\n",
              "    .colab-df-convert {\n",
              "      background-color: #E8F0FE;\n",
              "      border: none;\n",
              "      border-radius: 50%;\n",
              "      cursor: pointer;\n",
              "      display: none;\n",
              "      fill: #1967D2;\n",
              "      height: 32px;\n",
              "      padding: 0 0 0 0;\n",
              "      width: 32px;\n",
              "    }\n",
              "\n",
              "    .colab-df-convert:hover {\n",
              "      background-color: #E2EBFA;\n",
              "      box-shadow: 0px 1px 2px rgba(60, 64, 67, 0.3), 0px 1px 3px 1px rgba(60, 64, 67, 0.15);\n",
              "      fill: #174EA6;\n",
              "    }\n",
              "\n",
              "    [theme=dark] .colab-df-convert {\n",
              "      background-color: #3B4455;\n",
              "      fill: #D2E3FC;\n",
              "    }\n",
              "\n",
              "    [theme=dark] .colab-df-convert:hover {\n",
              "      background-color: #434B5C;\n",
              "      box-shadow: 0px 1px 3px 1px rgba(0, 0, 0, 0.15);\n",
              "      filter: drop-shadow(0px 1px 2px rgba(0, 0, 0, 0.3));\n",
              "      fill: #FFFFFF;\n",
              "    }\n",
              "  </style>\n",
              "\n",
              "      <script>\n",
              "        const buttonEl =\n",
              "          document.querySelector('#df-9394b8bb-34da-44db-851e-d07b4e26bca1 button.colab-df-convert');\n",
              "        buttonEl.style.display =\n",
              "          google.colab.kernel.accessAllowed ? 'block' : 'none';\n",
              "\n",
              "        async function convertToInteractive(key) {\n",
              "          const element = document.querySelector('#df-9394b8bb-34da-44db-851e-d07b4e26bca1');\n",
              "          const dataTable =\n",
              "            await google.colab.kernel.invokeFunction('convertToInteractive',\n",
              "                                                     [key], {});\n",
              "          if (!dataTable) return;\n",
              "\n",
              "          const docLinkHtml = 'Like what you see? Visit the ' +\n",
              "            '<a target=\"_blank\" href=https://colab.research.google.com/notebooks/data_table.ipynb>data table notebook</a>'\n",
              "            + ' to learn more about interactive tables.';\n",
              "          element.innerHTML = '';\n",
              "          dataTable['output_type'] = 'display_data';\n",
              "          await google.colab.output.renderOutput(dataTable, element);\n",
              "          const docLink = document.createElement('div');\n",
              "          docLink.innerHTML = docLinkHtml;\n",
              "          element.appendChild(docLink);\n",
              "        }\n",
              "      </script>\n",
              "    </div>\n",
              "  </div>\n",
              "  "
            ],
            "text/plain": [
              "                  ID  Month  Day_of_Month  Estimated_Departure_Time  \\\n",
              "55551   TRAIN_055551      4            19                    1636.0   \n",
              "345599  TRAIN_345599      4            29                    1636.0   \n",
              "530020  TRAIN_530020      4            12                    1636.0   \n",
              "\n",
              "        Estimated_Arrival_Time Origin_Airport  Origin_Airport_ID  \\\n",
              "55551                      NaN            TTN              15356   \n",
              "345599                  1917.0            TTN              15356   \n",
              "530020                  1917.0            TTN              15356   \n",
              "\n",
              "       Destination_Airport  Destination_Airport_ID  Distance        Airline  \\\n",
              "55551                  PGD                   14082    1008.0  Allegiant Air   \n",
              "345599                 PGD                   14082    1008.0  Allegiant Air   \n",
              "530020                 PGD                   14082    1008.0  Allegiant Air   \n",
              "\n",
              "        Carrier_ID(DOT) Tail_Number Delay filled_Origin_State  \\\n",
              "55551           20368.0       253NV  None          New Jersey   \n",
              "345599          20368.0       221NV  None          New Jersey   \n",
              "530020          20368.0       253NV  None          New Jersey   \n",
              "\n",
              "       filled_Destination_State  \n",
              "55551                   Florida  \n",
              "345599                  Florida  \n",
              "530020                  Florida  "
            ]
          },
          "execution_count": 64,
          "metadata": {},
          "output_type": "execute_result"
        }
      ],
      "source": [
        " \n",
        "\n",
        "\n",
        "train[(train['Origin_Airport_ID'] == 15356) & (train['Destination_Airport_ID'] == 14082) ]"
      ]
    },
    {
      "cell_type": "code",
      "execution_count": null,
      "metadata": {
        "colab": {
          "base_uri": "https://localhost:8080/"
        },
        "id": "u6YJJ7NPe-ZN",
        "outputId": "bb52527e-1610-48c5-ca3f-e16c349b1274"
      },
      "outputs": [
        {
          "data": {
            "text/plain": [
              "0         0.0\n",
              "1         0.0\n",
              "2         0.0\n",
              "3         0.0\n",
              "4         0.0\n",
              "         ... \n",
              "999995    0.0\n",
              "999996    0.0\n",
              "999997    0.0\n",
              "999998    0.0\n",
              "999999    0.0\n",
              "Name: Delay, Length: 1000000, dtype: float64"
            ]
          },
          "execution_count": 65,
          "metadata": {},
          "output_type": "execute_result"
        }
      ],
      "source": [
        "##출발 도착 시간에 특징을 찾기 힘들었음. \n",
        "## 같은 요일이면 시간이 같나 ? X\n",
        "## 같은 도착지 같은 출발지면 시간이 같나 ? X\n",
        "## 같은 거리면 시간이 같나 ? X\n",
        "## 따라서 새로운 변수인 평균 거리만 지정한다. \n",
        "## NAN가 있는곳은 최빈값을 주고 계산을 한다. \n",
        "\n",
        "\n",
        "\n",
        "temp = np.zeros(len(train))\n",
        "train['Delay'] =temp\n",
        "train['Delay']"
      ]
    },
    {
      "cell_type": "code",
      "execution_count": null,
      "metadata": {
        "id": "BaTSnmLQe-W_"
      },
      "outputs": [],
      "source": [
        "idx_total = []\n",
        "for x in idx1:\n",
        "    for y in idx2:\n",
        "        if len(train[(train['Origin_Airport_ID'] == x) & (train['Destination_Airport_ID'] == y)]):\n",
        "            x1 = train[(train['Origin_Airport_ID'] == x) & (train['Destination_Airport_ID'] == y) ]['Estimated_Arrival_Time']\n",
        "            x2 = train[(train['Origin_Airport_ID'] == x) & (train['Destination_Airport_ID'] == y) ]['Estimated_Departure_Time']\n",
        "            temp_idx = (x1 - x2).index\n",
        "            try:\n",
        "                md = (x1 - x2).mode()[0]\n",
        "            except:\n",
        "                md = np.nan\n",
        "\n",
        "            for k,z in enumerate(temp_idx):\n",
        "                if not np.isnan((x1 - x2)[z]):\n",
        "                    if (x1 - x2)[z] > md:\n",
        "                        train.loc[z, 'delay'] = 1\n",
        "                    else:\n",
        "                        train.loc[z, 'delay'] = 0\n",
        "                        \n",
        "                else:\n",
        "                    train.loc[z, 'delay'] = 0\n",
        "            \n",
        "\n"
      ]
    },
    {
      "cell_type": "code",
      "execution_count": null,
      "metadata": {
        "colab": {
          "base_uri": "https://localhost:8080/"
        },
        "id": "Qhlx8VBTumB_",
        "outputId": "3eecadd7-dc76-4836-c1e5-909dbf1eca1a"
      },
      "outputs": [
        {
          "data": {
            "text/plain": [
              "0"
            ]
          },
          "execution_count": 68,
          "metadata": {},
          "output_type": "execute_result"
        }
      ],
      "source": [
        "train['delay'].isnull().sum()"
      ]
    },
    {
      "cell_type": "code",
      "execution_count": null,
      "metadata": {
        "colab": {
          "base_uri": "https://localhost:8080/",
          "height": 765
        },
        "id": "sTSis635u4I3",
        "outputId": "89bf8b8f-5ec5-4154-bf8c-5a63e2837c0b"
      },
      "outputs": [
        {
          "data": {
            "text/html": [
              "\n",
              "  <div id=\"df-3a985b93-6751-4c3f-8423-172c904eb565\">\n",
              "    <div class=\"colab-df-container\">\n",
              "      <div>\n",
              "<style scoped>\n",
              "    .dataframe tbody tr th:only-of-type {\n",
              "        vertical-align: middle;\n",
              "    }\n",
              "\n",
              "    .dataframe tbody tr th {\n",
              "        vertical-align: top;\n",
              "    }\n",
              "\n",
              "    .dataframe thead th {\n",
              "        text-align: right;\n",
              "    }\n",
              "</style>\n",
              "<table border=\"1\" class=\"dataframe\">\n",
              "  <thead>\n",
              "    <tr style=\"text-align: right;\">\n",
              "      <th></th>\n",
              "      <th>ID</th>\n",
              "      <th>Month</th>\n",
              "      <th>Day_of_Month</th>\n",
              "      <th>Estimated_Departure_Time</th>\n",
              "      <th>Estimated_Arrival_Time</th>\n",
              "      <th>Origin_Airport</th>\n",
              "      <th>Origin_Airport_ID</th>\n",
              "      <th>Destination_Airport</th>\n",
              "      <th>Destination_Airport_ID</th>\n",
              "      <th>Distance</th>\n",
              "      <th>Airline</th>\n",
              "      <th>Carrier_ID(DOT)</th>\n",
              "      <th>Tail_Number</th>\n",
              "      <th>Delay</th>\n",
              "      <th>filled_Origin_State</th>\n",
              "      <th>filled_Destination_State</th>\n",
              "      <th>delay</th>\n",
              "    </tr>\n",
              "  </thead>\n",
              "  <tbody>\n",
              "    <tr>\n",
              "      <th>0</th>\n",
              "      <td>TRAIN_000000</td>\n",
              "      <td>4</td>\n",
              "      <td>15</td>\n",
              "      <td>NaN</td>\n",
              "      <td>NaN</td>\n",
              "      <td>OKC</td>\n",
              "      <td>13851</td>\n",
              "      <td>HOU</td>\n",
              "      <td>12191</td>\n",
              "      <td>419.0</td>\n",
              "      <td>Southwest Airlines Co.</td>\n",
              "      <td>19393.0</td>\n",
              "      <td>N7858A</td>\n",
              "      <td>0.0</td>\n",
              "      <td>Oklahoma</td>\n",
              "      <td>Texas</td>\n",
              "      <td>0.0</td>\n",
              "    </tr>\n",
              "    <tr>\n",
              "      <th>1</th>\n",
              "      <td>TRAIN_000001</td>\n",
              "      <td>8</td>\n",
              "      <td>15</td>\n",
              "      <td>740.0</td>\n",
              "      <td>1024.0</td>\n",
              "      <td>ORD</td>\n",
              "      <td>13930</td>\n",
              "      <td>SLC</td>\n",
              "      <td>14869</td>\n",
              "      <td>1250.0</td>\n",
              "      <td>SkyWest Airlines Inc.</td>\n",
              "      <td>20304.0</td>\n",
              "      <td>N125SY</td>\n",
              "      <td>0.0</td>\n",
              "      <td>Illinois</td>\n",
              "      <td>Utah</td>\n",
              "      <td>0.0</td>\n",
              "    </tr>\n",
              "    <tr>\n",
              "      <th>2</th>\n",
              "      <td>TRAIN_000002</td>\n",
              "      <td>9</td>\n",
              "      <td>6</td>\n",
              "      <td>1610.0</td>\n",
              "      <td>1805.0</td>\n",
              "      <td>CLT</td>\n",
              "      <td>11057</td>\n",
              "      <td>LGA</td>\n",
              "      <td>12953</td>\n",
              "      <td>544.0</td>\n",
              "      <td>American Airlines Inc.</td>\n",
              "      <td>19805.0</td>\n",
              "      <td>N103US</td>\n",
              "      <td>0.0</td>\n",
              "      <td>North Carolina</td>\n",
              "      <td>New York</td>\n",
              "      <td>1.0</td>\n",
              "    </tr>\n",
              "    <tr>\n",
              "      <th>3</th>\n",
              "      <td>TRAIN_000003</td>\n",
              "      <td>7</td>\n",
              "      <td>10</td>\n",
              "      <td>905.0</td>\n",
              "      <td>1735.0</td>\n",
              "      <td>LAX</td>\n",
              "      <td>12892</td>\n",
              "      <td>EWR</td>\n",
              "      <td>11618</td>\n",
              "      <td>2454.0</td>\n",
              "      <td>United Air Lines Inc.</td>\n",
              "      <td>19977.0</td>\n",
              "      <td>N595UA</td>\n",
              "      <td>0.0</td>\n",
              "      <td>California</td>\n",
              "      <td>New Jersey</td>\n",
              "      <td>1.0</td>\n",
              "    </tr>\n",
              "    <tr>\n",
              "      <th>4</th>\n",
              "      <td>TRAIN_000004</td>\n",
              "      <td>1</td>\n",
              "      <td>11</td>\n",
              "      <td>900.0</td>\n",
              "      <td>1019.0</td>\n",
              "      <td>SFO</td>\n",
              "      <td>14771</td>\n",
              "      <td>ACV</td>\n",
              "      <td>10157</td>\n",
              "      <td>250.0</td>\n",
              "      <td>SkyWest Airlines Inc.</td>\n",
              "      <td>20304.0</td>\n",
              "      <td>N161SY</td>\n",
              "      <td>0.0</td>\n",
              "      <td>California</td>\n",
              "      <td>California</td>\n",
              "      <td>0.0</td>\n",
              "    </tr>\n",
              "    <tr>\n",
              "      <th>...</th>\n",
              "      <td>...</td>\n",
              "      <td>...</td>\n",
              "      <td>...</td>\n",
              "      <td>...</td>\n",
              "      <td>...</td>\n",
              "      <td>...</td>\n",
              "      <td>...</td>\n",
              "      <td>...</td>\n",
              "      <td>...</td>\n",
              "      <td>...</td>\n",
              "      <td>...</td>\n",
              "      <td>...</td>\n",
              "      <td>...</td>\n",
              "      <td>...</td>\n",
              "      <td>...</td>\n",
              "      <td>...</td>\n",
              "      <td>...</td>\n",
              "    </tr>\n",
              "    <tr>\n",
              "      <th>999995</th>\n",
              "      <td>TRAIN_999995</td>\n",
              "      <td>9</td>\n",
              "      <td>18</td>\n",
              "      <td>936.0</td>\n",
              "      <td>1243.0</td>\n",
              "      <td>ORD</td>\n",
              "      <td>13930</td>\n",
              "      <td>PHL</td>\n",
              "      <td>14100</td>\n",
              "      <td>678.0</td>\n",
              "      <td>United Air Lines Inc.</td>\n",
              "      <td>19977.0</td>\n",
              "      <td>N477UA</td>\n",
              "      <td>0.0</td>\n",
              "      <td>Illinois</td>\n",
              "      <td>Pennsylvania</td>\n",
              "      <td>1.0</td>\n",
              "    </tr>\n",
              "    <tr>\n",
              "      <th>999996</th>\n",
              "      <td>TRAIN_999996</td>\n",
              "      <td>5</td>\n",
              "      <td>30</td>\n",
              "      <td>920.0</td>\n",
              "      <td>1028.0</td>\n",
              "      <td>FAR</td>\n",
              "      <td>11637</td>\n",
              "      <td>MSP</td>\n",
              "      <td>13487</td>\n",
              "      <td>223.0</td>\n",
              "      <td>SkyWest Airlines Inc.</td>\n",
              "      <td>20304.0</td>\n",
              "      <td>N439SW</td>\n",
              "      <td>0.0</td>\n",
              "      <td>North Dakota</td>\n",
              "      <td>Minnesota</td>\n",
              "      <td>0.0</td>\n",
              "    </tr>\n",
              "    <tr>\n",
              "      <th>999997</th>\n",
              "      <td>TRAIN_999997</td>\n",
              "      <td>6</td>\n",
              "      <td>28</td>\n",
              "      <td>800.0</td>\n",
              "      <td>1340.0</td>\n",
              "      <td>OAK</td>\n",
              "      <td>13796</td>\n",
              "      <td>HOU</td>\n",
              "      <td>12191</td>\n",
              "      <td>1642.0</td>\n",
              "      <td>Southwest Airlines Co.</td>\n",
              "      <td>19393.0</td>\n",
              "      <td>N230WN</td>\n",
              "      <td>0.0</td>\n",
              "      <td>California</td>\n",
              "      <td>Texas</td>\n",
              "      <td>0.0</td>\n",
              "    </tr>\n",
              "    <tr>\n",
              "      <th>999998</th>\n",
              "      <td>TRAIN_999998</td>\n",
              "      <td>9</td>\n",
              "      <td>27</td>\n",
              "      <td>1613.0</td>\n",
              "      <td>1824.0</td>\n",
              "      <td>BNA</td>\n",
              "      <td>10693</td>\n",
              "      <td>ATL</td>\n",
              "      <td>10397</td>\n",
              "      <td>214.0</td>\n",
              "      <td>Delta Air Lines Inc.</td>\n",
              "      <td>19790.0</td>\n",
              "      <td>N968DL</td>\n",
              "      <td>0.0</td>\n",
              "      <td>Tennessee</td>\n",
              "      <td>Georgia</td>\n",
              "      <td>1.0</td>\n",
              "    </tr>\n",
              "    <tr>\n",
              "      <th>999999</th>\n",
              "      <td>TRAIN_999999</td>\n",
              "      <td>3</td>\n",
              "      <td>26</td>\n",
              "      <td>1800.0</td>\n",
              "      <td>2056.0</td>\n",
              "      <td>RSW</td>\n",
              "      <td>14635</td>\n",
              "      <td>DTW</td>\n",
              "      <td>11433</td>\n",
              "      <td>1084.0</td>\n",
              "      <td>Delta Air Lines Inc.</td>\n",
              "      <td>19790.0</td>\n",
              "      <td>N695DL</td>\n",
              "      <td>0.0</td>\n",
              "      <td>Florida</td>\n",
              "      <td>Michigan</td>\n",
              "      <td>0.0</td>\n",
              "    </tr>\n",
              "  </tbody>\n",
              "</table>\n",
              "<p>1000000 rows × 17 columns</p>\n",
              "</div>\n",
              "      <button class=\"colab-df-convert\" onclick=\"convertToInteractive('df-3a985b93-6751-4c3f-8423-172c904eb565')\"\n",
              "              title=\"Convert this dataframe to an interactive table.\"\n",
              "              style=\"display:none;\">\n",
              "        \n",
              "  <svg xmlns=\"http://www.w3.org/2000/svg\" height=\"24px\"viewBox=\"0 0 24 24\"\n",
              "       width=\"24px\">\n",
              "    <path d=\"M0 0h24v24H0V0z\" fill=\"none\"/>\n",
              "    <path d=\"M18.56 5.44l.94 2.06.94-2.06 2.06-.94-2.06-.94-.94-2.06-.94 2.06-2.06.94zm-11 1L8.5 8.5l.94-2.06 2.06-.94-2.06-.94L8.5 2.5l-.94 2.06-2.06.94zm10 10l.94 2.06.94-2.06 2.06-.94-2.06-.94-.94-2.06-.94 2.06-2.06.94z\"/><path d=\"M17.41 7.96l-1.37-1.37c-.4-.4-.92-.59-1.43-.59-.52 0-1.04.2-1.43.59L10.3 9.45l-7.72 7.72c-.78.78-.78 2.05 0 2.83L4 21.41c.39.39.9.59 1.41.59.51 0 1.02-.2 1.41-.59l7.78-7.78 2.81-2.81c.8-.78.8-2.07 0-2.86zM5.41 20L4 18.59l7.72-7.72 1.47 1.35L5.41 20z\"/>\n",
              "  </svg>\n",
              "      </button>\n",
              "      \n",
              "  <style>\n",
              "    .colab-df-container {\n",
              "      display:flex;\n",
              "      flex-wrap:wrap;\n",
              "      gap: 12px;\n",
              "    }\n",
              "\n",
              "    .colab-df-convert {\n",
              "      background-color: #E8F0FE;\n",
              "      border: none;\n",
              "      border-radius: 50%;\n",
              "      cursor: pointer;\n",
              "      display: none;\n",
              "      fill: #1967D2;\n",
              "      height: 32px;\n",
              "      padding: 0 0 0 0;\n",
              "      width: 32px;\n",
              "    }\n",
              "\n",
              "    .colab-df-convert:hover {\n",
              "      background-color: #E2EBFA;\n",
              "      box-shadow: 0px 1px 2px rgba(60, 64, 67, 0.3), 0px 1px 3px 1px rgba(60, 64, 67, 0.15);\n",
              "      fill: #174EA6;\n",
              "    }\n",
              "\n",
              "    [theme=dark] .colab-df-convert {\n",
              "      background-color: #3B4455;\n",
              "      fill: #D2E3FC;\n",
              "    }\n",
              "\n",
              "    [theme=dark] .colab-df-convert:hover {\n",
              "      background-color: #434B5C;\n",
              "      box-shadow: 0px 1px 3px 1px rgba(0, 0, 0, 0.15);\n",
              "      filter: drop-shadow(0px 1px 2px rgba(0, 0, 0, 0.3));\n",
              "      fill: #FFFFFF;\n",
              "    }\n",
              "  </style>\n",
              "\n",
              "      <script>\n",
              "        const buttonEl =\n",
              "          document.querySelector('#df-3a985b93-6751-4c3f-8423-172c904eb565 button.colab-df-convert');\n",
              "        buttonEl.style.display =\n",
              "          google.colab.kernel.accessAllowed ? 'block' : 'none';\n",
              "\n",
              "        async function convertToInteractive(key) {\n",
              "          const element = document.querySelector('#df-3a985b93-6751-4c3f-8423-172c904eb565');\n",
              "          const dataTable =\n",
              "            await google.colab.kernel.invokeFunction('convertToInteractive',\n",
              "                                                     [key], {});\n",
              "          if (!dataTable) return;\n",
              "\n",
              "          const docLinkHtml = 'Like what you see? Visit the ' +\n",
              "            '<a target=\"_blank\" href=https://colab.research.google.com/notebooks/data_table.ipynb>data table notebook</a>'\n",
              "            + ' to learn more about interactive tables.';\n",
              "          element.innerHTML = '';\n",
              "          dataTable['output_type'] = 'display_data';\n",
              "          await google.colab.output.renderOutput(dataTable, element);\n",
              "          const docLink = document.createElement('div');\n",
              "          docLink.innerHTML = docLinkHtml;\n",
              "          element.appendChild(docLink);\n",
              "        }\n",
              "      </script>\n",
              "    </div>\n",
              "  </div>\n",
              "  "
            ],
            "text/plain": [
              "                  ID  Month  Day_of_Month  Estimated_Departure_Time  \\\n",
              "0       TRAIN_000000      4            15                       NaN   \n",
              "1       TRAIN_000001      8            15                     740.0   \n",
              "2       TRAIN_000002      9             6                    1610.0   \n",
              "3       TRAIN_000003      7            10                     905.0   \n",
              "4       TRAIN_000004      1            11                     900.0   \n",
              "...              ...    ...           ...                       ...   \n",
              "999995  TRAIN_999995      9            18                     936.0   \n",
              "999996  TRAIN_999996      5            30                     920.0   \n",
              "999997  TRAIN_999997      6            28                     800.0   \n",
              "999998  TRAIN_999998      9            27                    1613.0   \n",
              "999999  TRAIN_999999      3            26                    1800.0   \n",
              "\n",
              "        Estimated_Arrival_Time Origin_Airport  Origin_Airport_ID  \\\n",
              "0                          NaN            OKC              13851   \n",
              "1                       1024.0            ORD              13930   \n",
              "2                       1805.0            CLT              11057   \n",
              "3                       1735.0            LAX              12892   \n",
              "4                       1019.0            SFO              14771   \n",
              "...                        ...            ...                ...   \n",
              "999995                  1243.0            ORD              13930   \n",
              "999996                  1028.0            FAR              11637   \n",
              "999997                  1340.0            OAK              13796   \n",
              "999998                  1824.0            BNA              10693   \n",
              "999999                  2056.0            RSW              14635   \n",
              "\n",
              "       Destination_Airport  Destination_Airport_ID  Distance  \\\n",
              "0                      HOU                   12191     419.0   \n",
              "1                      SLC                   14869    1250.0   \n",
              "2                      LGA                   12953     544.0   \n",
              "3                      EWR                   11618    2454.0   \n",
              "4                      ACV                   10157     250.0   \n",
              "...                    ...                     ...       ...   \n",
              "999995                 PHL                   14100     678.0   \n",
              "999996                 MSP                   13487     223.0   \n",
              "999997                 HOU                   12191    1642.0   \n",
              "999998                 ATL                   10397     214.0   \n",
              "999999                 DTW                   11433    1084.0   \n",
              "\n",
              "                       Airline  Carrier_ID(DOT) Tail_Number  Delay  \\\n",
              "0       Southwest Airlines Co.          19393.0      N7858A    0.0   \n",
              "1        SkyWest Airlines Inc.          20304.0      N125SY    0.0   \n",
              "2       American Airlines Inc.          19805.0      N103US    0.0   \n",
              "3        United Air Lines Inc.          19977.0      N595UA    0.0   \n",
              "4        SkyWest Airlines Inc.          20304.0      N161SY    0.0   \n",
              "...                        ...              ...         ...    ...   \n",
              "999995   United Air Lines Inc.          19977.0      N477UA    0.0   \n",
              "999996   SkyWest Airlines Inc.          20304.0      N439SW    0.0   \n",
              "999997  Southwest Airlines Co.          19393.0      N230WN    0.0   \n",
              "999998    Delta Air Lines Inc.          19790.0      N968DL    0.0   \n",
              "999999    Delta Air Lines Inc.          19790.0      N695DL    0.0   \n",
              "\n",
              "       filled_Origin_State filled_Destination_State  delay  \n",
              "0                 Oklahoma                    Texas    0.0  \n",
              "1                 Illinois                     Utah    0.0  \n",
              "2           North Carolina                 New York    1.0  \n",
              "3               California               New Jersey    1.0  \n",
              "4               California               California    0.0  \n",
              "...                    ...                      ...    ...  \n",
              "999995            Illinois             Pennsylvania    1.0  \n",
              "999996        North Dakota                Minnesota    0.0  \n",
              "999997          California                    Texas    0.0  \n",
              "999998           Tennessee                  Georgia    1.0  \n",
              "999999             Florida                 Michigan    0.0  \n",
              "\n",
              "[1000000 rows x 17 columns]"
            ]
          },
          "execution_count": 69,
          "metadata": {},
          "output_type": "execute_result"
        }
      ],
      "source": [
        "train"
      ]
    },
    {
      "cell_type": "code",
      "execution_count": null,
      "metadata": {
        "id": "9z8RYg4fu2Zj"
      },
      "outputs": [],
      "source": [
        "del train['ID']\n",
        "del train['Estimated_Departure_Time']\n",
        "del train['Estimated_Arrival_Time']\n",
        "del train['Delay']"
      ]
    },
    {
      "cell_type": "code",
      "execution_count": null,
      "metadata": {
        "id": "QR7OChehvk99"
      },
      "outputs": [],
      "source": [
        "submission_ID = test['ID']"
      ]
    },
    {
      "cell_type": "code",
      "execution_count": null,
      "metadata": {
        "id": "nUB2r5T5ve-v"
      },
      "outputs": [],
      "source": [
        "del test['ID']\n",
        "del test['Estimated_Departure_Time']\n",
        "del test['Estimated_Arrival_Time']\n"
      ]
    },
    {
      "cell_type": "markdown",
      "source": [
        "### 나머지 결측값 처리 "
      ],
      "metadata": {
        "id": "k627xgPhCP0r"
      }
    },
    {
      "cell_type": "code",
      "source": [
        "train.info()"
      ],
      "metadata": {
        "colab": {
          "base_uri": "https://localhost:8080/"
        },
        "id": "GwrbaARpCUL3",
        "outputId": "99b555ab-fcb0-40d2-cb1e-cddb6b970c01"
      },
      "execution_count": null,
      "outputs": [
        {
          "output_type": "stream",
          "name": "stdout",
          "text": [
            "<class 'pandas.core.frame.DataFrame'>\n",
            "RangeIndex: 1000000 entries, 0 to 999999\n",
            "Data columns (total 16 columns):\n",
            " #   Column                    Non-Null Count    Dtype  \n",
            "---  ------                    --------------    -----  \n",
            " 0   ID                        1000000 non-null  object \n",
            " 1   Month                     1000000 non-null  int64  \n",
            " 2   Day_of_Month              1000000 non-null  int64  \n",
            " 3   Estimated_Departure_Time  890981 non-null   float64\n",
            " 4   Estimated_Arrival_Time    890960 non-null   float64\n",
            " 5   Origin_Airport            1000000 non-null  object \n",
            " 6   Origin_Airport_ID         1000000 non-null  int64  \n",
            " 7   Destination_Airport       1000000 non-null  object \n",
            " 8   Destination_Airport_ID    1000000 non-null  int64  \n",
            " 9   Distance                  1000000 non-null  float64\n",
            " 10  Airline                   999998 non-null   object \n",
            " 11  Carrier_ID(DOT)           999998 non-null   float64\n",
            " 12  Tail_Number               1000000 non-null  object \n",
            " 13  Delay                     255001 non-null   object \n",
            " 14  filled_Origin_State       1000000 non-null  object \n",
            " 15  filled_Destination_State  1000000 non-null  object \n",
            "dtypes: float64(4), int64(4), object(8)\n",
            "memory usage: 122.1+ MB\n"
          ]
        }
      ]
    },
    {
      "cell_type": "code",
      "execution_count": null,
      "metadata": {
        "colab": {
          "base_uri": "https://localhost:8080/"
        },
        "id": "0Kou1bF3vqcM",
        "outputId": "eb40fce2-bccb-4b03-cfed-0b2072672e20"
      },
      "outputs": [
        {
          "output_type": "stream",
          "name": "stdout",
          "text": [
            "<class 'pandas.core.frame.DataFrame'>\n",
            "RangeIndex: 1000000 entries, 0 to 999999\n",
            "Data columns (total 15 columns):\n",
            " #   Column                    Non-Null Count    Dtype  \n",
            "---  ------                    --------------    -----  \n",
            " 0   ID                        1000000 non-null  object \n",
            " 1   Month                     1000000 non-null  int64  \n",
            " 2   Day_of_Month              1000000 non-null  int64  \n",
            " 3   Estimated_Departure_Time  891016 non-null   float64\n",
            " 4   Estimated_Arrival_Time    890952 non-null   float64\n",
            " 5   Origin_Airport            1000000 non-null  object \n",
            " 6   Origin_Airport_ID         1000000 non-null  int64  \n",
            " 7   Destination_Airport       1000000 non-null  object \n",
            " 8   Destination_Airport_ID    1000000 non-null  int64  \n",
            " 9   Distance                  1000000 non-null  float64\n",
            " 10  Airline                   998281 non-null   object \n",
            " 11  Carrier_ID(DOT)           998281 non-null   float64\n",
            " 12  Tail_Number               1000000 non-null  object \n",
            " 13  filled_Origin_State       1000000 non-null  object \n",
            " 14  filled_Destination_State  1000000 non-null  object \n",
            "dtypes: float64(4), int64(4), object(7)\n",
            "memory usage: 114.4+ MB\n"
          ]
        }
      ],
      "source": [
        "test.info()"
      ]
    },
    {
      "cell_type": "code",
      "execution_count": null,
      "metadata": {
        "id": "KnC-51yFz4Rq"
      },
      "outputs": [],
      "source": [
        "NaN_col = ['Airline', 'Carrier_ID(DOT)', 'Estimated_Departure_Time', 'Estimated_Arrival_Time']\n",
        "\n",
        "for col in NaN_col:\n",
        "    mode = train[col].mode()[0]\n",
        "\n",
        "    test[col] = test[col].fillna(mode)"
      ]
    },
    {
      "cell_type": "code",
      "source": [
        "test.info()"
      ],
      "metadata": {
        "id": "Gl-y8IctHQLA"
      },
      "execution_count": null,
      "outputs": []
    },
    {
      "cell_type": "code",
      "execution_count": null,
      "metadata": {
        "colab": {
          "base_uri": "https://localhost:8080/"
        },
        "id": "KNRJFLqlu2b3",
        "outputId": "858fd924-18c9-48a6-f050-238722bf4d12"
      },
      "outputs": [
        {
          "output_type": "stream",
          "name": "stdout",
          "text": [
            "<class 'pandas.core.frame.DataFrame'>\n",
            "RangeIndex: 1000000 entries, 0 to 999999\n",
            "Data columns (total 16 columns):\n",
            " #   Column                    Non-Null Count    Dtype  \n",
            "---  ------                    --------------    -----  \n",
            " 0   ID                        1000000 non-null  object \n",
            " 1   Month                     1000000 non-null  int64  \n",
            " 2   Day_of_Month              1000000 non-null  int64  \n",
            " 3   Estimated_Departure_Time  890981 non-null   float64\n",
            " 4   Estimated_Arrival_Time    890960 non-null   float64\n",
            " 5   Origin_Airport            1000000 non-null  object \n",
            " 6   Origin_Airport_ID         1000000 non-null  int64  \n",
            " 7   Destination_Airport       1000000 non-null  object \n",
            " 8   Destination_Airport_ID    1000000 non-null  int64  \n",
            " 9   Distance                  1000000 non-null  float64\n",
            " 10  Airline                   999998 non-null   object \n",
            " 11  Carrier_ID(DOT)           999998 non-null   float64\n",
            " 12  Tail_Number               1000000 non-null  object \n",
            " 13  Delay                     255001 non-null   object \n",
            " 14  filled_Origin_State       1000000 non-null  object \n",
            " 15  filled_Destination_State  1000000 non-null  object \n",
            "dtypes: float64(4), int64(4), object(8)\n",
            "memory usage: 122.1+ MB\n"
          ]
        }
      ],
      "source": [
        "train.info()"
      ]
    },
    {
      "cell_type": "code",
      "execution_count": null,
      "metadata": {
        "id": "zHzb8yLovy-K"
      },
      "outputs": [],
      "source": [
        "train = train.dropna()\n"
      ]
    },
    {
      "cell_type": "code",
      "execution_count": null,
      "metadata": {
        "id": "LCOa03Ctv-1Y"
      },
      "outputs": [],
      "source": [
        "train_x = train.drop(columns=['Delay'])\n",
        "train_y = train['Delay']\n"
      ]
    },
    {
      "cell_type": "code",
      "execution_count": null,
      "metadata": {
        "id": "ojTOL3pD0Y2s"
      },
      "outputs": [],
      "source": [
        "test_x = test"
      ]
    },
    {
      "cell_type": "markdown",
      "metadata": {
        "id": "XwY5rp2cwEE_"
      },
      "source": [
        "## 데이터 라벨링 인코딩 "
      ]
    },
    {
      "cell_type": "code",
      "execution_count": null,
      "metadata": {
        "colab": {
          "base_uri": "https://localhost:8080/"
        },
        "id": "2rj8JFYFwGQd",
        "outputId": "3f83ad33-9357-4d61-80c5-ff7511012e64"
      },
      "outputs": [
        {
          "output_type": "stream",
          "name": "stdout",
          "text": [
            "Done.\n"
          ]
        }
      ],
      "source": [
        "#질적 변수들을 수치화합니다\n",
        "qual_col = ['Origin_Airport',  'Destination_Airport',  'Airline', 'Tail_Number', 'filled_Origin_State', 'filled_Destination_State']\n",
        "\n",
        "for i in qual_col:\n",
        "    le = LabelEncoder()\n",
        "    le=le.fit(train_x[i])\n",
        "    train_x[i]=le.transform(train_x[i])\n",
        "    \n",
        "    for label in np.unique(test[i]):\n",
        "        if label not in le.classes_: \n",
        "            le.classes_ = np.append(le.classes_, label)\n",
        "    test_x[i]=le.transform(test[i])\n",
        "print('Done.')"
      ]
    },
    {
      "cell_type": "code",
      "source": [
        "le = le.fit(train_y)\n",
        "train_y = le.transform(train_y)\n",
        "\n"
      ],
      "metadata": {
        "id": "mrAaATdxLj4f"
      },
      "execution_count": null,
      "outputs": []
    },
    {
      "cell_type": "code",
      "source": [
        "del train_x['ID']\n",
        "del test['ID']"
      ],
      "metadata": {
        "id": "nTokvFgPHuNz"
      },
      "execution_count": null,
      "outputs": []
    },
    {
      "cell_type": "markdown",
      "metadata": {
        "id": "7ETLoINk6E39"
      },
      "source": [
        "## 모델링"
      ]
    },
    {
      "cell_type": "code",
      "execution_count": null,
      "metadata": {
        "colab": {
          "base_uri": "https://localhost:8080/",
          "height": 75
        },
        "id": "SJl8gGg554B7",
        "outputId": "39a47f0f-4a33-4fbe-ff06-42650a06163c"
      },
      "outputs": [
        {
          "data": {
            "text/html": [
              "<style>#sk-container-id-1 {color: black;background-color: white;}#sk-container-id-1 pre{padding: 0;}#sk-container-id-1 div.sk-toggleable {background-color: white;}#sk-container-id-1 label.sk-toggleable__label {cursor: pointer;display: block;width: 100%;margin-bottom: 0;padding: 0.3em;box-sizing: border-box;text-align: center;}#sk-container-id-1 label.sk-toggleable__label-arrow:before {content: \"▸\";float: left;margin-right: 0.25em;color: #696969;}#sk-container-id-1 label.sk-toggleable__label-arrow:hover:before {color: black;}#sk-container-id-1 div.sk-estimator:hover label.sk-toggleable__label-arrow:before {color: black;}#sk-container-id-1 div.sk-toggleable__content {max-height: 0;max-width: 0;overflow: hidden;text-align: left;background-color: #f0f8ff;}#sk-container-id-1 div.sk-toggleable__content pre {margin: 0.2em;color: black;border-radius: 0.25em;background-color: #f0f8ff;}#sk-container-id-1 input.sk-toggleable__control:checked~div.sk-toggleable__content {max-height: 200px;max-width: 100%;overflow: auto;}#sk-container-id-1 input.sk-toggleable__control:checked~label.sk-toggleable__label-arrow:before {content: \"▾\";}#sk-container-id-1 div.sk-estimator input.sk-toggleable__control:checked~label.sk-toggleable__label {background-color: #d4ebff;}#sk-container-id-1 div.sk-label input.sk-toggleable__control:checked~label.sk-toggleable__label {background-color: #d4ebff;}#sk-container-id-1 input.sk-hidden--visually {border: 0;clip: rect(1px 1px 1px 1px);clip: rect(1px, 1px, 1px, 1px);height: 1px;margin: -1px;overflow: hidden;padding: 0;position: absolute;width: 1px;}#sk-container-id-1 div.sk-estimator {font-family: monospace;background-color: #f0f8ff;border: 1px dotted black;border-radius: 0.25em;box-sizing: border-box;margin-bottom: 0.5em;}#sk-container-id-1 div.sk-estimator:hover {background-color: #d4ebff;}#sk-container-id-1 div.sk-parallel-item::after {content: \"\";width: 100%;border-bottom: 1px solid gray;flex-grow: 1;}#sk-container-id-1 div.sk-label:hover label.sk-toggleable__label {background-color: #d4ebff;}#sk-container-id-1 div.sk-serial::before {content: \"\";position: absolute;border-left: 1px solid gray;box-sizing: border-box;top: 0;bottom: 0;left: 50%;z-index: 0;}#sk-container-id-1 div.sk-serial {display: flex;flex-direction: column;align-items: center;background-color: white;padding-right: 0.2em;padding-left: 0.2em;position: relative;}#sk-container-id-1 div.sk-item {position: relative;z-index: 1;}#sk-container-id-1 div.sk-parallel {display: flex;align-items: stretch;justify-content: center;background-color: white;position: relative;}#sk-container-id-1 div.sk-item::before, #sk-container-id-1 div.sk-parallel-item::before {content: \"\";position: absolute;border-left: 1px solid gray;box-sizing: border-box;top: 0;bottom: 0;left: 50%;z-index: -1;}#sk-container-id-1 div.sk-parallel-item {display: flex;flex-direction: column;z-index: 1;position: relative;background-color: white;}#sk-container-id-1 div.sk-parallel-item:first-child::after {align-self: flex-end;width: 50%;}#sk-container-id-1 div.sk-parallel-item:last-child::after {align-self: flex-start;width: 50%;}#sk-container-id-1 div.sk-parallel-item:only-child::after {width: 0;}#sk-container-id-1 div.sk-dashed-wrapped {border: 1px dashed gray;margin: 0 0.4em 0.5em 0.4em;box-sizing: border-box;padding-bottom: 0.4em;background-color: white;}#sk-container-id-1 div.sk-label label {font-family: monospace;font-weight: bold;display: inline-block;line-height: 1.2em;}#sk-container-id-1 div.sk-label-container {text-align: center;}#sk-container-id-1 div.sk-container {/* jupyter's `normalize.less` sets `[hidden] { display: none; }` but bootstrap.min.css set `[hidden] { display: none !important; }` so we also need the `!important` here to be able to override the default hidden behavior on the sphinx rendered scikit-learn.org. See: https://github.com/scikit-learn/scikit-learn/issues/21755 */display: inline-block !important;position: relative;}#sk-container-id-1 div.sk-text-repr-fallback {display: none;}</style><div id=\"sk-container-id-1\" class=\"sk-top-container\"><div class=\"sk-text-repr-fallback\"><pre>RandomForestClassifier()</pre><b>In a Jupyter environment, please rerun this cell to show the HTML representation or trust the notebook. <br />On GitHub, the HTML representation is unable to render, please try loading this page with nbviewer.org.</b></div><div class=\"sk-container\" hidden><div class=\"sk-item\"><div class=\"sk-estimator sk-toggleable\"><input class=\"sk-toggleable__control sk-hidden--visually\" id=\"sk-estimator-id-1\" type=\"checkbox\" checked><label for=\"sk-estimator-id-1\" class=\"sk-toggleable__label sk-toggleable__label-arrow\">RandomForestClassifier</label><div class=\"sk-toggleable__content\"><pre>RandomForestClassifier()</pre></div></div></div></div></div>"
            ],
            "text/plain": [
              "RandomForestClassifier()"
            ]
          },
          "execution_count": 82,
          "metadata": {},
          "output_type": "execute_result"
        }
      ],
      "source": [
        "clf = RandomForestClassifier()\n",
        "clf.fit(train_x, train_y)"
      ]
    },
    {
      "cell_type": "code",
      "execution_count": null,
      "metadata": {
        "colab": {
          "base_uri": "https://localhost:8080/",
          "height": 75
        },
        "id": "T5JvxYf4bsoJ",
        "outputId": "81f8edd2-9234-4c3a-dd71-9bae4ae74e81"
      },
      "outputs": [
        {
          "data": {
            "text/html": [
              "<style>#sk-container-id-2 {color: black;background-color: white;}#sk-container-id-2 pre{padding: 0;}#sk-container-id-2 div.sk-toggleable {background-color: white;}#sk-container-id-2 label.sk-toggleable__label {cursor: pointer;display: block;width: 100%;margin-bottom: 0;padding: 0.3em;box-sizing: border-box;text-align: center;}#sk-container-id-2 label.sk-toggleable__label-arrow:before {content: \"▸\";float: left;margin-right: 0.25em;color: #696969;}#sk-container-id-2 label.sk-toggleable__label-arrow:hover:before {color: black;}#sk-container-id-2 div.sk-estimator:hover label.sk-toggleable__label-arrow:before {color: black;}#sk-container-id-2 div.sk-toggleable__content {max-height: 0;max-width: 0;overflow: hidden;text-align: left;background-color: #f0f8ff;}#sk-container-id-2 div.sk-toggleable__content pre {margin: 0.2em;color: black;border-radius: 0.25em;background-color: #f0f8ff;}#sk-container-id-2 input.sk-toggleable__control:checked~div.sk-toggleable__content {max-height: 200px;max-width: 100%;overflow: auto;}#sk-container-id-2 input.sk-toggleable__control:checked~label.sk-toggleable__label-arrow:before {content: \"▾\";}#sk-container-id-2 div.sk-estimator input.sk-toggleable__control:checked~label.sk-toggleable__label {background-color: #d4ebff;}#sk-container-id-2 div.sk-label input.sk-toggleable__control:checked~label.sk-toggleable__label {background-color: #d4ebff;}#sk-container-id-2 input.sk-hidden--visually {border: 0;clip: rect(1px 1px 1px 1px);clip: rect(1px, 1px, 1px, 1px);height: 1px;margin: -1px;overflow: hidden;padding: 0;position: absolute;width: 1px;}#sk-container-id-2 div.sk-estimator {font-family: monospace;background-color: #f0f8ff;border: 1px dotted black;border-radius: 0.25em;box-sizing: border-box;margin-bottom: 0.5em;}#sk-container-id-2 div.sk-estimator:hover {background-color: #d4ebff;}#sk-container-id-2 div.sk-parallel-item::after {content: \"\";width: 100%;border-bottom: 1px solid gray;flex-grow: 1;}#sk-container-id-2 div.sk-label:hover label.sk-toggleable__label {background-color: #d4ebff;}#sk-container-id-2 div.sk-serial::before {content: \"\";position: absolute;border-left: 1px solid gray;box-sizing: border-box;top: 0;bottom: 0;left: 50%;z-index: 0;}#sk-container-id-2 div.sk-serial {display: flex;flex-direction: column;align-items: center;background-color: white;padding-right: 0.2em;padding-left: 0.2em;position: relative;}#sk-container-id-2 div.sk-item {position: relative;z-index: 1;}#sk-container-id-2 div.sk-parallel {display: flex;align-items: stretch;justify-content: center;background-color: white;position: relative;}#sk-container-id-2 div.sk-item::before, #sk-container-id-2 div.sk-parallel-item::before {content: \"\";position: absolute;border-left: 1px solid gray;box-sizing: border-box;top: 0;bottom: 0;left: 50%;z-index: -1;}#sk-container-id-2 div.sk-parallel-item {display: flex;flex-direction: column;z-index: 1;position: relative;background-color: white;}#sk-container-id-2 div.sk-parallel-item:first-child::after {align-self: flex-end;width: 50%;}#sk-container-id-2 div.sk-parallel-item:last-child::after {align-self: flex-start;width: 50%;}#sk-container-id-2 div.sk-parallel-item:only-child::after {width: 0;}#sk-container-id-2 div.sk-dashed-wrapped {border: 1px dashed gray;margin: 0 0.4em 0.5em 0.4em;box-sizing: border-box;padding-bottom: 0.4em;background-color: white;}#sk-container-id-2 div.sk-label label {font-family: monospace;font-weight: bold;display: inline-block;line-height: 1.2em;}#sk-container-id-2 div.sk-label-container {text-align: center;}#sk-container-id-2 div.sk-container {/* jupyter's `normalize.less` sets `[hidden] { display: none; }` but bootstrap.min.css set `[hidden] { display: none !important; }` so we also need the `!important` here to be able to override the default hidden behavior on the sphinx rendered scikit-learn.org. See: https://github.com/scikit-learn/scikit-learn/issues/21755 */display: inline-block !important;position: relative;}#sk-container-id-2 div.sk-text-repr-fallback {display: none;}</style><div id=\"sk-container-id-2\" class=\"sk-top-container\"><div class=\"sk-text-repr-fallback\"><pre>AdaBoostClassifier()</pre><b>In a Jupyter environment, please rerun this cell to show the HTML representation or trust the notebook. <br />On GitHub, the HTML representation is unable to render, please try loading this page with nbviewer.org.</b></div><div class=\"sk-container\" hidden><div class=\"sk-item\"><div class=\"sk-estimator sk-toggleable\"><input class=\"sk-toggleable__control sk-hidden--visually\" id=\"sk-estimator-id-2\" type=\"checkbox\" checked><label for=\"sk-estimator-id-2\" class=\"sk-toggleable__label sk-toggleable__label-arrow\">AdaBoostClassifier</label><div class=\"sk-toggleable__content\"><pre>AdaBoostClassifier()</pre></div></div></div></div></div>"
            ],
            "text/plain": [
              "AdaBoostClassifier()"
            ]
          },
          "execution_count": 93,
          "metadata": {},
          "output_type": "execute_result"
        }
      ],
      "source": [
        "ada = AdaBoostClassifier()\n",
        "ada.fit(train_x, train_y)"
      ]
    },
    {
      "cell_type": "code",
      "execution_count": null,
      "metadata": {
        "colab": {
          "base_uri": "https://localhost:8080/",
          "height": 222
        },
        "id": "i65iT1AmcJ_a",
        "outputId": "285fb5c3-a751-464e-97cc-2c28e759f741"
      },
      "outputs": [
        {
          "name": "stderr",
          "output_type": "stream",
          "text": [
            "/usr/local/lib/python3.9/dist-packages/sklearn/linear_model/_logistic.py:458: ConvergenceWarning: lbfgs failed to converge (status=1):\n",
            "STOP: TOTAL NO. of ITERATIONS REACHED LIMIT.\n",
            "\n",
            "Increase the number of iterations (max_iter) or scale the data as shown in:\n",
            "    https://scikit-learn.org/stable/modules/preprocessing.html\n",
            "Please also refer to the documentation for alternative solver options:\n",
            "    https://scikit-learn.org/stable/modules/linear_model.html#logistic-regression\n",
            "  n_iter_i = _check_optimize_result(\n"
          ]
        },
        {
          "data": {
            "text/html": [
              "<style>#sk-container-id-3 {color: black;background-color: white;}#sk-container-id-3 pre{padding: 0;}#sk-container-id-3 div.sk-toggleable {background-color: white;}#sk-container-id-3 label.sk-toggleable__label {cursor: pointer;display: block;width: 100%;margin-bottom: 0;padding: 0.3em;box-sizing: border-box;text-align: center;}#sk-container-id-3 label.sk-toggleable__label-arrow:before {content: \"▸\";float: left;margin-right: 0.25em;color: #696969;}#sk-container-id-3 label.sk-toggleable__label-arrow:hover:before {color: black;}#sk-container-id-3 div.sk-estimator:hover label.sk-toggleable__label-arrow:before {color: black;}#sk-container-id-3 div.sk-toggleable__content {max-height: 0;max-width: 0;overflow: hidden;text-align: left;background-color: #f0f8ff;}#sk-container-id-3 div.sk-toggleable__content pre {margin: 0.2em;color: black;border-radius: 0.25em;background-color: #f0f8ff;}#sk-container-id-3 input.sk-toggleable__control:checked~div.sk-toggleable__content {max-height: 200px;max-width: 100%;overflow: auto;}#sk-container-id-3 input.sk-toggleable__control:checked~label.sk-toggleable__label-arrow:before {content: \"▾\";}#sk-container-id-3 div.sk-estimator input.sk-toggleable__control:checked~label.sk-toggleable__label {background-color: #d4ebff;}#sk-container-id-3 div.sk-label input.sk-toggleable__control:checked~label.sk-toggleable__label {background-color: #d4ebff;}#sk-container-id-3 input.sk-hidden--visually {border: 0;clip: rect(1px 1px 1px 1px);clip: rect(1px, 1px, 1px, 1px);height: 1px;margin: -1px;overflow: hidden;padding: 0;position: absolute;width: 1px;}#sk-container-id-3 div.sk-estimator {font-family: monospace;background-color: #f0f8ff;border: 1px dotted black;border-radius: 0.25em;box-sizing: border-box;margin-bottom: 0.5em;}#sk-container-id-3 div.sk-estimator:hover {background-color: #d4ebff;}#sk-container-id-3 div.sk-parallel-item::after {content: \"\";width: 100%;border-bottom: 1px solid gray;flex-grow: 1;}#sk-container-id-3 div.sk-label:hover label.sk-toggleable__label {background-color: #d4ebff;}#sk-container-id-3 div.sk-serial::before {content: \"\";position: absolute;border-left: 1px solid gray;box-sizing: border-box;top: 0;bottom: 0;left: 50%;z-index: 0;}#sk-container-id-3 div.sk-serial {display: flex;flex-direction: column;align-items: center;background-color: white;padding-right: 0.2em;padding-left: 0.2em;position: relative;}#sk-container-id-3 div.sk-item {position: relative;z-index: 1;}#sk-container-id-3 div.sk-parallel {display: flex;align-items: stretch;justify-content: center;background-color: white;position: relative;}#sk-container-id-3 div.sk-item::before, #sk-container-id-3 div.sk-parallel-item::before {content: \"\";position: absolute;border-left: 1px solid gray;box-sizing: border-box;top: 0;bottom: 0;left: 50%;z-index: -1;}#sk-container-id-3 div.sk-parallel-item {display: flex;flex-direction: column;z-index: 1;position: relative;background-color: white;}#sk-container-id-3 div.sk-parallel-item:first-child::after {align-self: flex-end;width: 50%;}#sk-container-id-3 div.sk-parallel-item:last-child::after {align-self: flex-start;width: 50%;}#sk-container-id-3 div.sk-parallel-item:only-child::after {width: 0;}#sk-container-id-3 div.sk-dashed-wrapped {border: 1px dashed gray;margin: 0 0.4em 0.5em 0.4em;box-sizing: border-box;padding-bottom: 0.4em;background-color: white;}#sk-container-id-3 div.sk-label label {font-family: monospace;font-weight: bold;display: inline-block;line-height: 1.2em;}#sk-container-id-3 div.sk-label-container {text-align: center;}#sk-container-id-3 div.sk-container {/* jupyter's `normalize.less` sets `[hidden] { display: none; }` but bootstrap.min.css set `[hidden] { display: none !important; }` so we also need the `!important` here to be able to override the default hidden behavior on the sphinx rendered scikit-learn.org. See: https://github.com/scikit-learn/scikit-learn/issues/21755 */display: inline-block !important;position: relative;}#sk-container-id-3 div.sk-text-repr-fallback {display: none;}</style><div id=\"sk-container-id-3\" class=\"sk-top-container\"><div class=\"sk-text-repr-fallback\"><pre>LogisticRegression()</pre><b>In a Jupyter environment, please rerun this cell to show the HTML representation or trust the notebook. <br />On GitHub, the HTML representation is unable to render, please try loading this page with nbviewer.org.</b></div><div class=\"sk-container\" hidden><div class=\"sk-item\"><div class=\"sk-estimator sk-toggleable\"><input class=\"sk-toggleable__control sk-hidden--visually\" id=\"sk-estimator-id-3\" type=\"checkbox\" checked><label for=\"sk-estimator-id-3\" class=\"sk-toggleable__label sk-toggleable__label-arrow\">LogisticRegression</label><div class=\"sk-toggleable__content\"><pre>LogisticRegression()</pre></div></div></div></div></div>"
            ],
            "text/plain": [
              "LogisticRegression()"
            ]
          },
          "execution_count": 96,
          "metadata": {},
          "output_type": "execute_result"
        }
      ],
      "source": [
        "LR = LogisticRegression()\n",
        "LR.fit(train_x, train_y)"
      ]
    },
    {
      "cell_type": "code",
      "execution_count": null,
      "metadata": {
        "colab": {
          "base_uri": "https://localhost:8080/",
          "height": 131
        },
        "id": "NZRdq8kDcPLN",
        "outputId": "57809960-03e6-4260-de34-e6e2c2ecd813"
      },
      "outputs": [
        {
          "name": "stderr",
          "output_type": "stream",
          "text": [
            "/usr/local/lib/python3.9/dist-packages/sklearn/linear_model/_stochastic_gradient.py:702: ConvergenceWarning: Maximum number of iteration reached before convergence. Consider increasing max_iter to improve the fit.\n",
            "  warnings.warn(\n"
          ]
        },
        {
          "data": {
            "text/html": [
              "<style>#sk-container-id-5 {color: black;background-color: white;}#sk-container-id-5 pre{padding: 0;}#sk-container-id-5 div.sk-toggleable {background-color: white;}#sk-container-id-5 label.sk-toggleable__label {cursor: pointer;display: block;width: 100%;margin-bottom: 0;padding: 0.3em;box-sizing: border-box;text-align: center;}#sk-container-id-5 label.sk-toggleable__label-arrow:before {content: \"▸\";float: left;margin-right: 0.25em;color: #696969;}#sk-container-id-5 label.sk-toggleable__label-arrow:hover:before {color: black;}#sk-container-id-5 div.sk-estimator:hover label.sk-toggleable__label-arrow:before {color: black;}#sk-container-id-5 div.sk-toggleable__content {max-height: 0;max-width: 0;overflow: hidden;text-align: left;background-color: #f0f8ff;}#sk-container-id-5 div.sk-toggleable__content pre {margin: 0.2em;color: black;border-radius: 0.25em;background-color: #f0f8ff;}#sk-container-id-5 input.sk-toggleable__control:checked~div.sk-toggleable__content {max-height: 200px;max-width: 100%;overflow: auto;}#sk-container-id-5 input.sk-toggleable__control:checked~label.sk-toggleable__label-arrow:before {content: \"▾\";}#sk-container-id-5 div.sk-estimator input.sk-toggleable__control:checked~label.sk-toggleable__label {background-color: #d4ebff;}#sk-container-id-5 div.sk-label input.sk-toggleable__control:checked~label.sk-toggleable__label {background-color: #d4ebff;}#sk-container-id-5 input.sk-hidden--visually {border: 0;clip: rect(1px 1px 1px 1px);clip: rect(1px, 1px, 1px, 1px);height: 1px;margin: -1px;overflow: hidden;padding: 0;position: absolute;width: 1px;}#sk-container-id-5 div.sk-estimator {font-family: monospace;background-color: #f0f8ff;border: 1px dotted black;border-radius: 0.25em;box-sizing: border-box;margin-bottom: 0.5em;}#sk-container-id-5 div.sk-estimator:hover {background-color: #d4ebff;}#sk-container-id-5 div.sk-parallel-item::after {content: \"\";width: 100%;border-bottom: 1px solid gray;flex-grow: 1;}#sk-container-id-5 div.sk-label:hover label.sk-toggleable__label {background-color: #d4ebff;}#sk-container-id-5 div.sk-serial::before {content: \"\";position: absolute;border-left: 1px solid gray;box-sizing: border-box;top: 0;bottom: 0;left: 50%;z-index: 0;}#sk-container-id-5 div.sk-serial {display: flex;flex-direction: column;align-items: center;background-color: white;padding-right: 0.2em;padding-left: 0.2em;position: relative;}#sk-container-id-5 div.sk-item {position: relative;z-index: 1;}#sk-container-id-5 div.sk-parallel {display: flex;align-items: stretch;justify-content: center;background-color: white;position: relative;}#sk-container-id-5 div.sk-item::before, #sk-container-id-5 div.sk-parallel-item::before {content: \"\";position: absolute;border-left: 1px solid gray;box-sizing: border-box;top: 0;bottom: 0;left: 50%;z-index: -1;}#sk-container-id-5 div.sk-parallel-item {display: flex;flex-direction: column;z-index: 1;position: relative;background-color: white;}#sk-container-id-5 div.sk-parallel-item:first-child::after {align-self: flex-end;width: 50%;}#sk-container-id-5 div.sk-parallel-item:last-child::after {align-self: flex-start;width: 50%;}#sk-container-id-5 div.sk-parallel-item:only-child::after {width: 0;}#sk-container-id-5 div.sk-dashed-wrapped {border: 1px dashed gray;margin: 0 0.4em 0.5em 0.4em;box-sizing: border-box;padding-bottom: 0.4em;background-color: white;}#sk-container-id-5 div.sk-label label {font-family: monospace;font-weight: bold;display: inline-block;line-height: 1.2em;}#sk-container-id-5 div.sk-label-container {text-align: center;}#sk-container-id-5 div.sk-container {/* jupyter's `normalize.less` sets `[hidden] { display: none; }` but bootstrap.min.css set `[hidden] { display: none !important; }` so we also need the `!important` here to be able to override the default hidden behavior on the sphinx rendered scikit-learn.org. See: https://github.com/scikit-learn/scikit-learn/issues/21755 */display: inline-block !important;position: relative;}#sk-container-id-5 div.sk-text-repr-fallback {display: none;}</style><div id=\"sk-container-id-5\" class=\"sk-top-container\"><div class=\"sk-text-repr-fallback\"><pre>SGDClassifier(loss=&#x27;log_loss&#x27;)</pre><b>In a Jupyter environment, please rerun this cell to show the HTML representation or trust the notebook. <br />On GitHub, the HTML representation is unable to render, please try loading this page with nbviewer.org.</b></div><div class=\"sk-container\" hidden><div class=\"sk-item\"><div class=\"sk-estimator sk-toggleable\"><input class=\"sk-toggleable__control sk-hidden--visually\" id=\"sk-estimator-id-5\" type=\"checkbox\" checked><label for=\"sk-estimator-id-5\" class=\"sk-toggleable__label sk-toggleable__label-arrow\">SGDClassifier</label><div class=\"sk-toggleable__content\"><pre>SGDClassifier(loss=&#x27;log_loss&#x27;)</pre></div></div></div></div></div>"
            ],
            "text/plain": [
              "SGDClassifier(loss='log_loss')"
            ]
          },
          "execution_count": 105,
          "metadata": {},
          "output_type": "execute_result"
        }
      ],
      "source": [
        "SGD = SGDClassifier(loss = 'log_loss')\n",
        "SGD.fit(train_x, train_y)"
      ]
    },
    {
      "cell_type": "code",
      "execution_count": null,
      "metadata": {
        "id": "mqKxtFQXf4a5"
      },
      "outputs": [],
      "source": [
        "XGB =xgb.XGBClassifier(n_estimators=50,\n",
        "                       learning_rate=0.1,\n",
        "                       max_depth=6)\n",
        "\n",
        "\n"
      ]
    },
    {
      "cell_type": "code",
      "execution_count": null,
      "metadata": {
        "colab": {
          "base_uri": "https://localhost:8080/",
          "height": 248
        },
        "id": "oc94pWpAvPOL",
        "outputId": "e444381f-9558-4df8-e2f3-1a1440c7f08a"
      },
      "outputs": [
        {
          "data": {
            "text/html": [
              "<style>#sk-container-id-6 {color: black;background-color: white;}#sk-container-id-6 pre{padding: 0;}#sk-container-id-6 div.sk-toggleable {background-color: white;}#sk-container-id-6 label.sk-toggleable__label {cursor: pointer;display: block;width: 100%;margin-bottom: 0;padding: 0.3em;box-sizing: border-box;text-align: center;}#sk-container-id-6 label.sk-toggleable__label-arrow:before {content: \"▸\";float: left;margin-right: 0.25em;color: #696969;}#sk-container-id-6 label.sk-toggleable__label-arrow:hover:before {color: black;}#sk-container-id-6 div.sk-estimator:hover label.sk-toggleable__label-arrow:before {color: black;}#sk-container-id-6 div.sk-toggleable__content {max-height: 0;max-width: 0;overflow: hidden;text-align: left;background-color: #f0f8ff;}#sk-container-id-6 div.sk-toggleable__content pre {margin: 0.2em;color: black;border-radius: 0.25em;background-color: #f0f8ff;}#sk-container-id-6 input.sk-toggleable__control:checked~div.sk-toggleable__content {max-height: 200px;max-width: 100%;overflow: auto;}#sk-container-id-6 input.sk-toggleable__control:checked~label.sk-toggleable__label-arrow:before {content: \"▾\";}#sk-container-id-6 div.sk-estimator input.sk-toggleable__control:checked~label.sk-toggleable__label {background-color: #d4ebff;}#sk-container-id-6 div.sk-label input.sk-toggleable__control:checked~label.sk-toggleable__label {background-color: #d4ebff;}#sk-container-id-6 input.sk-hidden--visually {border: 0;clip: rect(1px 1px 1px 1px);clip: rect(1px, 1px, 1px, 1px);height: 1px;margin: -1px;overflow: hidden;padding: 0;position: absolute;width: 1px;}#sk-container-id-6 div.sk-estimator {font-family: monospace;background-color: #f0f8ff;border: 1px dotted black;border-radius: 0.25em;box-sizing: border-box;margin-bottom: 0.5em;}#sk-container-id-6 div.sk-estimator:hover {background-color: #d4ebff;}#sk-container-id-6 div.sk-parallel-item::after {content: \"\";width: 100%;border-bottom: 1px solid gray;flex-grow: 1;}#sk-container-id-6 div.sk-label:hover label.sk-toggleable__label {background-color: #d4ebff;}#sk-container-id-6 div.sk-serial::before {content: \"\";position: absolute;border-left: 1px solid gray;box-sizing: border-box;top: 0;bottom: 0;left: 50%;z-index: 0;}#sk-container-id-6 div.sk-serial {display: flex;flex-direction: column;align-items: center;background-color: white;padding-right: 0.2em;padding-left: 0.2em;position: relative;}#sk-container-id-6 div.sk-item {position: relative;z-index: 1;}#sk-container-id-6 div.sk-parallel {display: flex;align-items: stretch;justify-content: center;background-color: white;position: relative;}#sk-container-id-6 div.sk-item::before, #sk-container-id-6 div.sk-parallel-item::before {content: \"\";position: absolute;border-left: 1px solid gray;box-sizing: border-box;top: 0;bottom: 0;left: 50%;z-index: -1;}#sk-container-id-6 div.sk-parallel-item {display: flex;flex-direction: column;z-index: 1;position: relative;background-color: white;}#sk-container-id-6 div.sk-parallel-item:first-child::after {align-self: flex-end;width: 50%;}#sk-container-id-6 div.sk-parallel-item:last-child::after {align-self: flex-start;width: 50%;}#sk-container-id-6 div.sk-parallel-item:only-child::after {width: 0;}#sk-container-id-6 div.sk-dashed-wrapped {border: 1px dashed gray;margin: 0 0.4em 0.5em 0.4em;box-sizing: border-box;padding-bottom: 0.4em;background-color: white;}#sk-container-id-6 div.sk-label label {font-family: monospace;font-weight: bold;display: inline-block;line-height: 1.2em;}#sk-container-id-6 div.sk-label-container {text-align: center;}#sk-container-id-6 div.sk-container {/* jupyter's `normalize.less` sets `[hidden] { display: none; }` but bootstrap.min.css set `[hidden] { display: none !important; }` so we also need the `!important` here to be able to override the default hidden behavior on the sphinx rendered scikit-learn.org. See: https://github.com/scikit-learn/scikit-learn/issues/21755 */display: inline-block !important;position: relative;}#sk-container-id-6 div.sk-text-repr-fallback {display: none;}</style><div id=\"sk-container-id-6\" class=\"sk-top-container\"><div class=\"sk-text-repr-fallback\"><pre>XGBClassifier(base_score=None, booster=None, callbacks=None,\n",
              "              colsample_bylevel=None, colsample_bynode=None,\n",
              "              colsample_bytree=None, early_stopping_rounds=None,\n",
              "              enable_categorical=False, eval_metric=None, feature_types=None,\n",
              "              gamma=None, gpu_id=None, grow_policy=None, importance_type=None,\n",
              "              interaction_constraints=None, learning_rate=0.1, max_bin=None,\n",
              "              max_cat_threshold=None, max_cat_to_onehot=None,\n",
              "              max_delta_step=None, max_depth=6, max_leaves=None,\n",
              "              min_child_weight=None, missing=nan, monotone_constraints=None,\n",
              "              n_estimators=50, n_jobs=None, num_parallel_tree=None,\n",
              "              predictor=None, random_state=None, ...)</pre><b>In a Jupyter environment, please rerun this cell to show the HTML representation or trust the notebook. <br />On GitHub, the HTML representation is unable to render, please try loading this page with nbviewer.org.</b></div><div class=\"sk-container\" hidden><div class=\"sk-item\"><div class=\"sk-estimator sk-toggleable\"><input class=\"sk-toggleable__control sk-hidden--visually\" id=\"sk-estimator-id-6\" type=\"checkbox\" checked><label for=\"sk-estimator-id-6\" class=\"sk-toggleable__label sk-toggleable__label-arrow\">XGBClassifier</label><div class=\"sk-toggleable__content\"><pre>XGBClassifier(base_score=None, booster=None, callbacks=None,\n",
              "              colsample_bylevel=None, colsample_bynode=None,\n",
              "              colsample_bytree=None, early_stopping_rounds=None,\n",
              "              enable_categorical=False, eval_metric=None, feature_types=None,\n",
              "              gamma=None, gpu_id=None, grow_policy=None, importance_type=None,\n",
              "              interaction_constraints=None, learning_rate=0.1, max_bin=None,\n",
              "              max_cat_threshold=None, max_cat_to_onehot=None,\n",
              "              max_delta_step=None, max_depth=6, max_leaves=None,\n",
              "              min_child_weight=None, missing=nan, monotone_constraints=None,\n",
              "              n_estimators=50, n_jobs=None, num_parallel_tree=None,\n",
              "              predictor=None, random_state=None, ...)</pre></div></div></div></div></div>"
            ],
            "text/plain": [
              "XGBClassifier(base_score=None, booster=None, callbacks=None,\n",
              "              colsample_bylevel=None, colsample_bynode=None,\n",
              "              colsample_bytree=None, early_stopping_rounds=None,\n",
              "              enable_categorical=False, eval_metric=None, feature_types=None,\n",
              "              gamma=None, gpu_id=None, grow_policy=None, importance_type=None,\n",
              "              interaction_constraints=None, learning_rate=0.1, max_bin=None,\n",
              "              max_cat_threshold=None, max_cat_to_onehot=None,\n",
              "              max_delta_step=None, max_depth=6, max_leaves=None,\n",
              "              min_child_weight=None, missing=nan, monotone_constraints=None,\n",
              "              n_estimators=50, n_jobs=None, num_parallel_tree=None,\n",
              "              predictor=None, random_state=None, ...)"
            ]
          },
          "execution_count": 122,
          "metadata": {},
          "output_type": "execute_result"
        }
      ],
      "source": [
        "XGB.fit(train_x, train_y)"
      ]
    },
    {
      "cell_type": "code",
      "execution_count": null,
      "metadata": {
        "colab": {
          "base_uri": "https://localhost:8080/",
          "height": 92
        },
        "id": "rAbl9BbRhFPK",
        "outputId": "753ee1d5-f121-48c1-b314-630d764cd542"
      },
      "outputs": [
        {
          "data": {
            "text/html": [
              "<style>#sk-container-id-7 {color: black;background-color: white;}#sk-container-id-7 pre{padding: 0;}#sk-container-id-7 div.sk-toggleable {background-color: white;}#sk-container-id-7 label.sk-toggleable__label {cursor: pointer;display: block;width: 100%;margin-bottom: 0;padding: 0.3em;box-sizing: border-box;text-align: center;}#sk-container-id-7 label.sk-toggleable__label-arrow:before {content: \"▸\";float: left;margin-right: 0.25em;color: #696969;}#sk-container-id-7 label.sk-toggleable__label-arrow:hover:before {color: black;}#sk-container-id-7 div.sk-estimator:hover label.sk-toggleable__label-arrow:before {color: black;}#sk-container-id-7 div.sk-toggleable__content {max-height: 0;max-width: 0;overflow: hidden;text-align: left;background-color: #f0f8ff;}#sk-container-id-7 div.sk-toggleable__content pre {margin: 0.2em;color: black;border-radius: 0.25em;background-color: #f0f8ff;}#sk-container-id-7 input.sk-toggleable__control:checked~div.sk-toggleable__content {max-height: 200px;max-width: 100%;overflow: auto;}#sk-container-id-7 input.sk-toggleable__control:checked~label.sk-toggleable__label-arrow:before {content: \"▾\";}#sk-container-id-7 div.sk-estimator input.sk-toggleable__control:checked~label.sk-toggleable__label {background-color: #d4ebff;}#sk-container-id-7 div.sk-label input.sk-toggleable__control:checked~label.sk-toggleable__label {background-color: #d4ebff;}#sk-container-id-7 input.sk-hidden--visually {border: 0;clip: rect(1px 1px 1px 1px);clip: rect(1px, 1px, 1px, 1px);height: 1px;margin: -1px;overflow: hidden;padding: 0;position: absolute;width: 1px;}#sk-container-id-7 div.sk-estimator {font-family: monospace;background-color: #f0f8ff;border: 1px dotted black;border-radius: 0.25em;box-sizing: border-box;margin-bottom: 0.5em;}#sk-container-id-7 div.sk-estimator:hover {background-color: #d4ebff;}#sk-container-id-7 div.sk-parallel-item::after {content: \"\";width: 100%;border-bottom: 1px solid gray;flex-grow: 1;}#sk-container-id-7 div.sk-label:hover label.sk-toggleable__label {background-color: #d4ebff;}#sk-container-id-7 div.sk-serial::before {content: \"\";position: absolute;border-left: 1px solid gray;box-sizing: border-box;top: 0;bottom: 0;left: 50%;z-index: 0;}#sk-container-id-7 div.sk-serial {display: flex;flex-direction: column;align-items: center;background-color: white;padding-right: 0.2em;padding-left: 0.2em;position: relative;}#sk-container-id-7 div.sk-item {position: relative;z-index: 1;}#sk-container-id-7 div.sk-parallel {display: flex;align-items: stretch;justify-content: center;background-color: white;position: relative;}#sk-container-id-7 div.sk-item::before, #sk-container-id-7 div.sk-parallel-item::before {content: \"\";position: absolute;border-left: 1px solid gray;box-sizing: border-box;top: 0;bottom: 0;left: 50%;z-index: -1;}#sk-container-id-7 div.sk-parallel-item {display: flex;flex-direction: column;z-index: 1;position: relative;background-color: white;}#sk-container-id-7 div.sk-parallel-item:first-child::after {align-self: flex-end;width: 50%;}#sk-container-id-7 div.sk-parallel-item:last-child::after {align-self: flex-start;width: 50%;}#sk-container-id-7 div.sk-parallel-item:only-child::after {width: 0;}#sk-container-id-7 div.sk-dashed-wrapped {border: 1px dashed gray;margin: 0 0.4em 0.5em 0.4em;box-sizing: border-box;padding-bottom: 0.4em;background-color: white;}#sk-container-id-7 div.sk-label label {font-family: monospace;font-weight: bold;display: inline-block;line-height: 1.2em;}#sk-container-id-7 div.sk-label-container {text-align: center;}#sk-container-id-7 div.sk-container {/* jupyter's `normalize.less` sets `[hidden] { display: none; }` but bootstrap.min.css set `[hidden] { display: none !important; }` so we also need the `!important` here to be able to override the default hidden behavior on the sphinx rendered scikit-learn.org. See: https://github.com/scikit-learn/scikit-learn/issues/21755 */display: inline-block !important;position: relative;}#sk-container-id-7 div.sk-text-repr-fallback {display: none;}</style><div id=\"sk-container-id-7\" class=\"sk-top-container\"><div class=\"sk-text-repr-fallback\"><pre>LGBMClassifier(learning_rate=0.01, max_depth=15, min_child_samples=40,\n",
              "               n_estimators=200)</pre><b>In a Jupyter environment, please rerun this cell to show the HTML representation or trust the notebook. <br />On GitHub, the HTML representation is unable to render, please try loading this page with nbviewer.org.</b></div><div class=\"sk-container\" hidden><div class=\"sk-item\"><div class=\"sk-estimator sk-toggleable\"><input class=\"sk-toggleable__control sk-hidden--visually\" id=\"sk-estimator-id-7\" type=\"checkbox\" checked><label for=\"sk-estimator-id-7\" class=\"sk-toggleable__label sk-toggleable__label-arrow\">LGBMClassifier</label><div class=\"sk-toggleable__content\"><pre>LGBMClassifier(learning_rate=0.01, max_depth=15, min_child_samples=40,\n",
              "               n_estimators=200)</pre></div></div></div></div></div>"
            ],
            "text/plain": [
              "LGBMClassifier(learning_rate=0.01, max_depth=15, min_child_samples=40,\n",
              "               n_estimators=200)"
            ]
          },
          "execution_count": 128,
          "metadata": {},
          "output_type": "execute_result"
        }
      ],
      "source": [
        "LGBM = LGBMClassifier(n_estimators=200,\n",
        "                      max_depth = 15,\n",
        "                      min_child_samples = 40,\n",
        "                      learning_rate = 0.01)\n",
        "\n",
        "LGBM.fit(train_x, train_y)"
      ]
    },
    {
      "cell_type": "code",
      "execution_count": null,
      "metadata": {
        "colab": {
          "base_uri": "https://localhost:8080/",
          "height": 75
        },
        "id": "gUxJZd50x1Za",
        "outputId": "f98577ba-dc00-47ec-eb18-94dab2eb82cc"
      },
      "outputs": [
        {
          "data": {
            "text/html": [
              "<style>#sk-container-id-8 {color: black;background-color: white;}#sk-container-id-8 pre{padding: 0;}#sk-container-id-8 div.sk-toggleable {background-color: white;}#sk-container-id-8 label.sk-toggleable__label {cursor: pointer;display: block;width: 100%;margin-bottom: 0;padding: 0.3em;box-sizing: border-box;text-align: center;}#sk-container-id-8 label.sk-toggleable__label-arrow:before {content: \"▸\";float: left;margin-right: 0.25em;color: #696969;}#sk-container-id-8 label.sk-toggleable__label-arrow:hover:before {color: black;}#sk-container-id-8 div.sk-estimator:hover label.sk-toggleable__label-arrow:before {color: black;}#sk-container-id-8 div.sk-toggleable__content {max-height: 0;max-width: 0;overflow: hidden;text-align: left;background-color: #f0f8ff;}#sk-container-id-8 div.sk-toggleable__content pre {margin: 0.2em;color: black;border-radius: 0.25em;background-color: #f0f8ff;}#sk-container-id-8 input.sk-toggleable__control:checked~div.sk-toggleable__content {max-height: 200px;max-width: 100%;overflow: auto;}#sk-container-id-8 input.sk-toggleable__control:checked~label.sk-toggleable__label-arrow:before {content: \"▾\";}#sk-container-id-8 div.sk-estimator input.sk-toggleable__control:checked~label.sk-toggleable__label {background-color: #d4ebff;}#sk-container-id-8 div.sk-label input.sk-toggleable__control:checked~label.sk-toggleable__label {background-color: #d4ebff;}#sk-container-id-8 input.sk-hidden--visually {border: 0;clip: rect(1px 1px 1px 1px);clip: rect(1px, 1px, 1px, 1px);height: 1px;margin: -1px;overflow: hidden;padding: 0;position: absolute;width: 1px;}#sk-container-id-8 div.sk-estimator {font-family: monospace;background-color: #f0f8ff;border: 1px dotted black;border-radius: 0.25em;box-sizing: border-box;margin-bottom: 0.5em;}#sk-container-id-8 div.sk-estimator:hover {background-color: #d4ebff;}#sk-container-id-8 div.sk-parallel-item::after {content: \"\";width: 100%;border-bottom: 1px solid gray;flex-grow: 1;}#sk-container-id-8 div.sk-label:hover label.sk-toggleable__label {background-color: #d4ebff;}#sk-container-id-8 div.sk-serial::before {content: \"\";position: absolute;border-left: 1px solid gray;box-sizing: border-box;top: 0;bottom: 0;left: 50%;z-index: 0;}#sk-container-id-8 div.sk-serial {display: flex;flex-direction: column;align-items: center;background-color: white;padding-right: 0.2em;padding-left: 0.2em;position: relative;}#sk-container-id-8 div.sk-item {position: relative;z-index: 1;}#sk-container-id-8 div.sk-parallel {display: flex;align-items: stretch;justify-content: center;background-color: white;position: relative;}#sk-container-id-8 div.sk-item::before, #sk-container-id-8 div.sk-parallel-item::before {content: \"\";position: absolute;border-left: 1px solid gray;box-sizing: border-box;top: 0;bottom: 0;left: 50%;z-index: -1;}#sk-container-id-8 div.sk-parallel-item {display: flex;flex-direction: column;z-index: 1;position: relative;background-color: white;}#sk-container-id-8 div.sk-parallel-item:first-child::after {align-self: flex-end;width: 50%;}#sk-container-id-8 div.sk-parallel-item:last-child::after {align-self: flex-start;width: 50%;}#sk-container-id-8 div.sk-parallel-item:only-child::after {width: 0;}#sk-container-id-8 div.sk-dashed-wrapped {border: 1px dashed gray;margin: 0 0.4em 0.5em 0.4em;box-sizing: border-box;padding-bottom: 0.4em;background-color: white;}#sk-container-id-8 div.sk-label label {font-family: monospace;font-weight: bold;display: inline-block;line-height: 1.2em;}#sk-container-id-8 div.sk-label-container {text-align: center;}#sk-container-id-8 div.sk-container {/* jupyter's `normalize.less` sets `[hidden] { display: none; }` but bootstrap.min.css set `[hidden] { display: none !important; }` so we also need the `!important` here to be able to override the default hidden behavior on the sphinx rendered scikit-learn.org. See: https://github.com/scikit-learn/scikit-learn/issues/21755 */display: inline-block !important;position: relative;}#sk-container-id-8 div.sk-text-repr-fallback {display: none;}</style><div id=\"sk-container-id-8\" class=\"sk-top-container\"><div class=\"sk-text-repr-fallback\"><pre>GaussianNB()</pre><b>In a Jupyter environment, please rerun this cell to show the HTML representation or trust the notebook. <br />On GitHub, the HTML representation is unable to render, please try loading this page with nbviewer.org.</b></div><div class=\"sk-container\" hidden><div class=\"sk-item\"><div class=\"sk-estimator sk-toggleable\"><input class=\"sk-toggleable__control sk-hidden--visually\" id=\"sk-estimator-id-8\" type=\"checkbox\" checked><label for=\"sk-estimator-id-8\" class=\"sk-toggleable__label sk-toggleable__label-arrow\">GaussianNB</label><div class=\"sk-toggleable__content\"><pre>GaussianNB()</pre></div></div></div></div></div>"
            ],
            "text/plain": [
              "GaussianNB()"
            ]
          },
          "execution_count": 133,
          "metadata": {},
          "output_type": "execute_result"
        }
      ],
      "source": [
        "NB = GaussianNB()\n",
        "NB.fit(train_x, train_y)"
      ]
    },
    {
      "cell_type": "markdown",
      "metadata": {
        "id": "3c3bosG46HnG"
      },
      "source": [
        "## inference"
      ]
    },
    {
      "cell_type": "code",
      "execution_count": null,
      "metadata": {
        "id": "Zc3H6tFI542R"
      },
      "outputs": [],
      "source": [
        "y_pred = clf.predict_proba(test_x)"
      ]
    },
    {
      "cell_type": "code",
      "execution_count": null,
      "metadata": {
        "id": "hzKG3Bi2yDFE"
      },
      "outputs": [],
      "source": [
        "y_prd = clf.predict(train_x)"
      ]
    },
    {
      "cell_type": "code",
      "execution_count": null,
      "metadata": {
        "colab": {
          "base_uri": "https://localhost:8080/"
        },
        "id": "x6pcDY8Exn4W",
        "outputId": "c8c13419-7601-43cd-e40a-f142247954fb"
      },
      "outputs": [
        {
          "name": "stdout",
          "output_type": "stream",
          "text": [
            "Accuracy: 0.9985739971479943\n",
            "F1 Score: 0.9985739097350419\n",
            "Precision: 0.9985739173421143\n",
            "Recall: 0.9985739971479943\n"
          ]
        }
      ],
      "source": [
        "accuracy = accuracy_score(train_y, y_prd)\n",
        "f1 = f1_score(train_y, y_prd, average='weighted')\n",
        "precision = precision_score(train_y, y_prd, average='weighted')\n",
        "recall = recall_score(train_y, y_prd, average='weighted')\n",
        "\n",
        "print(f'Accuracy: {accuracy}')\n",
        "print(f'F1 Score: {f1}')\n",
        "print(f'Precision: {precision}')\n",
        "print(f'Recall: {recall}')\n"
      ]
    },
    {
      "cell_type": "code",
      "execution_count": null,
      "metadata": {
        "id": "4tsnY34Gxn-A"
      },
      "outputs": [],
      "source": [
        "y_pred_ada = clf.predict_proba(test_x)"
      ]
    },
    {
      "cell_type": "code",
      "execution_count": null,
      "metadata": {
        "id": "eeBRgh1D4RQ0"
      },
      "outputs": [],
      "source": [
        "y_pred_LR = LR.predict_proba(test_x)"
      ]
    },
    {
      "cell_type": "code",
      "execution_count": null,
      "metadata": {
        "id": "fald1BOKcfNK"
      },
      "outputs": [],
      "source": [
        "y_pred_SGD = SGD.predict_proba(test_x)"
      ]
    },
    {
      "cell_type": "code",
      "execution_count": null,
      "metadata": {
        "id": "S5FIGFP5hu4D"
      },
      "outputs": [],
      "source": [
        "y_pred_XGB = XGB.predict_proba(test_x)"
      ]
    },
    {
      "cell_type": "code",
      "execution_count": null,
      "metadata": {
        "id": "ZI4NgF6DhwX8"
      },
      "outputs": [],
      "source": [
        "y_pred_LightGBM =LGBM.predict_proba(test_x)"
      ]
    },
    {
      "cell_type": "code",
      "execution_count": null,
      "metadata": {
        "id": "abr00XIzyH_S"
      },
      "outputs": [],
      "source": [
        "y_pred_NB =NB.predict_proba(test_x)"
      ]
    },
    {
      "cell_type": "code",
      "execution_count": null,
      "metadata": {
        "id": "ILR4h0EwwbvH"
      },
      "outputs": [],
      "source": [
        "RF = RandomForestClassifier(criterion = 'log_loss', n_estimators = 200, max_depth = 20)\n",
        "ada = AdaBoostClassifier(n_estimators = 200)\n",
        "LR = LogisticRegression()\n",
        "SGD = SGDClassifier(loss = 'log_loss')\n",
        "XGB =xgb.XGBClassifier(n_estimators=200, max_depth=6)\n",
        "LGBM = LGBMClassifier(n_estimators=200, max_depth = 15, min_child_samples = 40)\n",
        "NB = GaussianNB()\n",
        "\n",
        "\n",
        "ensemble_model = VotingClassifier(estimators=[\n",
        "            ('rf', RF), ('ada', ada), ('lr', LR), ('SGD', SGD), ('XGB', XGB), ('LGBM', LGBM), ('NB', NB)], voting='soft')\n"
      ]
    },
    {
      "cell_type": "code",
      "execution_count": null,
      "metadata": {
        "colab": {
          "base_uri": "https://localhost:8080/"
        },
        "id": "AUR3wqNvzD3L",
        "outputId": "cb4386f1-eec0-4e83-9f79-8659d3c207f5"
      },
      "outputs": [
        {
          "name": "stderr",
          "output_type": "stream",
          "text": [
            "/usr/local/lib/python3.9/dist-packages/sklearn/linear_model/_logistic.py:458: ConvergenceWarning: lbfgs failed to converge (status=1):\n",
            "STOP: TOTAL NO. of ITERATIONS REACHED LIMIT.\n",
            "\n",
            "Increase the number of iterations (max_iter) or scale the data as shown in:\n",
            "    https://scikit-learn.org/stable/modules/preprocessing.html\n",
            "Please also refer to the documentation for alternative solver options:\n",
            "    https://scikit-learn.org/stable/modules/linear_model.html#logistic-regression\n",
            "  n_iter_i = _check_optimize_result(\n",
            "/usr/local/lib/python3.9/dist-packages/sklearn/linear_model/_stochastic_gradient.py:702: ConvergenceWarning: Maximum number of iteration reached before convergence. Consider increasing max_iter to improve the fit.\n",
            "  warnings.warn(\n"
          ]
        }
      ],
      "source": [
        "ensemble_model = ensemble_model.fit(train_x, train_y)"
      ]
    },
    {
      "cell_type": "code",
      "execution_count": null,
      "metadata": {
        "id": "MQ89kBK7zNHk"
      },
      "outputs": [],
      "source": [
        "y_pred_ensembel = ensemble_model.predict_proba(test_x)"
      ]
    },
    {
      "cell_type": "code",
      "execution_count": null,
      "metadata": {
        "id": "MhWv8AJZ3Lr6"
      },
      "outputs": [],
      "source": [
        "RF = RandomForestClassifier(criterion = 'log_loss', n_estimators = 200, max_depth = 20)\n",
        "ada = AdaBoostClassifier(n_estimators = 200)\n",
        "LR = LogisticRegression()\n",
        "#SGD = SGDClassifier(loss = 'log_loss')\n",
        "XGB =xgb.XGBClassifier(n_estimators=200, max_depth=6)\n",
        "LGBM = LGBMClassifier(n_estimators=200, max_depth = 15, min_child_samples = 40)\n",
        "NB = GaussianNB()\n",
        "\n",
        "\n",
        "ensemble_model_2 = VotingClassifier(estimators=[\n",
        "            ('rf', RF), ('ada', ada), ('lr', LR),  ('XGB', XGB), ('LGBM', LGBM), ('NB', NB)], voting='soft')\n"
      ]
    },
    {
      "cell_type": "code",
      "execution_count": null,
      "metadata": {
        "colab": {
          "base_uri": "https://localhost:8080/"
        },
        "id": "-NPBYFNI3TXp",
        "outputId": "84ddb3af-b203-4b21-87e1-da1479264856"
      },
      "outputs": [
        {
          "name": "stderr",
          "output_type": "stream",
          "text": [
            "/usr/local/lib/python3.9/dist-packages/sklearn/linear_model/_logistic.py:458: ConvergenceWarning: lbfgs failed to converge (status=1):\n",
            "STOP: TOTAL NO. of ITERATIONS REACHED LIMIT.\n",
            "\n",
            "Increase the number of iterations (max_iter) or scale the data as shown in:\n",
            "    https://scikit-learn.org/stable/modules/preprocessing.html\n",
            "Please also refer to the documentation for alternative solver options:\n",
            "    https://scikit-learn.org/stable/modules/linear_model.html#logistic-regression\n",
            "  n_iter_i = _check_optimize_result(\n"
          ]
        }
      ],
      "source": [
        "ensemble_model_2 = ensemble_model_2.fit(train_x, train_y)"
      ]
    },
    {
      "cell_type": "code",
      "execution_count": null,
      "metadata": {
        "id": "uJ2kPVXy3dOD"
      },
      "outputs": [],
      "source": [
        "y_pred_ensembel_2 = ensemble_model_2.predict_proba(test_x)"
      ]
    },
    {
      "cell_type": "markdown",
      "metadata": {
        "id": "0R7FZr3n6J3p"
      },
      "source": [
        "## Submission"
      ]
    },
    {
      "cell_type": "code",
      "execution_count": null,
      "metadata": {
        "id": "V45EAJi_yoaN"
      },
      "outputs": [],
      "source": [
        "sample_submission = pd.read_csv('/content/sample_submission.csv', index_col = 0)"
      ]
    },
    {
      "cell_type": "code",
      "execution_count": null,
      "metadata": {
        "id": "c_yplpf256Lh"
      },
      "outputs": [],
      "source": [
        "submission = pd.DataFrame(data=y_pred, columns=sample_submission.columns, index=sample_submission.index)\n",
        "submission.to_csv('submission.csv', index=True)"
      ]
    },
    {
      "cell_type": "code",
      "execution_count": null,
      "metadata": {
        "id": "ZGmtrA5Hb3vM"
      },
      "outputs": [],
      "source": [
        "submission = pd.DataFrame(data=y_pred_ada, columns=sample_submission.columns, index=sample_submission.index)\n",
        "submission.to_csv('submission_ada.csv', index=True)"
      ]
    },
    {
      "cell_type": "code",
      "execution_count": null,
      "metadata": {
        "id": "YaEsU4JScpHo"
      },
      "outputs": [],
      "source": [
        "submission = pd.DataFrame(data=y_pred_LR, columns=sample_submission.columns, index=sample_submission.index)\n",
        "submission.to_csv('submission_LR.csv', index=True)"
      ]
    },
    {
      "cell_type": "code",
      "execution_count": null,
      "metadata": {
        "id": "cLG-SUhmcpKA"
      },
      "outputs": [],
      "source": [
        "submission = pd.DataFrame(data=y_pred_SGD, columns=sample_submission.columns, index=sample_submission.index)\n",
        "submission.to_csv('submission_SGD.csv', index=True)"
      ]
    },
    {
      "cell_type": "code",
      "execution_count": null,
      "metadata": {
        "id": "mabsXzogvlO5"
      },
      "outputs": [],
      "source": [
        "submission = pd.DataFrame(data=y_pred_XGB, columns=sample_submission.columns, index=sample_submission.index)\n",
        "submission.to_csv('submission_XGB.csv', index=True)"
      ]
    },
    {
      "cell_type": "code",
      "execution_count": null,
      "metadata": {
        "id": "MKnGW21Evo2_"
      },
      "outputs": [],
      "source": [
        "submission = pd.DataFrame(data=y_pred_LightGBM, columns=sample_submission.columns, index=sample_submission.index)\n",
        "submission.to_csv('submission_LightGBM.csv', index=True)"
      ]
    },
    {
      "cell_type": "code",
      "execution_count": null,
      "metadata": {
        "id": "Lx71a2XqyNZ_"
      },
      "outputs": [],
      "source": [
        "submission = pd.DataFrame(data=y_pred_NB, columns=sample_submission.columns, index=sample_submission.index)\n",
        "submission.to_csv('submission_NB.csv', index=True)"
      ]
    },
    {
      "cell_type": "code",
      "execution_count": null,
      "metadata": {
        "id": "Dq9tuc-szQ40"
      },
      "outputs": [],
      "source": [
        "submission = pd.DataFrame(data=y_pred_ensembel, columns=sample_submission.columns, index=sample_submission.index)\n",
        "submission.to_csv('submission_ensemble.csv', index=True)"
      ]
    },
    {
      "cell_type": "code",
      "execution_count": null,
      "metadata": {
        "id": "cjUn6SmP3gkH"
      },
      "outputs": [],
      "source": [
        "submission = pd.DataFrame(data=y_pred_ensembel_2, columns=sample_submission.columns, index=sample_submission.index)\n",
        "submission.to_csv('submission_ensemble_2.csv', index=True)"
      ]
    },
    {
      "cell_type": "code",
      "execution_count": null,
      "metadata": {
        "colab": {
          "base_uri": "https://localhost:8080/",
          "height": 455
        },
        "id": "DO1BTbzP2gph",
        "outputId": "12e27d1f-3296-4163-8344-2363f5b390f0"
      },
      "outputs": [
        {
          "data": {
            "text/html": [
              "\n",
              "  <div id=\"df-7faec044-4c8b-4ed3-ab53-009425760158\">\n",
              "    <div class=\"colab-df-container\">\n",
              "      <div>\n",
              "<style scoped>\n",
              "    .dataframe tbody tr th:only-of-type {\n",
              "        vertical-align: middle;\n",
              "    }\n",
              "\n",
              "    .dataframe tbody tr th {\n",
              "        vertical-align: top;\n",
              "    }\n",
              "\n",
              "    .dataframe thead th {\n",
              "        text-align: right;\n",
              "    }\n",
              "</style>\n",
              "<table border=\"1\" class=\"dataframe\">\n",
              "  <thead>\n",
              "    <tr style=\"text-align: right;\">\n",
              "      <th></th>\n",
              "      <th>Not_Delayed</th>\n",
              "      <th>Delayed</th>\n",
              "    </tr>\n",
              "    <tr>\n",
              "      <th>ID</th>\n",
              "      <th></th>\n",
              "      <th></th>\n",
              "    </tr>\n",
              "  </thead>\n",
              "  <tbody>\n",
              "    <tr>\n",
              "      <th>TEST_000000</th>\n",
              "      <td>0.91</td>\n",
              "      <td>0.09</td>\n",
              "    </tr>\n",
              "    <tr>\n",
              "      <th>TEST_000001</th>\n",
              "      <td>0.78</td>\n",
              "      <td>0.22</td>\n",
              "    </tr>\n",
              "    <tr>\n",
              "      <th>TEST_000002</th>\n",
              "      <td>0.70</td>\n",
              "      <td>0.30</td>\n",
              "    </tr>\n",
              "    <tr>\n",
              "      <th>TEST_000003</th>\n",
              "      <td>0.53</td>\n",
              "      <td>0.47</td>\n",
              "    </tr>\n",
              "    <tr>\n",
              "      <th>TEST_000004</th>\n",
              "      <td>0.97</td>\n",
              "      <td>0.03</td>\n",
              "    </tr>\n",
              "    <tr>\n",
              "      <th>...</th>\n",
              "      <td>...</td>\n",
              "      <td>...</td>\n",
              "    </tr>\n",
              "    <tr>\n",
              "      <th>TEST_999995</th>\n",
              "      <td>0.42</td>\n",
              "      <td>0.58</td>\n",
              "    </tr>\n",
              "    <tr>\n",
              "      <th>TEST_999996</th>\n",
              "      <td>0.96</td>\n",
              "      <td>0.04</td>\n",
              "    </tr>\n",
              "    <tr>\n",
              "      <th>TEST_999997</th>\n",
              "      <td>0.69</td>\n",
              "      <td>0.31</td>\n",
              "    </tr>\n",
              "    <tr>\n",
              "      <th>TEST_999998</th>\n",
              "      <td>0.66</td>\n",
              "      <td>0.34</td>\n",
              "    </tr>\n",
              "    <tr>\n",
              "      <th>TEST_999999</th>\n",
              "      <td>0.32</td>\n",
              "      <td>0.68</td>\n",
              "    </tr>\n",
              "  </tbody>\n",
              "</table>\n",
              "<p>1000000 rows × 2 columns</p>\n",
              "</div>\n",
              "      <button class=\"colab-df-convert\" onclick=\"convertToInteractive('df-7faec044-4c8b-4ed3-ab53-009425760158')\"\n",
              "              title=\"Convert this dataframe to an interactive table.\"\n",
              "              style=\"display:none;\">\n",
              "        \n",
              "  <svg xmlns=\"http://www.w3.org/2000/svg\" height=\"24px\"viewBox=\"0 0 24 24\"\n",
              "       width=\"24px\">\n",
              "    <path d=\"M0 0h24v24H0V0z\" fill=\"none\"/>\n",
              "    <path d=\"M18.56 5.44l.94 2.06.94-2.06 2.06-.94-2.06-.94-.94-2.06-.94 2.06-2.06.94zm-11 1L8.5 8.5l.94-2.06 2.06-.94-2.06-.94L8.5 2.5l-.94 2.06-2.06.94zm10 10l.94 2.06.94-2.06 2.06-.94-2.06-.94-.94-2.06-.94 2.06-2.06.94z\"/><path d=\"M17.41 7.96l-1.37-1.37c-.4-.4-.92-.59-1.43-.59-.52 0-1.04.2-1.43.59L10.3 9.45l-7.72 7.72c-.78.78-.78 2.05 0 2.83L4 21.41c.39.39.9.59 1.41.59.51 0 1.02-.2 1.41-.59l7.78-7.78 2.81-2.81c.8-.78.8-2.07 0-2.86zM5.41 20L4 18.59l7.72-7.72 1.47 1.35L5.41 20z\"/>\n",
              "  </svg>\n",
              "      </button>\n",
              "      \n",
              "  <style>\n",
              "    .colab-df-container {\n",
              "      display:flex;\n",
              "      flex-wrap:wrap;\n",
              "      gap: 12px;\n",
              "    }\n",
              "\n",
              "    .colab-df-convert {\n",
              "      background-color: #E8F0FE;\n",
              "      border: none;\n",
              "      border-radius: 50%;\n",
              "      cursor: pointer;\n",
              "      display: none;\n",
              "      fill: #1967D2;\n",
              "      height: 32px;\n",
              "      padding: 0 0 0 0;\n",
              "      width: 32px;\n",
              "    }\n",
              "\n",
              "    .colab-df-convert:hover {\n",
              "      background-color: #E2EBFA;\n",
              "      box-shadow: 0px 1px 2px rgba(60, 64, 67, 0.3), 0px 1px 3px 1px rgba(60, 64, 67, 0.15);\n",
              "      fill: #174EA6;\n",
              "    }\n",
              "\n",
              "    [theme=dark] .colab-df-convert {\n",
              "      background-color: #3B4455;\n",
              "      fill: #D2E3FC;\n",
              "    }\n",
              "\n",
              "    [theme=dark] .colab-df-convert:hover {\n",
              "      background-color: #434B5C;\n",
              "      box-shadow: 0px 1px 3px 1px rgba(0, 0, 0, 0.15);\n",
              "      filter: drop-shadow(0px 1px 2px rgba(0, 0, 0, 0.3));\n",
              "      fill: #FFFFFF;\n",
              "    }\n",
              "  </style>\n",
              "\n",
              "      <script>\n",
              "        const buttonEl =\n",
              "          document.querySelector('#df-7faec044-4c8b-4ed3-ab53-009425760158 button.colab-df-convert');\n",
              "        buttonEl.style.display =\n",
              "          google.colab.kernel.accessAllowed ? 'block' : 'none';\n",
              "\n",
              "        async function convertToInteractive(key) {\n",
              "          const element = document.querySelector('#df-7faec044-4c8b-4ed3-ab53-009425760158');\n",
              "          const dataTable =\n",
              "            await google.colab.kernel.invokeFunction('convertToInteractive',\n",
              "                                                     [key], {});\n",
              "          if (!dataTable) return;\n",
              "\n",
              "          const docLinkHtml = 'Like what you see? Visit the ' +\n",
              "            '<a target=\"_blank\" href=https://colab.research.google.com/notebooks/data_table.ipynb>data table notebook</a>'\n",
              "            + ' to learn more about interactive tables.';\n",
              "          element.innerHTML = '';\n",
              "          dataTable['output_type'] = 'display_data';\n",
              "          await google.colab.output.renderOutput(dataTable, element);\n",
              "          const docLink = document.createElement('div');\n",
              "          docLink.innerHTML = docLinkHtml;\n",
              "          element.appendChild(docLink);\n",
              "        }\n",
              "      </script>\n",
              "    </div>\n",
              "  </div>\n",
              "  "
            ],
            "text/plain": [
              "             Not_Delayed  Delayed\n",
              "ID                               \n",
              "TEST_000000         0.91     0.09\n",
              "TEST_000001         0.78     0.22\n",
              "TEST_000002         0.70     0.30\n",
              "TEST_000003         0.53     0.47\n",
              "TEST_000004         0.97     0.03\n",
              "...                  ...      ...\n",
              "TEST_999995         0.42     0.58\n",
              "TEST_999996         0.96     0.04\n",
              "TEST_999997         0.69     0.31\n",
              "TEST_999998         0.66     0.34\n",
              "TEST_999999         0.32     0.68\n",
              "\n",
              "[1000000 rows x 2 columns]"
            ]
          },
          "execution_count": 92,
          "metadata": {},
          "output_type": "execute_result"
        }
      ],
      "source": [
        "submission"
      ]
    },
    {
      "cell_type": "code",
      "execution_count": null,
      "metadata": {
        "id": "yRbnpGj-52Kl"
      },
      "outputs": [],
      "source": []
    },
    {
      "cell_type": "code",
      "execution_count": null,
      "metadata": {
        "id": "76c8v5-lUxJ-"
      },
      "outputs": [],
      "source": []
    },
    {
      "cell_type": "code",
      "execution_count": null,
      "metadata": {
        "id": "HWPx_EktUxMB"
      },
      "outputs": [],
      "source": []
    },
    {
      "cell_type": "markdown",
      "metadata": {
        "id": "zUhCLo97UxYi"
      },
      "source": [
        "## 준지도 학습을 통한 구현하기 "
      ]
    },
    {
      "cell_type": "code",
      "execution_count": null,
      "metadata": {
        "id": "HVZYkfXiU4to"
      },
      "outputs": [],
      "source": [
        "# 시간 처리 이전에 멈춰있는 부분부터 시작  ~\n",
        "\n",
        "\n",
        "from keras.layers import Input, Dense\n",
        "from keras.models import Model, Sequential\n",
        "from keras import regularizers\n",
        "from sklearn.model_selection import train_test_split \n",
        "from sklearn.linear_model import LogisticRegression\n",
        "from sklearn.metrics import classification_report, accuracy_score\n",
        "from sklearn.manifold import TSNE\n",
        "from sklearn import preprocessing \n",
        "import matplotlib.pyplot as plt\n",
        "import pandas as pd \n",
        "import numpy as np\n",
        "import seaborn as sns"
      ]
    },
    {
      "cell_type": "code",
      "execution_count": null,
      "metadata": {
        "id": "73YNpE1KxasZ"
      },
      "outputs": [],
      "source": [
        "# train_x, train_y\n",
        "# test\n",
        "#까지 구해져 있는 상황 "
      ]
    },
    {
      "cell_type": "code",
      "source": [
        "train_y.index"
      ],
      "metadata": {
        "colab": {
          "base_uri": "https://localhost:8080/"
        },
        "id": "z2UjkgrQIGUX",
        "outputId": "9ff280a4-f993-4de2-83e0-6086931bb446"
      },
      "execution_count": null,
      "outputs": [
        {
          "output_type": "execute_result",
          "data": {
            "text/plain": [
              "Int64Index([     6,      8,     10,     12,     13,     19,     32,     34,\n",
              "                36,     42,\n",
              "            ...\n",
              "            999940, 999941, 999943, 999950, 999952, 999955, 999963, 999969,\n",
              "            999985, 999992],\n",
              "           dtype='int64', length=202507)"
            ]
          },
          "metadata": {},
          "execution_count": 84
        }
      ]
    },
    {
      "cell_type": "code",
      "source": [
        "X = train_x\n",
        "y = train_y\n",
        "\n",
        "## define the model\n",
        "input_layer = Input(shape=(X.shape[1],))\n",
        "encoded = Dense(100, activation='tanh', activity_regularizer=regularizers.l1(10e-5))(input_layer)\n",
        "encoded = Dense(50, activation='relu')(encoded)\n",
        "decoded = Dense(50, activation='tanh')(encoded)\n",
        "decoded = Dense(100, activation='tanh')(decoded)\n",
        "output_layer = Dense(X.shape[1], activation='relu')(decoded)\n",
        "\n",
        "autoencoder = Model(input_layer, output_layer)\n",
        "autoencoder.compile(optimizer=\"adadelta\", loss=\"mse\", run_eagerly = True)"
      ],
      "metadata": {
        "id": "x1DYWJu3IQE5"
      },
      "execution_count": null,
      "outputs": []
    },
    {
      "cell_type": "code",
      "source": [
        "scaler = preprocessing.MinMaxScaler()\n",
        "scaler.fit(X.values)\n",
        "X_scale = scaler.transform(X.values)\n",
        "test_x_scale = scaler.transform(test.values)\n"
      ],
      "metadata": {
        "id": "qVyQEZGCKUPw"
      },
      "execution_count": null,
      "outputs": []
    },
    {
      "cell_type": "code",
      "source": [
        "x_perished, x_survived = X_scale[y == 0], X_scale[y == 1]\n"
      ],
      "metadata": {
        "id": "dTzeeowlLQJC"
      },
      "execution_count": null,
      "outputs": []
    },
    {
      "cell_type": "code",
      "source": [
        "autoencoder.fit(x_perished, x_perished, epochs = 20, shuffle = True)"
      ],
      "metadata": {
        "colab": {
          "base_uri": "https://localhost:8080/"
        },
        "id": "GzPsDZ7wKunz",
        "outputId": "a6b10706-2c8e-4ae6-e461-c30513686872"
      },
      "execution_count": null,
      "outputs": [
        {
          "output_type": "stream",
          "name": "stdout",
          "text": [
            "Epoch 1/20\n"
          ]
        },
        {
          "output_type": "stream",
          "name": "stderr",
          "text": [
            "WARNING:tensorflow:5 out of the last 5 calls to <function _BaseOptimizer._update_step_xla at 0x7fda49e30f70> triggered tf.function retracing. Tracing is expensive and the excessive number of tracings could be due to (1) creating @tf.function repeatedly in a loop, (2) passing tensors with different shapes, (3) passing Python objects instead of tensors. For (1), please define your @tf.function outside of the loop. For (2), @tf.function has reduce_retracing=True option that can avoid unnecessary retracing. For (3), please refer to https://www.tensorflow.org/guide/function#controlling_retracing and https://www.tensorflow.org/api_docs/python/tf/function for  more details.\n",
            "WARNING:tensorflow:6 out of the last 6 calls to <function _BaseOptimizer._update_step_xla at 0x7fda49e30f70> triggered tf.function retracing. Tracing is expensive and the excessive number of tracings could be due to (1) creating @tf.function repeatedly in a loop, (2) passing tensors with different shapes, (3) passing Python objects instead of tensors. For (1), please define your @tf.function outside of the loop. For (2), @tf.function has reduce_retracing=True option that can avoid unnecessary retracing. For (3), please refer to https://www.tensorflow.org/guide/function#controlling_retracing and https://www.tensorflow.org/api_docs/python/tf/function for  more details.\n"
          ]
        },
        {
          "output_type": "stream",
          "name": "stdout",
          "text": [
            "1116/1116 [==============================] - 38s 29ms/step - loss: 0.2253\n",
            "Epoch 2/20\n",
            "1116/1116 [==============================] - 33s 29ms/step - loss: 0.1443\n",
            "Epoch 3/20\n",
            "1116/1116 [==============================] - 32s 29ms/step - loss: 0.1008\n",
            "Epoch 4/20\n",
            "1116/1116 [==============================] - 33s 29ms/step - loss: 0.0875\n",
            "Epoch 5/20\n",
            "1116/1116 [==============================] - 32s 29ms/step - loss: 0.0835\n",
            "Epoch 6/20\n",
            "1116/1116 [==============================] - 33s 29ms/step - loss: 0.0808\n",
            "Epoch 7/20\n",
            "1116/1116 [==============================] - 32s 29ms/step - loss: 0.0786\n",
            "Epoch 8/20\n",
            "1116/1116 [==============================] - 32s 29ms/step - loss: 0.0764\n",
            "Epoch 9/20\n",
            "1116/1116 [==============================] - 32s 28ms/step - loss: 0.0744\n",
            "Epoch 10/20\n",
            "1116/1116 [==============================] - 33s 29ms/step - loss: 0.0725\n",
            "Epoch 11/20\n",
            "1116/1116 [==============================] - 32s 28ms/step - loss: 0.0706\n",
            "Epoch 12/20\n",
            "1116/1116 [==============================] - 32s 28ms/step - loss: 0.0688\n",
            "Epoch 13/20\n",
            "1116/1116 [==============================] - 32s 29ms/step - loss: 0.0671\n",
            "Epoch 14/20\n",
            "1116/1116 [==============================] - 32s 28ms/step - loss: 0.0654\n",
            "Epoch 15/20\n",
            "1116/1116 [==============================] - 32s 29ms/step - loss: 0.0638\n",
            "Epoch 16/20\n",
            "1116/1116 [==============================] - 31s 28ms/step - loss: 0.0623\n",
            "Epoch 17/20\n",
            "1116/1116 [==============================] - 32s 28ms/step - loss: 0.0608\n",
            "Epoch 18/20\n",
            "1116/1116 [==============================] - 31s 28ms/step - loss: 0.0593\n",
            "Epoch 19/20\n",
            "1116/1116 [==============================] - 31s 28ms/step - loss: 0.0580\n",
            "Epoch 20/20\n",
            "1116/1116 [==============================] - 32s 28ms/step - loss: 0.0567\n"
          ]
        },
        {
          "output_type": "execute_result",
          "data": {
            "text/plain": [
              "<keras.callbacks.History at 0x7fda49e4abf0>"
            ]
          },
          "metadata": {},
          "execution_count": 121
        }
      ]
    },
    {
      "cell_type": "code",
      "source": [
        "hidden_representation = Sequential()\n",
        "hidden_representation.add(autoencoder.layers[0])\n",
        "hidden_representation.add(autoencoder.layers[1])\n",
        "hidden_representation.add(autoencoder.layers[2])"
      ],
      "metadata": {
        "id": "YIa2LD6MLTBu"
      },
      "execution_count": null,
      "outputs": []
    },
    {
      "cell_type": "code",
      "source": [
        "perished_hid_rep = hidden_representation.predict(x_perished)\n",
        "survived_hid_rep = hidden_representation.predict(x_survived)\n",
        "\n",
        "rep_x = np.append(perished_hid_rep, survived_hid_rep, axis = 0)\n",
        "y_n = np.zeros(perished_hid_rep.shape[0])\n",
        "y_f = np.ones(survived_hid_rep.shape[0])\n",
        "rep_y = np.append(y_n, y_f)"
      ],
      "metadata": {
        "colab": {
          "base_uri": "https://localhost:8080/"
        },
        "id": "AqbtQIwmMGTx",
        "outputId": "be57e16f-d031-4a3d-8949-39845b321df7"
      },
      "execution_count": null,
      "outputs": [
        {
          "output_type": "stream",
          "name": "stdout",
          "text": [
            "1116/1116 [==============================] - 2s 2ms/step\n",
            "5213/5213 [==============================] - 7s 1ms/step\n"
          ]
        }
      ]
    },
    {
      "cell_type": "code",
      "source": [
        "train_x, val_x, train_y, val_y = train_test_split(rep_x, rep_y, test_size=0.25)\n",
        "clf = LogisticRegression().fit(train_x, train_y)\n",
        "pred_y = clf.predict(val_x)\n",
        "\n",
        "print (classification_report(val_y, pred_y))\n",
        "print (accuracy_score(val_y, pred_y))"
      ],
      "metadata": {
        "colab": {
          "base_uri": "https://localhost:8080/"
        },
        "id": "uvTxjD31MSLj",
        "outputId": "8d4a6788-a4c2-4a8a-f5ae-e052a14bf874"
      },
      "execution_count": null,
      "outputs": [
        {
          "output_type": "stream",
          "name": "stdout",
          "text": [
            "              precision    recall  f1-score   support\n",
            "\n",
            "         0.0       0.00      0.00      0.00      8842\n",
            "         1.0       0.83      1.00      0.90     41785\n",
            "\n",
            "    accuracy                           0.83     50627\n",
            "   macro avg       0.41      0.50      0.45     50627\n",
            "weighted avg       0.68      0.83      0.75     50627\n",
            "\n",
            "0.8253501096252988\n"
          ]
        },
        {
          "output_type": "stream",
          "name": "stderr",
          "text": [
            "/usr/local/lib/python3.10/dist-packages/sklearn/linear_model/_logistic.py:458: ConvergenceWarning: lbfgs failed to converge (status=1):\n",
            "STOP: TOTAL NO. of ITERATIONS REACHED LIMIT.\n",
            "\n",
            "Increase the number of iterations (max_iter) or scale the data as shown in:\n",
            "    https://scikit-learn.org/stable/modules/preprocessing.html\n",
            "Please also refer to the documentation for alternative solver options:\n",
            "    https://scikit-learn.org/stable/modules/linear_model.html#logistic-regression\n",
            "  n_iter_i = _check_optimize_result(\n",
            "/usr/local/lib/python3.10/dist-packages/sklearn/metrics/_classification.py:1344: UndefinedMetricWarning: Precision and F-score are ill-defined and being set to 0.0 in labels with no predicted samples. Use `zero_division` parameter to control this behavior.\n",
            "  _warn_prf(average, modifier, msg_start, len(result))\n",
            "/usr/local/lib/python3.10/dist-packages/sklearn/metrics/_classification.py:1344: UndefinedMetricWarning: Precision and F-score are ill-defined and being set to 0.0 in labels with no predicted samples. Use `zero_division` parameter to control this behavior.\n",
            "  _warn_prf(average, modifier, msg_start, len(result))\n",
            "/usr/local/lib/python3.10/dist-packages/sklearn/metrics/_classification.py:1344: UndefinedMetricWarning: Precision and F-score are ill-defined and being set to 0.0 in labels with no predicted samples. Use `zero_division` parameter to control this behavior.\n",
            "  _warn_prf(average, modifier, msg_start, len(result))\n"
          ]
        }
      ]
    },
    {
      "cell_type": "code",
      "source": [
        "test_rep_x.shape"
      ],
      "metadata": {
        "colab": {
          "base_uri": "https://localhost:8080/"
        },
        "id": "CuBTGtjAO098",
        "outputId": "6f46a747-1914-4859-b6c0-e21bd4439925"
      },
      "execution_count": null,
      "outputs": [
        {
          "output_type": "execute_result",
          "data": {
            "text/plain": [
              "(1000000, 50)"
            ]
          },
          "metadata": {},
          "execution_count": 130
        }
      ]
    },
    {
      "cell_type": "code",
      "source": [
        "test_rep_x = hidden_representation.predict(test_x_scale)\n"
      ],
      "metadata": {
        "colab": {
          "base_uri": "https://localhost:8080/"
        },
        "id": "uOA84kJJOGXy",
        "outputId": "4236e943-c9b8-4b62-8573-38f71e3a45d9"
      },
      "execution_count": null,
      "outputs": [
        {
          "output_type": "stream",
          "name": "stdout",
          "text": [
            "31250/31250 [==============================] - 45s 1ms/step\n"
          ]
        }
      ]
    },
    {
      "cell_type": "code",
      "source": [
        "temp = clf.predict_proba(test_rep_x)\n",
        "temp"
      ],
      "metadata": {
        "colab": {
          "base_uri": "https://localhost:8080/"
        },
        "id": "J5IY5OBnPe55",
        "outputId": "62c1a228-9278-473d-f5f6-e15fa6912663"
      },
      "execution_count": null,
      "outputs": [
        {
          "output_type": "execute_result",
          "data": {
            "text/plain": [
              "array([[0.16097187, 0.83902813],\n",
              "       [0.20129108, 0.79870892],\n",
              "       [0.2167734 , 0.7832266 ],\n",
              "       ...,\n",
              "       [0.23122836, 0.76877164],\n",
              "       [0.10070375, 0.89929625],\n",
              "       [0.14296672, 0.85703328]])"
            ]
          },
          "metadata": {},
          "execution_count": 132
        }
      ]
    },
    {
      "cell_type": "code",
      "source": [
        "temp.shape"
      ],
      "metadata": {
        "colab": {
          "base_uri": "https://localhost:8080/"
        },
        "id": "DN2J8JOeQAbq",
        "outputId": "283ceb61-e9d1-4c95-8753-001048b4858d"
      },
      "execution_count": null,
      "outputs": [
        {
          "output_type": "execute_result",
          "data": {
            "text/plain": [
              "(1000000, 2)"
            ]
          },
          "metadata": {},
          "execution_count": 133
        }
      ]
    },
    {
      "cell_type": "code",
      "source": [
        "submission = pd.DataFrame(data=temp, columns=sample_submission.columns, index=sample_submission.index)\n",
        "submission.to_csv('submission_autoencoder.csv', index=True)"
      ],
      "metadata": {
        "id": "2sVUaCekOKPB"
      },
      "execution_count": null,
      "outputs": []
    },
    {
      "cell_type": "code",
      "source": [
        "RF = RandomForestClassifier(criterion = 'log_loss', n_estimators = 200, max_depth = 20)\n",
        "ada = AdaBoostClassifier(n_estimators = 200)\n",
        "LR = LogisticRegression()\n",
        "#SGD = SGDClassifier(loss = 'log_loss')\n",
        "XGB =xgb.XGBClassifier(n_estimators=200, max_depth=6)\n",
        "LGBM = LGBMClassifier(n_estimators=200, max_depth = 15, min_child_samples = 40)\n",
        "NB = GaussianNB()\n",
        "\n",
        "\n",
        "ensemble_model_2 = VotingClassifier(estimators=[\n",
        "            ('rf', RF), ('ada', ada), ('lr', LR),  ('XGB', XGB), ('LGBM', LGBM), ('NB', NB)], voting='soft')\n"
      ],
      "metadata": {
        "id": "bWqogtmBQPtL"
      },
      "execution_count": null,
      "outputs": []
    },
    {
      "cell_type": "code",
      "source": [
        "ensemble_model_2 = ensemble_model_2.fit(train_x, train_y)"
      ],
      "metadata": {
        "colab": {
          "base_uri": "https://localhost:8080/"
        },
        "id": "ZzBLZKVxR_oJ",
        "outputId": "010b21d6-3e65-4caa-eb01-641320cd900f"
      },
      "execution_count": null,
      "outputs": [
        {
          "output_type": "stream",
          "name": "stderr",
          "text": [
            "/usr/local/lib/python3.10/dist-packages/sklearn/linear_model/_logistic.py:458: ConvergenceWarning: lbfgs failed to converge (status=1):\n",
            "STOP: TOTAL NO. of ITERATIONS REACHED LIMIT.\n",
            "\n",
            "Increase the number of iterations (max_iter) or scale the data as shown in:\n",
            "    https://scikit-learn.org/stable/modules/preprocessing.html\n",
            "Please also refer to the documentation for alternative solver options:\n",
            "    https://scikit-learn.org/stable/modules/linear_model.html#logistic-regression\n",
            "  n_iter_i = _check_optimize_result(\n"
          ]
        }
      ]
    },
    {
      "cell_type": "code",
      "source": [
        "temp = clf.predict_proba(test_rep_x)\n",
        "temp"
      ],
      "metadata": {
        "colab": {
          "base_uri": "https://localhost:8080/"
        },
        "id": "jeT6v0B0SDCs",
        "outputId": "e4497ba0-3238-4ba5-8070-738e25daed1d"
      },
      "execution_count": null,
      "outputs": [
        {
          "output_type": "execute_result",
          "data": {
            "text/plain": [
              "array([[0.16097187, 0.83902813],\n",
              "       [0.20129108, 0.79870892],\n",
              "       [0.2167734 , 0.7832266 ],\n",
              "       ...,\n",
              "       [0.23122836, 0.76877164],\n",
              "       [0.10070375, 0.89929625],\n",
              "       [0.14296672, 0.85703328]])"
            ]
          },
          "metadata": {},
          "execution_count": 137
        }
      ]
    },
    {
      "cell_type": "code",
      "source": [
        "submission = pd.DataFrame(data=temp, columns=sample_submission.columns, index=sample_submission.index)\n",
        "submission.to_csv('submission_ensemble_autoencoder.csv', index=True)"
      ],
      "metadata": {
        "id": "ePrubBjTSHpR"
      },
      "execution_count": null,
      "outputs": []
    },
    {
      "cell_type": "code",
      "source": [],
      "metadata": {
        "id": "MJrDFH49SiH2"
      },
      "execution_count": null,
      "outputs": []
    }
  ],
  "metadata": {
    "accelerator": "GPU",
    "colab": {
      "provenance": []
    },
    "gpuClass": "standard",
    "kernelspec": {
      "display_name": "Python 3",
      "name": "python3"
    },
    "language_info": {
      "name": "python"
    }
  },
  "nbformat": 4,
  "nbformat_minor": 0
}